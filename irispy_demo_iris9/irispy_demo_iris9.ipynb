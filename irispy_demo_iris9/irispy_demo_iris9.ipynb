{
 "cells": [
  {
   "cell_type": "markdown",
   "metadata": {},
   "source": [
    "# IRISpy Demo for IRIS-9 2018"
   ]
  },
  {
   "cell_type": "markdown",
   "metadata": {},
   "source": [
    "This notebook outlines the current functionality of IRISpy for the IRIS-9 workshop. To execute code cells, press SHIFT + ENTER.\n",
    "\n",
    "__N.B. You must have IRISpy installed to work with this tutorial.  For install instructions, see http://docs.sunpy.org/projects/irispy/en/latest/installation.html __\n",
    "\n",
    "__During the IRIS-9 Workshop (2018-06-25), this notebook was run with the Development Dependendcies Install (http://docs.sunpy.org/projects/irispy/en/latest/installation.html#development-dependencies-install ).  Runnin it with the Stable Dependencies Install should still be valid but you may encounter slightly different behaviour.__\n",
    "\n",
    "__WARNING__: *The IRISpy is still under heavy development and could change at any time.  However, we are striving towards a stable release.*\n",
    "\n",
    "To get involved, check out http://docs.sunpy.org/projects/irispy/en/latest/"
   ]
  },
  {
   "cell_type": "code",
   "execution_count": 1,
   "metadata": {},
   "outputs": [],
   "source": [
    "# Import some packages to help us display plots and handle physical units\n",
    "import matplotlib.pyplot as plt\n",
    "import astropy.units as u"
   ]
  },
  {
   "cell_type": "code",
   "execution_count": 2,
   "metadata": {},
   "outputs": [],
   "source": [
    "# Set matplotlib setting so that plots are displayed as active windows within notebook.\n",
    "# Be sure to close the active window by clicking the blue button at the top right of the plot window \n",
    "# before trying to plot a new window.\n",
    "% matplotlib notebook"
   ]
  },
  {
   "cell_type": "markdown",
   "metadata": {},
   "source": [
    "## Spectrograph Data"
   ]
  },
  {
   "cell_type": "markdown",
   "metadata": {},
   "source": [
    "### Reading in FITS files."
   ]
  },
  {
   "cell_type": "markdown",
   "metadata": {},
   "source": [
    "IRISpy provides easy-to-use reader functions to read in SJI and spectrograph files.  Simply supply a filename or ist of filenames."
   ]
  },
  {
   "cell_type": "code",
   "execution_count": 3,
   "metadata": {},
   "outputs": [],
   "source": [
    "from irispy.spectrograph import read_iris_spectrograph_level2_fits"
   ]
  },
  {
   "cell_type": "code",
   "execution_count": 4,
   "metadata": {},
   "outputs": [],
   "source": [
    "# Define spectrograph filenames by entering strings inside the empty list below.\n",
    "sg_files = [\"iris_l2_20180617_032355_3690215148_raster_t000_r00000.fits\",\n",
    "            \"iris_l2_20180617_032355_3690215148_raster_t000_r00001.fits\"]"
   ]
  },
  {
   "cell_type": "code",
   "execution_count": 6,
   "metadata": {},
   "outputs": [
    {
     "name": "stderr",
     "output_type": "stream",
     "text": [
      "/Users/Danny/sunpy_dev/irispy/irispy/spectrograph.py:612: RuntimeWarning: invalid value encountered in sqrt\n",
      "  readout_noise.to(u.photon).value**2), unit=u.photon).to(DN_unit).value\n"
     ]
    },
    {
     "name": "stdout",
     "output_type": "stream",
     "text": [
      "INFO: uncertainty should have attribute uncertainty_type. [astropy.nddata.nddata]\n",
      "INFO: uncertainty should have attribute uncertainty_type. [astropy.nddata.nddata]\n",
      "INFO: uncertainty should have attribute uncertainty_type. [astropy.nddata.nddata]\n",
      "INFO: uncertainty should have attribute uncertainty_type. [astropy.nddata.nddata]\n",
      "INFO: uncertainty should have attribute uncertainty_type. [astropy.nddata.nddata]\n",
      "INFO: uncertainty should have attribute uncertainty_type. [astropy.nddata.nddata]\n"
     ]
    }
   ],
   "source": [
    "# Read in spectrograph data from FITS files to an IRISSpectrograph object.\n",
    "my_sg = read_iris_spectrograph_level2_fits(sg_files)"
   ]
  },
  {
   "cell_type": "markdown",
   "metadata": {},
   "source": [
    "### Structure of the Spectrograph Data Classes"
   ]
  },
  {
   "cell_type": "code",
   "execution_count": 7,
   "metadata": {},
   "outputs": [
    {
     "data": {
      "text/plain": [
       "<iris.IRISSpectrograph instance\n",
       "OBS ID: 3690215148\n",
       "OBS Description: Large sparse 32-step raster 31x120 32s  C II   Si IV   Mg II h/k Dee\n",
       "OBS Period: 2018-06-17 03:24:47.560000 -- 04:29:24.084000\n",
       "Instance period: 2018-06-17 03:23:55.731000 -- 04:28:22.801000\n",
       "OBS Number unique raster positions: 32\n",
       "Spectral windows: dimensions [repeats axis, raster axis, slit axis, spectral axis]:\n",
       "      C II 1336 : [2, 32, 198, 512]    pix\n",
       "     Si IV 1394 : [2, 32, 198, 509]    pix\n",
       "   Mg II k 2796 : [2, 32, 198, 507]    pix>"
      ]
     },
     "execution_count": 7,
     "metadata": {},
     "output_type": "execute_result"
    }
   ],
   "source": [
    "my_sg"
   ]
  },
  {
   "cell_type": "markdown",
   "metadata": {},
   "source": [
    "A summary of the spectral windows in the ```IRISSpectrograph``` object can be obtained from the ```spectral_windows``` property."
   ]
  },
  {
   "cell_type": "code",
   "execution_count": 8,
   "metadata": {},
   "outputs": [
    {
     "data": {
      "text/html": [
       "<i>Table length=3</i>\n",
       "<table id=\"table47806144016\" class=\"table-striped table-bordered table-condensed\">\n",
       "<thead><tr><th>spectral window</th><th>detector type</th><th>brightest wavelength</th><th>min wavelength</th><th>max wavelength</th></tr></thead>\n",
       "<thead><tr><th>str12</th><th>str4</th><th>float64</th><th>float64</th><th>float64</th></tr></thead>\n",
       "<tr><td>C II 1336</td><td>FUV1</td><td>1335.70996094</td><td>1331.70275015</td><td>1358.23387039</td></tr>\n",
       "<tr><td>Si IV 1394</td><td>FUV2</td><td>1393.7800293</td><td>1380.78478787</td><td>1406.63182787</td></tr>\n",
       "<tr><td>Mg II k 2796</td><td>NUV</td><td>2796.19995117</td><td>2783.44959696</td><td>2834.98063538</td></tr>\n",
       "</table>"
      ],
      "text/plain": [
       "<Table length=3>\n",
       "spectral window detector type brightest wavelength min wavelength max wavelength\n",
       "     str12           str4           float64           float64        float64    \n",
       "--------------- ------------- -------------------- -------------- --------------\n",
       "      C II 1336          FUV1        1335.70996094  1331.70275015  1358.23387039\n",
       "     Si IV 1394          FUV2         1393.7800293  1380.78478787  1406.63182787\n",
       "   Mg II k 2796           NUV        2796.19995117  2783.44959696  2834.98063538"
      ]
     },
     "execution_count": 8,
     "metadata": {},
     "output_type": "execute_result"
    }
   ],
   "source": [
    "my_sg.spectral_windows"
   ]
  },
  {
   "cell_type": "markdown",
   "metadata": {},
   "source": [
    "Data from different spectral windows is contained in the ```.data``` attribute, which is indexed by the spectral window name.  Let's focus on the ```C II``` window."
   ]
  },
  {
   "cell_type": "code",
   "execution_count": 9,
   "metadata": {},
   "outputs": [],
   "source": [
    "my_cii = my_sg.data[\"C II 1336\"]"
   ]
  },
  {
   "cell_type": "code",
   "execution_count": 10,
   "metadata": {},
   "outputs": [
    {
     "data": {
      "text/plain": [
       "IRISSpectrogramCubeSequence\n",
       "---------------------\n",
       "OBS ID: 3690215148\n",
       "OBS Description: Large sparse 32-step raster 31x120 32s  C II   Si IV   Mg II h/k Dee\n",
       "OBS period: 2018-06-17 03:24:47.560000 -- 2018-06-17 04:29:24.084000\n",
       "\n",
       "Sequence period: 2018-06-17 03:23:55.731000 -- 2018-06-17 04:28:22.801000\n",
       "Sequence Shape: (<Quantity 2. pix>, <Quantity 32. pix>, <Quantity 198. pix>, <Quantity 512. pix>)\n",
       "Axis Types: ('meta.obs.sequence', 'custom:pos.helioprojective.lon', 'custom:pos.helioprojective.lat', 'em.wl')\n"
      ]
     },
     "execution_count": 10,
     "metadata": {},
     "output_type": "execute_result"
    }
   ],
   "source": [
    "my_cii"
   ]
  },
  {
   "cell_type": "markdown",
   "metadata": {},
   "source": [
    "The ```IRISSpectrogramCubeSequence``` is a sequence of data cubes, each representing one raster scan.  Each raster cube is represented by an ```IRISSpectrogramCube```.  Let's extract the 0th scan."
   ]
  },
  {
   "cell_type": "code",
   "execution_count": 11,
   "metadata": {},
   "outputs": [],
   "source": [
    "my_cii_scan0 = my_cii[0]"
   ]
  },
  {
   "cell_type": "code",
   "execution_count": 12,
   "metadata": {},
   "outputs": [
    {
     "data": {
      "text/plain": [
       "IRISSpectrogramCube\n",
       "---------------------\n",
       "OBS ID: 3690215148\n",
       "OBS Description: Large sparse 32-step raster 31x120 32s  C II   Si IV   Mg II h/k Dee\n",
       "OBS period: 2018-06-17 03:24:47.560000 -- 2018-06-17 04:29:24.084000\n",
       "\n",
       "Spectrogram period: (datetime.datetime(2018, 6, 17, 3, 23, 55, 731000),) -- 2018-06-17 03:55:38.591000\n",
       "Data shape: [ 32. 198. 512.] pix\n",
       "Axis Types: ('custom:pos.helioprojective.lon', 'custom:pos.helioprojective.lat', 'em.wl')"
      ]
     },
     "execution_count": 12,
     "metadata": {},
     "output_type": "execute_result"
    }
   ],
   "source": [
    "my_cii_scan0"
   ]
  },
  {
   "cell_type": "markdown",
   "metadata": {},
   "source": [
    "Each ```IRISSpectrogramCube``` combines __data__, __WCS tranformations__, __uncertainties__ (calculated on intialisation), data __unit__ and data __mask__ (identifying bad or non-exposed pixels), __metadata__ and __auxiliary data__ (e.g. measurement times, exposure times)."
   ]
  },
  {
   "cell_type": "code",
   "execution_count": 13,
   "metadata": {},
   "outputs": [
    {
     "data": {
      "text/plain": [
       "array([[[-200.  , -200.  , -200.  , ..., -200.  , -200.  , -200.  ],\n",
       "        [-200.  , -200.  , -200.  , ..., -200.  , -200.  , -200.  ],\n",
       "        [-200.  , -200.  , -200.  , ..., -200.  , -200.  , -200.  ],\n",
       "        ...,\n",
       "        [ 213.  ,   69.25,   72.  , ...,   20.  ,   25.25, -200.  ],\n",
       "        [ 184.  ,  108.  ,   88.25, ..., -200.  , -200.  , -200.  ],\n",
       "        [-200.  , -200.  , -200.  , ..., -200.  , -200.  , -200.  ]],\n",
       "\n",
       "       [[-200.  , -200.  , -200.  , ..., -200.  , -200.  , -200.  ],\n",
       "        [-200.  , -200.  , -200.  , ..., -200.  , -200.  , -200.  ],\n",
       "        [-200.  , -200.  , -200.  , ..., -200.  , -200.  , -200.  ],\n",
       "        ...,\n",
       "        [ 224.  ,  100.75,  134.5 , ...,   11.75,   38.5 , -200.  ],\n",
       "        [-200.  ,  103.25,   98.25, ..., -200.  , -200.  , -200.  ],\n",
       "        [-200.  , -200.  , -200.  , ..., -200.  , -200.  , -200.  ]],\n",
       "\n",
       "       [[-200.  , -200.  , -200.  , ..., -200.  , -200.  , -200.  ],\n",
       "        [-200.  , -200.  , -200.  , ..., -200.  , -200.  , -200.  ],\n",
       "        [-200.  , -200.  , -200.  , ..., -200.  , -200.  , -200.  ],\n",
       "        ...,\n",
       "        [ 183.25,   99.5 ,   99.5 , ...,   12.5 ,   12.  , -200.  ],\n",
       "        [-200.  ,  108.5 ,  102.75, ..., -200.  , -200.  , -200.  ],\n",
       "        [-200.  , -200.  , -200.  , ..., -200.  , -200.  , -200.  ]],\n",
       "\n",
       "       ...,\n",
       "\n",
       "       [[-200.  , -200.  , -200.  , ..., -200.  , -200.  , -200.  ],\n",
       "        [-200.  , -200.  , -200.  , ..., -200.  , -200.  , -200.  ],\n",
       "        [-200.  , -200.  , -200.  , ..., -200.  , -200.  , -200.  ],\n",
       "        ...,\n",
       "        [-200.  ,   99.75,   95.75, ...,   20.  ,   35.  , -200.  ],\n",
       "        [-200.  ,  122.5 ,   84.  , ..., -200.  , -200.  , -200.  ],\n",
       "        [-200.  , -200.  , -200.  , ..., -200.  , -200.  , -200.  ]],\n",
       "\n",
       "       [[-200.  , -200.  , -200.  , ..., -200.  , -200.  , -200.  ],\n",
       "        [-200.  , -200.  , -200.  , ..., -200.  , -200.  , -200.  ],\n",
       "        [-200.  , -200.  , -200.  , ..., -200.  , -200.  , -200.  ],\n",
       "        ...,\n",
       "        [-200.  ,  128.25,   99.5 , ...,   18.5 ,   42.  , -200.  ],\n",
       "        [-200.  ,  136.25,  112.5 , ..., -200.  , -200.  , -200.  ],\n",
       "        [-200.  , -200.  , -200.  , ..., -200.  , -200.  , -200.  ]],\n",
       "\n",
       "       [[-200.  , -200.  , -200.  , ..., -200.  , -200.  , -200.  ],\n",
       "        [-200.  , -200.  , -200.  , ..., -200.  , -200.  , -200.  ],\n",
       "        [-200.  , -200.  , -200.  , ..., -200.  , -200.  , -200.  ],\n",
       "        ...,\n",
       "        [-200.  ,  126.25,   82.25, ...,   41.75,   23.25, -200.  ],\n",
       "        [-200.  ,  119.  ,   94.75, ..., -200.  , -200.  , -200.  ],\n",
       "        [-200.  , -200.  , -200.  , ..., -200.  , -200.  , -200.  ]]],\n",
       "      dtype=float32)"
      ]
     },
     "execution_count": 13,
     "metadata": {},
     "output_type": "execute_result"
    }
   ],
   "source": [
    "my_cii_scan0.data \n",
    "\n",
    "# Note that that pixels with -200 DN are not exposed."
   ]
  },
  {
   "cell_type": "code",
   "execution_count": 14,
   "metadata": {},
   "outputs": [
    {
     "data": {
      "text/plain": [
       "UnknownUncertainty([[[      nan,       nan,       nan, ...,       nan,\n",
       "                            nan,       nan],\n",
       "                     [      nan,       nan,       nan, ...,       nan,\n",
       "                            nan,       nan],\n",
       "                     [      nan,       nan,       nan, ...,       nan,\n",
       "                            nan,       nan],\n",
       "                     ...,\n",
       "                     [7.92843  , 5.1886897, 5.254522 , ..., 3.8223028,\n",
       "                      3.9903007,       nan],\n",
       "                     [7.4572115, 6.05062  , 5.627833 , ...,       nan,\n",
       "                            nan,       nan],\n",
       "                     [      nan,       nan,       nan, ...,       nan,\n",
       "                            nan,       nan]],\n",
       "\n",
       "                    [[      nan,       nan,       nan, ...,       nan,\n",
       "                            nan,       nan],\n",
       "                     [      nan,       nan,       nan, ...,       nan,\n",
       "                            nan,       nan],\n",
       "                     [      nan,       nan,       nan, ...,       nan,\n",
       "                            nan,       nan],\n",
       "                     ...,\n",
       "                     [8.1      , 5.8989406, 6.5753326, ..., 3.542245 ,\n",
       "                      4.3857727,       nan],\n",
       "                     [      nan, 5.9516807, 5.845725 , ...,       nan,\n",
       "                            nan,       nan],\n",
       "                     [      nan,       nan,       nan, ...,       nan,\n",
       "                            nan,       nan]],\n",
       "\n",
       "                    [[      nan,       nan,       nan, ...,       nan,\n",
       "                            nan,       nan],\n",
       "                     [      nan,       nan,       nan, ...,       nan,\n",
       "                            nan,       nan],\n",
       "                     [      nan,       nan,       nan, ...,       nan,\n",
       "                            nan,       nan],\n",
       "                     ...,\n",
       "                     [7.444629 , 5.872393 , 5.872393 , ..., 3.568613 ,\n",
       "                      3.5510561,       nan],\n",
       "                     [      nan, 6.0609407, 5.9411697, ...,       nan,\n",
       "                            nan,       nan],\n",
       "                     [      nan,       nan,       nan, ...,       nan,\n",
       "                            nan,       nan]],\n",
       "\n",
       "                    ...,\n",
       "\n",
       "                    [[      nan,       nan,       nan, ...,       nan,\n",
       "                            nan,       nan],\n",
       "                     [      nan,       nan,       nan, ...,       nan,\n",
       "                            nan,       nan],\n",
       "                     [      nan,       nan,       nan, ...,       nan,\n",
       "                            nan,       nan],\n",
       "                     ...,\n",
       "                     [      nan, 5.8777122, 5.7920203, ..., 3.8223028,\n",
       "                      4.2848573,       nan],\n",
       "                     [      nan, 6.3431067, 5.5326304, ...,       nan,\n",
       "                            nan,       nan],\n",
       "                     [      nan,       nan,       nan, ...,       nan,\n",
       "                            nan,       nan]],\n",
       "\n",
       "                    [[      nan,       nan,       nan, ...,       nan,\n",
       "                            nan,       nan],\n",
       "                     [      nan,       nan,       nan, ...,       nan,\n",
       "                            nan,       nan],\n",
       "                     [      nan,       nan,       nan, ...,       nan,\n",
       "                            nan,       nan],\n",
       "                     ...,\n",
       "                     [      nan, 6.4554243, 5.872393 , ..., 3.77293  ,\n",
       "                      4.4844174,       nan],\n",
       "                     [      nan, 6.608517 , 6.1428823, ...,       nan,\n",
       "                            nan,       nan],\n",
       "                     [      nan,       nan,       nan, ...,       nan,\n",
       "                            nan,       nan]],\n",
       "\n",
       "                    [[      nan,       nan,       nan, ...,       nan,\n",
       "                            nan,       nan],\n",
       "                     [      nan,       nan,       nan, ...,       nan,\n",
       "                            nan,       nan],\n",
       "                     [      nan,       nan,       nan, ...,       nan,\n",
       "                            nan,       nan],\n",
       "                     ...,\n",
       "                     [      nan, 6.41658  , 5.49295  , ..., 4.4774437,\n",
       "                      3.927149 ,       nan],\n",
       "                     [      nan, 6.273755 , 5.7703986, ...,       nan,\n",
       "                            nan,       nan],\n",
       "                     [      nan,       nan,       nan, ...,       nan,\n",
       "                            nan,       nan]]])"
      ]
     },
     "execution_count": 14,
     "metadata": {},
     "output_type": "execute_result"
    }
   ],
   "source": [
    "my_cii_scan0.uncertainty\n",
    "\n",
    "# Uncertainties are derived from counting statistics and readout noise of relevant detector.\n",
    "# Unexposed pixels will not have valid uncertainties."
   ]
  },
  {
   "cell_type": "code",
   "execution_count": 15,
   "metadata": {},
   "outputs": [
    {
     "data": {
      "text/plain": [
       "array([[[ True,  True,  True, ...,  True,  True,  True],\n",
       "        [ True,  True,  True, ...,  True,  True,  True],\n",
       "        [ True,  True,  True, ...,  True,  True,  True],\n",
       "        ...,\n",
       "        [False, False, False, ..., False, False,  True],\n",
       "        [False, False, False, ...,  True,  True,  True],\n",
       "        [ True,  True,  True, ...,  True,  True,  True]],\n",
       "\n",
       "       [[ True,  True,  True, ...,  True,  True,  True],\n",
       "        [ True,  True,  True, ...,  True,  True,  True],\n",
       "        [ True,  True,  True, ...,  True,  True,  True],\n",
       "        ...,\n",
       "        [False, False, False, ..., False, False,  True],\n",
       "        [ True, False, False, ...,  True,  True,  True],\n",
       "        [ True,  True,  True, ...,  True,  True,  True]],\n",
       "\n",
       "       [[ True,  True,  True, ...,  True,  True,  True],\n",
       "        [ True,  True,  True, ...,  True,  True,  True],\n",
       "        [ True,  True,  True, ...,  True,  True,  True],\n",
       "        ...,\n",
       "        [False, False, False, ..., False, False,  True],\n",
       "        [ True, False, False, ...,  True,  True,  True],\n",
       "        [ True,  True,  True, ...,  True,  True,  True]],\n",
       "\n",
       "       ...,\n",
       "\n",
       "       [[ True,  True,  True, ...,  True,  True,  True],\n",
       "        [ True,  True,  True, ...,  True,  True,  True],\n",
       "        [ True,  True,  True, ...,  True,  True,  True],\n",
       "        ...,\n",
       "        [ True, False, False, ..., False, False,  True],\n",
       "        [ True, False, False, ...,  True,  True,  True],\n",
       "        [ True,  True,  True, ...,  True,  True,  True]],\n",
       "\n",
       "       [[ True,  True,  True, ...,  True,  True,  True],\n",
       "        [ True,  True,  True, ...,  True,  True,  True],\n",
       "        [ True,  True,  True, ...,  True,  True,  True],\n",
       "        ...,\n",
       "        [ True, False, False, ..., False, False,  True],\n",
       "        [ True, False, False, ...,  True,  True,  True],\n",
       "        [ True,  True,  True, ...,  True,  True,  True]],\n",
       "\n",
       "       [[ True,  True,  True, ...,  True,  True,  True],\n",
       "        [ True,  True,  True, ...,  True,  True,  True],\n",
       "        [ True,  True,  True, ...,  True,  True,  True],\n",
       "        ...,\n",
       "        [ True, False, False, ..., False, False,  True],\n",
       "        [ True, False, False, ...,  True,  True,  True],\n",
       "        [ True,  True,  True, ...,  True,  True,  True]]])"
      ]
     },
     "execution_count": 15,
     "metadata": {},
     "output_type": "execute_result"
    }
   ],
   "source": [
    "my_cii_scan0.mask # True means pixel IS masked, i.e. data is not good."
   ]
  },
  {
   "cell_type": "markdown",
   "metadata": {},
   "source": [
    "__N.B.__ Note that here, the value of the mask is True if the data is masked, i.e. the data is bad."
   ]
  },
  {
   "cell_type": "code",
   "execution_count": 19,
   "metadata": {},
   "outputs": [
    {
     "data": {
      "text/latex": [
       "$\\mathrm{DN\\_IRIS\\_FUV}$"
      ],
      "text/plain": [
       "Unit(\"DN_IRIS_FUV\")"
      ]
     },
     "execution_count": 19,
     "metadata": {},
     "output_type": "execute_result"
    }
   ],
   "source": [
    "my_cii_scan0.unit\n",
    "\n",
    "# This is an astropy unit.  See further down this notebook for more discussion of astropy units and quantities."
   ]
  },
  {
   "cell_type": "code",
   "execution_count": 20,
   "metadata": {},
   "outputs": [
    {
     "data": {
      "text/plain": [
       "WCS Keywords\n",
       "\n",
       "Number of WCS axes: 3\n",
       "CTYPE : 'WAVE'  'HPLT-TAN'  'HPLN-TAN'  \n",
       "CRVAL : 1.3317027501499999e-07  0.017160277777777778  -0.06315749999999999  \n",
       "CRPIX : 1.0  99.5  16.0  \n",
       "PC1_1 PC1_2 PC1_3  : 1.0  0.0  0.0  \n",
       "PC2_1 PC2_2 PC2_3  : 0.0  0.999935984612  -0.016905497955  \n",
       "PC3_1 PC3_2 PC3_3  : 0.0  0.00751927678007  0.999935984612  \n",
       "CDELT : 5.192000046370001e-12  0.00018483333333333332  0.0002771444987225  \n",
       "NAXIS : 512  198  32"
      ]
     },
     "execution_count": 20,
     "metadata": {},
     "output_type": "execute_result"
    }
   ],
   "source": [
    "# The WCS object contains all the information on the transformations between pixel and real world coordinates.\n",
    "my_cii_scan0.wcs"
   ]
  },
  {
   "cell_type": "code",
   "execution_count": 21,
   "metadata": {},
   "outputs": [
    {
     "data": {
      "text/plain": [
       "{'SAT_ROT': <Quantity 2.0213e-06 deg>,\n",
       " 'DATE_OBS': datetime.datetime(2018, 6, 17, 3, 23, 55, 731000),\n",
       " 'DATE_END': datetime.datetime(2018, 6, 17, 3, 56, 30, 520000),\n",
       " 'HLZ': False,\n",
       " 'SAA': False,\n",
       " 'DSUN_OBS': <Quantity 1.5198e+11 m>,\n",
       " 'IAECEVFL': 'NO',\n",
       " 'IAECFLAG': 'NO',\n",
       " 'IAECFLFL': 'NO',\n",
       " 'KEYWDDOC': 'http://www.lmsal.com/iris_science/irisfitskeywords.pdf',\n",
       " 'detector type': 'FUV1',\n",
       " 'spectral window': 'C II 1336',\n",
       " 'OBSID': '3690215148',\n",
       " 'OBS_DESC': 'Large sparse 32-step raster 31x120 32s  C II   Si IV   Mg II h/k Dee',\n",
       " 'STARTOBS': datetime.datetime(2018, 6, 17, 3, 24, 47, 560000),\n",
       " 'ENDOBS': datetime.datetime(2018, 6, 17, 4, 29, 24, 84000)}"
      ]
     },
     "execution_count": 21,
     "metadata": {},
     "output_type": "execute_result"
    }
   ],
   "source": [
    "# Metadata cn be found in the meta attribute.\n",
    "my_cii_scan0.meta"
   ]
  },
  {
   "cell_type": "markdown",
   "metadata": {},
   "source": [
    "Auxiliary data, like measurement times, exposure times, etc., are held in the extra_coords property.  The data are stored as entries in a dictionary.  To see the types of auxiliary data included, use the standard ```keys``` methods of Python dictionaries."
   ]
  },
  {
   "cell_type": "code",
   "execution_count": 22,
   "metadata": {},
   "outputs": [
    {
     "data": {
      "text/plain": [
       "dict_keys(['time', 'raster position', 'pztx', 'pzty', 'xcenix', 'ycenix', 'obs_vrix', 'ophaseix', 'exposure time'])"
      ]
     },
     "execution_count": 22,
     "metadata": {},
     "output_type": "execute_result"
    }
   ],
   "source": [
    "my_cii_scan0.extra_coords.keys()"
   ]
  },
  {
   "cell_type": "markdown",
   "metadata": {},
   "source": [
    "Each entry, e.g. ```'exposure time'``` is itself a dictionary."
   ]
  },
  {
   "cell_type": "code",
   "execution_count": 26,
   "metadata": {},
   "outputs": [
    {
     "data": {
      "text/plain": [
       "{'axis': 0,\n",
       " 'value': <Quantity [59.99890137, 59.99891281, 59.99891281, 59.99890518, 59.99892044,\n",
       "            59.998909  , 59.99890137, 59.99888992, 59.99890137, 59.99891281,\n",
       "            59.99891281, 59.99891281, 59.99891281, 59.99888611, 59.99891281,\n",
       "            59.998909  , 59.99891281, 59.99890137, 59.99888992, 59.99891281,\n",
       "            59.99891663, 59.99891281, 59.99890137, 59.99888611, 59.99891663,\n",
       "            59.99890137, 59.99890518, 59.99890518, 59.99889755, 59.99890518,\n",
       "            59.99888992, 59.99892044] s>}"
      ]
     },
     "execution_count": 26,
     "metadata": {},
     "output_type": "execute_result"
    }
   ],
   "source": [
    "my_cii_scan0.extra_coords[\"exposure time\"]"
   ]
  },
  {
   "cell_type": "markdown",
   "metadata": {},
   "source": [
    "The first key in the exposure time dictionary is ```axis``` which gives the data axis of ```my_cii_scan0``` to which exposure time corresponds. Here were can see it is zero. The second key is ```value``` which gives the exposure time value at each pixel along the axis. So we can see that the number of exposure times equals the length of the 0th axis."
   ]
  },
  {
   "cell_type": "code",
   "execution_count": 27,
   "metadata": {},
   "outputs": [
    {
     "name": "stdout",
     "output_type": "stream",
     "text": [
      "Number of exposure times = 32\n",
      "Length of axis = 32.0 pix\n"
     ]
    }
   ],
   "source": [
    "print(\"Number of exposure times = {0}\\nLength of axis = {1}\".format(\n",
    "    len(my_cii_scan0.extra_coords[\"exposure time\"][\"value\"]),\n",
    "    my_cii_scan0.dimensions[my_cii_scan0.extra_coords[\"exposure time\"][\"axis\"]]))"
   ]
  },
  {
   "cell_type": "markdown",
   "metadata": {},
   "source": [
    "### IRIS Data Manipulation"
   ]
  },
  {
   "cell_type": "markdown",
   "metadata": {},
   "source": [
    "#### Exposure Time Correction"
   ]
  },
  {
   "cell_type": "markdown",
   "metadata": {},
   "source": [
    "We can apply exposure time corrections and convert the units of our data between DN, photons and radiance with ease in IRISpy.\n",
    "\n",
    "If you want to see how this is done, just look at the source code either on GitHub or on your local machine.  __IRISpy is open-source!__"
   ]
  },
  {
   "cell_type": "markdown",
   "metadata": {},
   "source": [
    "#### Apply exposure time correction"
   ]
  },
  {
   "cell_type": "code",
   "execution_count": 28,
   "metadata": {},
   "outputs": [
    {
     "data": {
      "text/latex": [
       "$\\mathrm{DN\\_IRIS\\_FUV}$"
      ],
      "text/plain": [
       "Unit(\"DN_IRIS_FUV\")"
      ]
     },
     "execution_count": 28,
     "metadata": {},
     "output_type": "execute_result"
    }
   ],
   "source": [
    "my_cii[0].unit"
   ]
  },
  {
   "cell_type": "code",
   "execution_count": 29,
   "metadata": {},
   "outputs": [
    {
     "name": "stdout",
     "output_type": "stream",
     "text": [
      "INFO: uncertainty should have attribute uncertainty_type. [astropy.nddata.nddata]\n",
      "INFO: uncertainty should have attribute uncertainty_type. [astropy.nddata.nddata]\n"
     ]
    }
   ],
   "source": [
    "my_cii.apply_exposure_time_correction()"
   ]
  },
  {
   "cell_type": "code",
   "execution_count": 30,
   "metadata": {},
   "outputs": [
    {
     "data": {
      "text/latex": [
       "$\\mathrm{\\frac{DN\\_IRIS\\_FUV}{s}}$"
      ],
      "text/plain": [
       "Unit(\"DN_IRIS_FUV / s\")"
      ]
     },
     "execution_count": 30,
     "metadata": {},
     "output_type": "execute_result"
    }
   ],
   "source": [
    "my_cii[0].unit"
   ]
  },
  {
   "cell_type": "markdown",
   "metadata": {},
   "source": [
    "Note how the unit is now in DN/s.  The values in the data and uncertainty attributes have been scaled accordingly.  Check out at ```my_sg.data``` nd ```my_sg.uncertainty``` to verify."
   ]
  },
  {
   "cell_type": "markdown",
   "metadata": {},
   "source": [
    "To undo the exposure time correction, call ```apply_exposure_time_correction``` setting the ```undo``` keyword to ```True```."
   ]
  },
  {
   "cell_type": "code",
   "execution_count": 31,
   "metadata": {},
   "outputs": [
    {
     "name": "stdout",
     "output_type": "stream",
     "text": [
      "INFO: uncertainty should have attribute uncertainty_type. [astropy.nddata.nddata]\n",
      "INFO: uncertainty should have attribute uncertainty_type. [astropy.nddata.nddata]\n"
     ]
    }
   ],
   "source": [
    "my_cii.apply_exposure_time_correction(undo=True)"
   ]
  },
  {
   "cell_type": "code",
   "execution_count": 32,
   "metadata": {},
   "outputs": [
    {
     "data": {
      "text/latex": [
       "$\\mathrm{DN\\_IRIS\\_FUV}$"
      ],
      "text/plain": [
       "Unit(\"DN_IRIS_FUV\")"
      ]
     },
     "execution_count": 32,
     "metadata": {},
     "output_type": "execute_result"
    }
   ],
   "source": [
    "my_cii[0].unit"
   ]
  },
  {
   "cell_type": "markdown",
   "metadata": {},
   "source": [
    "Note that unit is now back in DN."
   ]
  },
  {
   "cell_type": "markdown",
   "metadata": {},
   "source": [
    "#### Convert Data Betweeen DN, Photons, Radiance"
   ]
  },
  {
   "cell_type": "markdown",
   "metadata": {},
   "source": [
    "To convert your data and uncertainty values between DN, photons, and radiance, use the ```convert_to``` method.  To track the effect of this method, we will again look how the unit changes.  But again, the data and uncertainty values are altered accordindly."
   ]
  },
  {
   "cell_type": "code",
   "execution_count": 33,
   "metadata": {},
   "outputs": [
    {
     "data": {
      "text/latex": [
       "$\\mathrm{DN\\_IRIS\\_FUV}$"
      ],
      "text/plain": [
       "Unit(\"DN_IRIS_FUV\")"
      ]
     },
     "execution_count": 33,
     "metadata": {},
     "output_type": "execute_result"
    }
   ],
   "source": [
    "my_cii[0].unit"
   ]
  },
  {
   "cell_type": "markdown",
   "metadata": {},
   "source": [
    "We start in units of DN.  To convert to photons, call the ```convert_to``` method with the string ```\"photons\"``` as the argument."
   ]
  },
  {
   "cell_type": "code",
   "execution_count": 34,
   "metadata": {},
   "outputs": [
    {
     "name": "stdout",
     "output_type": "stream",
     "text": [
      "INFO: uncertainty should have attribute uncertainty_type. [astropy.nddata.nddata]\n",
      "INFO: uncertainty should have attribute uncertainty_type. [astropy.nddata.nddata]\n"
     ]
    }
   ],
   "source": [
    "my_cii.convert_to(\"photons\")"
   ]
  },
  {
   "cell_type": "code",
   "execution_count": 35,
   "metadata": {},
   "outputs": [
    {
     "data": {
      "text/latex": [
       "$\\mathrm{ph}$"
      ],
      "text/plain": [
       "Unit(\"ph\")"
      ]
     },
     "execution_count": 35,
     "metadata": {},
     "output_type": "execute_result"
    }
   ],
   "source": [
    "my_cii[0].unit"
   ]
  },
  {
   "cell_type": "markdown",
   "metadata": {},
   "source": [
    "Note that the unit is now in photons.  To convert the data, uncertainties and unit to radiance, enter ```\"radiance\"``` as the argument to the ```convert_to``` method."
   ]
  },
  {
   "cell_type": "code",
   "execution_count": 36,
   "metadata": {},
   "outputs": [
    {
     "name": "stdout",
     "output_type": "stream",
     "text": [
      "INFO: uncertainty should have attribute uncertainty_type. [astropy.nddata.nddata]\n",
      "INFO: uncertainty should have attribute uncertainty_type. [astropy.nddata.nddata]\n",
      "INFO: uncertainty should have attribute uncertainty_type. [astropy.nddata.nddata]\n",
      "INFO: uncertainty should have attribute uncertainty_type. [astropy.nddata.nddata]\n",
      "INFO: uncertainty should have attribute uncertainty_type. [astropy.nddata.nddata]\n",
      "INFO: uncertainty should have attribute uncertainty_type. [astropy.nddata.nddata]\n"
     ]
    }
   ],
   "source": [
    "my_cii.convert_to(\"radiance\")"
   ]
  },
  {
   "cell_type": "code",
   "execution_count": 37,
   "metadata": {},
   "outputs": [
    {
     "data": {
      "text/latex": [
       "$\\mathrm{\\frac{erg}{\\mathring{A}\\,s\\,sr\\,cm^{2}}}$"
      ],
      "text/plain": [
       "Unit(\"erg / (Angstrom cm2 s sr)\")"
      ]
     },
     "execution_count": 37,
     "metadata": {},
     "output_type": "execute_result"
    }
   ],
   "source": [
    "my_cii[0].unit"
   ]
  },
  {
   "cell_type": "markdown",
   "metadata": {},
   "source": [
    "Now the unit is in radiance units.  To get back to DN, simply put ```\"DN\"``` into the ```concert_to``` method."
   ]
  },
  {
   "cell_type": "code",
   "execution_count": 39,
   "metadata": {},
   "outputs": [
    {
     "name": "stdout",
     "output_type": "stream",
     "text": [
      "INFO: uncertainty should have attribute uncertainty_type. [astropy.nddata.nddata]\n",
      "INFO: uncertainty should have attribute uncertainty_type. [astropy.nddata.nddata]\n",
      "INFO: uncertainty should have attribute uncertainty_type. [astropy.nddata.nddata]\n",
      "INFO: uncertainty should have attribute uncertainty_type. [astropy.nddata.nddata]\n"
     ]
    }
   ],
   "source": [
    "my_cii.convert_to(\"DN\")"
   ]
  },
  {
   "cell_type": "code",
   "execution_count": 40,
   "metadata": {},
   "outputs": [
    {
     "data": {
      "text/latex": [
       "$\\mathrm{\\frac{DN\\_IRIS\\_FUV}{s}}$"
      ],
      "text/plain": [
       "Unit(\"DN_IRIS_FUV / s\")"
      ]
     },
     "execution_count": 40,
     "metadata": {},
     "output_type": "execute_result"
    }
   ],
   "source": [
    "my_cii[0].unit"
   ]
  },
  {
   "cell_type": "markdown",
   "metadata": {},
   "source": [
    "In this case, the unit is ```DN/s```.  This is because the exposure time correction and the unit conversion are kept separate.  The one except is the conversion to radiance, which requires the exposure time correction.  Therefore, when we convert from radiance to DN, the inverse time due to the exposure time is maintained.  To undo this and get back to simple data numbers, undo the exposure time correction as we did above."
   ]
  },
  {
   "cell_type": "code",
   "execution_count": 41,
   "metadata": {},
   "outputs": [
    {
     "name": "stdout",
     "output_type": "stream",
     "text": [
      "INFO: uncertainty should have attribute uncertainty_type. [astropy.nddata.nddata]\n",
      "INFO: uncertainty should have attribute uncertainty_type. [astropy.nddata.nddata]\n"
     ]
    }
   ],
   "source": [
    "my_cii.apply_exposure_time_correction(undo=True)"
   ]
  },
  {
   "cell_type": "code",
   "execution_count": 42,
   "metadata": {},
   "outputs": [
    {
     "data": {
      "text/latex": [
       "$\\mathrm{DN\\_IRIS\\_FUV}$"
      ],
      "text/plain": [
       "Unit(\"DN_IRIS_FUV\")"
      ]
     },
     "execution_count": 42,
     "metadata": {},
     "output_type": "execute_result"
    }
   ],
   "source": [
    "my_cii[0].unit"
   ]
  },
  {
   "cell_type": "markdown",
   "metadata": {},
   "source": [
    "### Plotting"
   ]
  },
  {
   "cell_type": "markdown",
   "metadata": {},
   "source": [
    "Let's produce a quicklook animation of our spectral window data."
   ]
  },
  {
   "cell_type": "code",
   "execution_count": 43,
   "metadata": {},
   "outputs": [
    {
     "data": {
      "application/javascript": [
       "/* Put everything inside the global mpl namespace */\n",
       "window.mpl = {};\n",
       "\n",
       "\n",
       "mpl.get_websocket_type = function() {\n",
       "    if (typeof(WebSocket) !== 'undefined') {\n",
       "        return WebSocket;\n",
       "    } else if (typeof(MozWebSocket) !== 'undefined') {\n",
       "        return MozWebSocket;\n",
       "    } else {\n",
       "        alert('Your browser does not have WebSocket support.' +\n",
       "              'Please try Chrome, Safari or Firefox ≥ 6. ' +\n",
       "              'Firefox 4 and 5 are also supported but you ' +\n",
       "              'have to enable WebSockets in about:config.');\n",
       "    };\n",
       "}\n",
       "\n",
       "mpl.figure = function(figure_id, websocket, ondownload, parent_element) {\n",
       "    this.id = figure_id;\n",
       "\n",
       "    this.ws = websocket;\n",
       "\n",
       "    this.supports_binary = (this.ws.binaryType != undefined);\n",
       "\n",
       "    if (!this.supports_binary) {\n",
       "        var warnings = document.getElementById(\"mpl-warnings\");\n",
       "        if (warnings) {\n",
       "            warnings.style.display = 'block';\n",
       "            warnings.textContent = (\n",
       "                \"This browser does not support binary websocket messages. \" +\n",
       "                    \"Performance may be slow.\");\n",
       "        }\n",
       "    }\n",
       "\n",
       "    this.imageObj = new Image();\n",
       "\n",
       "    this.context = undefined;\n",
       "    this.message = undefined;\n",
       "    this.canvas = undefined;\n",
       "    this.rubberband_canvas = undefined;\n",
       "    this.rubberband_context = undefined;\n",
       "    this.format_dropdown = undefined;\n",
       "\n",
       "    this.image_mode = 'full';\n",
       "\n",
       "    this.root = $('<div/>');\n",
       "    this._root_extra_style(this.root)\n",
       "    this.root.attr('style', 'display: inline-block');\n",
       "\n",
       "    $(parent_element).append(this.root);\n",
       "\n",
       "    this._init_header(this);\n",
       "    this._init_canvas(this);\n",
       "    this._init_toolbar(this);\n",
       "\n",
       "    var fig = this;\n",
       "\n",
       "    this.waiting = false;\n",
       "\n",
       "    this.ws.onopen =  function () {\n",
       "            fig.send_message(\"supports_binary\", {value: fig.supports_binary});\n",
       "            fig.send_message(\"send_image_mode\", {});\n",
       "            if (mpl.ratio != 1) {\n",
       "                fig.send_message(\"set_dpi_ratio\", {'dpi_ratio': mpl.ratio});\n",
       "            }\n",
       "            fig.send_message(\"refresh\", {});\n",
       "        }\n",
       "\n",
       "    this.imageObj.onload = function() {\n",
       "            if (fig.image_mode == 'full') {\n",
       "                // Full images could contain transparency (where diff images\n",
       "                // almost always do), so we need to clear the canvas so that\n",
       "                // there is no ghosting.\n",
       "                fig.context.clearRect(0, 0, fig.canvas.width, fig.canvas.height);\n",
       "            }\n",
       "            fig.context.drawImage(fig.imageObj, 0, 0);\n",
       "        };\n",
       "\n",
       "    this.imageObj.onunload = function() {\n",
       "        fig.ws.close();\n",
       "    }\n",
       "\n",
       "    this.ws.onmessage = this._make_on_message_function(this);\n",
       "\n",
       "    this.ondownload = ondownload;\n",
       "}\n",
       "\n",
       "mpl.figure.prototype._init_header = function() {\n",
       "    var titlebar = $(\n",
       "        '<div class=\"ui-dialog-titlebar ui-widget-header ui-corner-all ' +\n",
       "        'ui-helper-clearfix\"/>');\n",
       "    var titletext = $(\n",
       "        '<div class=\"ui-dialog-title\" style=\"width: 100%; ' +\n",
       "        'text-align: center; padding: 3px;\"/>');\n",
       "    titlebar.append(titletext)\n",
       "    this.root.append(titlebar);\n",
       "    this.header = titletext[0];\n",
       "}\n",
       "\n",
       "\n",
       "\n",
       "mpl.figure.prototype._canvas_extra_style = function(canvas_div) {\n",
       "\n",
       "}\n",
       "\n",
       "\n",
       "mpl.figure.prototype._root_extra_style = function(canvas_div) {\n",
       "\n",
       "}\n",
       "\n",
       "mpl.figure.prototype._init_canvas = function() {\n",
       "    var fig = this;\n",
       "\n",
       "    var canvas_div = $('<div/>');\n",
       "\n",
       "    canvas_div.attr('style', 'position: relative; clear: both; outline: 0');\n",
       "\n",
       "    function canvas_keyboard_event(event) {\n",
       "        return fig.key_event(event, event['data']);\n",
       "    }\n",
       "\n",
       "    canvas_div.keydown('key_press', canvas_keyboard_event);\n",
       "    canvas_div.keyup('key_release', canvas_keyboard_event);\n",
       "    this.canvas_div = canvas_div\n",
       "    this._canvas_extra_style(canvas_div)\n",
       "    this.root.append(canvas_div);\n",
       "\n",
       "    var canvas = $('<canvas/>');\n",
       "    canvas.addClass('mpl-canvas');\n",
       "    canvas.attr('style', \"left: 0; top: 0; z-index: 0; outline: 0\")\n",
       "\n",
       "    this.canvas = canvas[0];\n",
       "    this.context = canvas[0].getContext(\"2d\");\n",
       "\n",
       "    var backingStore = this.context.backingStorePixelRatio ||\n",
       "\tthis.context.webkitBackingStorePixelRatio ||\n",
       "\tthis.context.mozBackingStorePixelRatio ||\n",
       "\tthis.context.msBackingStorePixelRatio ||\n",
       "\tthis.context.oBackingStorePixelRatio ||\n",
       "\tthis.context.backingStorePixelRatio || 1;\n",
       "\n",
       "    mpl.ratio = (window.devicePixelRatio || 1) / backingStore;\n",
       "\n",
       "    var rubberband = $('<canvas/>');\n",
       "    rubberband.attr('style', \"position: absolute; left: 0; top: 0; z-index: 1;\")\n",
       "\n",
       "    var pass_mouse_events = true;\n",
       "\n",
       "    canvas_div.resizable({\n",
       "        start: function(event, ui) {\n",
       "            pass_mouse_events = false;\n",
       "        },\n",
       "        resize: function(event, ui) {\n",
       "            fig.request_resize(ui.size.width, ui.size.height);\n",
       "        },\n",
       "        stop: function(event, ui) {\n",
       "            pass_mouse_events = true;\n",
       "            fig.request_resize(ui.size.width, ui.size.height);\n",
       "        },\n",
       "    });\n",
       "\n",
       "    function mouse_event_fn(event) {\n",
       "        if (pass_mouse_events)\n",
       "            return fig.mouse_event(event, event['data']);\n",
       "    }\n",
       "\n",
       "    rubberband.mousedown('button_press', mouse_event_fn);\n",
       "    rubberband.mouseup('button_release', mouse_event_fn);\n",
       "    // Throttle sequential mouse events to 1 every 20ms.\n",
       "    rubberband.mousemove('motion_notify', mouse_event_fn);\n",
       "\n",
       "    rubberband.mouseenter('figure_enter', mouse_event_fn);\n",
       "    rubberband.mouseleave('figure_leave', mouse_event_fn);\n",
       "\n",
       "    canvas_div.on(\"wheel\", function (event) {\n",
       "        event = event.originalEvent;\n",
       "        event['data'] = 'scroll'\n",
       "        if (event.deltaY < 0) {\n",
       "            event.step = 1;\n",
       "        } else {\n",
       "            event.step = -1;\n",
       "        }\n",
       "        mouse_event_fn(event);\n",
       "    });\n",
       "\n",
       "    canvas_div.append(canvas);\n",
       "    canvas_div.append(rubberband);\n",
       "\n",
       "    this.rubberband = rubberband;\n",
       "    this.rubberband_canvas = rubberband[0];\n",
       "    this.rubberband_context = rubberband[0].getContext(\"2d\");\n",
       "    this.rubberband_context.strokeStyle = \"#000000\";\n",
       "\n",
       "    this._resize_canvas = function(width, height) {\n",
       "        // Keep the size of the canvas, canvas container, and rubber band\n",
       "        // canvas in synch.\n",
       "        canvas_div.css('width', width)\n",
       "        canvas_div.css('height', height)\n",
       "\n",
       "        canvas.attr('width', width * mpl.ratio);\n",
       "        canvas.attr('height', height * mpl.ratio);\n",
       "        canvas.attr('style', 'width: ' + width + 'px; height: ' + height + 'px;');\n",
       "\n",
       "        rubberband.attr('width', width);\n",
       "        rubberband.attr('height', height);\n",
       "    }\n",
       "\n",
       "    // Set the figure to an initial 600x600px, this will subsequently be updated\n",
       "    // upon first draw.\n",
       "    this._resize_canvas(600, 600);\n",
       "\n",
       "    // Disable right mouse context menu.\n",
       "    $(this.rubberband_canvas).bind(\"contextmenu\",function(e){\n",
       "        return false;\n",
       "    });\n",
       "\n",
       "    function set_focus () {\n",
       "        canvas.focus();\n",
       "        canvas_div.focus();\n",
       "    }\n",
       "\n",
       "    window.setTimeout(set_focus, 100);\n",
       "}\n",
       "\n",
       "mpl.figure.prototype._init_toolbar = function() {\n",
       "    var fig = this;\n",
       "\n",
       "    var nav_element = $('<div/>')\n",
       "    nav_element.attr('style', 'width: 100%');\n",
       "    this.root.append(nav_element);\n",
       "\n",
       "    // Define a callback function for later on.\n",
       "    function toolbar_event(event) {\n",
       "        return fig.toolbar_button_onclick(event['data']);\n",
       "    }\n",
       "    function toolbar_mouse_event(event) {\n",
       "        return fig.toolbar_button_onmouseover(event['data']);\n",
       "    }\n",
       "\n",
       "    for(var toolbar_ind in mpl.toolbar_items) {\n",
       "        var name = mpl.toolbar_items[toolbar_ind][0];\n",
       "        var tooltip = mpl.toolbar_items[toolbar_ind][1];\n",
       "        var image = mpl.toolbar_items[toolbar_ind][2];\n",
       "        var method_name = mpl.toolbar_items[toolbar_ind][3];\n",
       "\n",
       "        if (!name) {\n",
       "            // put a spacer in here.\n",
       "            continue;\n",
       "        }\n",
       "        var button = $('<button/>');\n",
       "        button.addClass('ui-button ui-widget ui-state-default ui-corner-all ' +\n",
       "                        'ui-button-icon-only');\n",
       "        button.attr('role', 'button');\n",
       "        button.attr('aria-disabled', 'false');\n",
       "        button.click(method_name, toolbar_event);\n",
       "        button.mouseover(tooltip, toolbar_mouse_event);\n",
       "\n",
       "        var icon_img = $('<span/>');\n",
       "        icon_img.addClass('ui-button-icon-primary ui-icon');\n",
       "        icon_img.addClass(image);\n",
       "        icon_img.addClass('ui-corner-all');\n",
       "\n",
       "        var tooltip_span = $('<span/>');\n",
       "        tooltip_span.addClass('ui-button-text');\n",
       "        tooltip_span.html(tooltip);\n",
       "\n",
       "        button.append(icon_img);\n",
       "        button.append(tooltip_span);\n",
       "\n",
       "        nav_element.append(button);\n",
       "    }\n",
       "\n",
       "    var fmt_picker_span = $('<span/>');\n",
       "\n",
       "    var fmt_picker = $('<select/>');\n",
       "    fmt_picker.addClass('mpl-toolbar-option ui-widget ui-widget-content');\n",
       "    fmt_picker_span.append(fmt_picker);\n",
       "    nav_element.append(fmt_picker_span);\n",
       "    this.format_dropdown = fmt_picker[0];\n",
       "\n",
       "    for (var ind in mpl.extensions) {\n",
       "        var fmt = mpl.extensions[ind];\n",
       "        var option = $(\n",
       "            '<option/>', {selected: fmt === mpl.default_extension}).html(fmt);\n",
       "        fmt_picker.append(option)\n",
       "    }\n",
       "\n",
       "    // Add hover states to the ui-buttons\n",
       "    $( \".ui-button\" ).hover(\n",
       "        function() { $(this).addClass(\"ui-state-hover\");},\n",
       "        function() { $(this).removeClass(\"ui-state-hover\");}\n",
       "    );\n",
       "\n",
       "    var status_bar = $('<span class=\"mpl-message\"/>');\n",
       "    nav_element.append(status_bar);\n",
       "    this.message = status_bar[0];\n",
       "}\n",
       "\n",
       "mpl.figure.prototype.request_resize = function(x_pixels, y_pixels) {\n",
       "    // Request matplotlib to resize the figure. Matplotlib will then trigger a resize in the client,\n",
       "    // which will in turn request a refresh of the image.\n",
       "    this.send_message('resize', {'width': x_pixels, 'height': y_pixels});\n",
       "}\n",
       "\n",
       "mpl.figure.prototype.send_message = function(type, properties) {\n",
       "    properties['type'] = type;\n",
       "    properties['figure_id'] = this.id;\n",
       "    this.ws.send(JSON.stringify(properties));\n",
       "}\n",
       "\n",
       "mpl.figure.prototype.send_draw_message = function() {\n",
       "    if (!this.waiting) {\n",
       "        this.waiting = true;\n",
       "        this.ws.send(JSON.stringify({type: \"draw\", figure_id: this.id}));\n",
       "    }\n",
       "}\n",
       "\n",
       "\n",
       "mpl.figure.prototype.handle_save = function(fig, msg) {\n",
       "    var format_dropdown = fig.format_dropdown;\n",
       "    var format = format_dropdown.options[format_dropdown.selectedIndex].value;\n",
       "    fig.ondownload(fig, format);\n",
       "}\n",
       "\n",
       "\n",
       "mpl.figure.prototype.handle_resize = function(fig, msg) {\n",
       "    var size = msg['size'];\n",
       "    if (size[0] != fig.canvas.width || size[1] != fig.canvas.height) {\n",
       "        fig._resize_canvas(size[0], size[1]);\n",
       "        fig.send_message(\"refresh\", {});\n",
       "    };\n",
       "}\n",
       "\n",
       "mpl.figure.prototype.handle_rubberband = function(fig, msg) {\n",
       "    var x0 = msg['x0'] / mpl.ratio;\n",
       "    var y0 = (fig.canvas.height - msg['y0']) / mpl.ratio;\n",
       "    var x1 = msg['x1'] / mpl.ratio;\n",
       "    var y1 = (fig.canvas.height - msg['y1']) / mpl.ratio;\n",
       "    x0 = Math.floor(x0) + 0.5;\n",
       "    y0 = Math.floor(y0) + 0.5;\n",
       "    x1 = Math.floor(x1) + 0.5;\n",
       "    y1 = Math.floor(y1) + 0.5;\n",
       "    var min_x = Math.min(x0, x1);\n",
       "    var min_y = Math.min(y0, y1);\n",
       "    var width = Math.abs(x1 - x0);\n",
       "    var height = Math.abs(y1 - y0);\n",
       "\n",
       "    fig.rubberband_context.clearRect(\n",
       "        0, 0, fig.canvas.width, fig.canvas.height);\n",
       "\n",
       "    fig.rubberband_context.strokeRect(min_x, min_y, width, height);\n",
       "}\n",
       "\n",
       "mpl.figure.prototype.handle_figure_label = function(fig, msg) {\n",
       "    // Updates the figure title.\n",
       "    fig.header.textContent = msg['label'];\n",
       "}\n",
       "\n",
       "mpl.figure.prototype.handle_cursor = function(fig, msg) {\n",
       "    var cursor = msg['cursor'];\n",
       "    switch(cursor)\n",
       "    {\n",
       "    case 0:\n",
       "        cursor = 'pointer';\n",
       "        break;\n",
       "    case 1:\n",
       "        cursor = 'default';\n",
       "        break;\n",
       "    case 2:\n",
       "        cursor = 'crosshair';\n",
       "        break;\n",
       "    case 3:\n",
       "        cursor = 'move';\n",
       "        break;\n",
       "    }\n",
       "    fig.rubberband_canvas.style.cursor = cursor;\n",
       "}\n",
       "\n",
       "mpl.figure.prototype.handle_message = function(fig, msg) {\n",
       "    fig.message.textContent = msg['message'];\n",
       "}\n",
       "\n",
       "mpl.figure.prototype.handle_draw = function(fig, msg) {\n",
       "    // Request the server to send over a new figure.\n",
       "    fig.send_draw_message();\n",
       "}\n",
       "\n",
       "mpl.figure.prototype.handle_image_mode = function(fig, msg) {\n",
       "    fig.image_mode = msg['mode'];\n",
       "}\n",
       "\n",
       "mpl.figure.prototype.updated_canvas_event = function() {\n",
       "    // Called whenever the canvas gets updated.\n",
       "    this.send_message(\"ack\", {});\n",
       "}\n",
       "\n",
       "// A function to construct a web socket function for onmessage handling.\n",
       "// Called in the figure constructor.\n",
       "mpl.figure.prototype._make_on_message_function = function(fig) {\n",
       "    return function socket_on_message(evt) {\n",
       "        if (evt.data instanceof Blob) {\n",
       "            /* FIXME: We get \"Resource interpreted as Image but\n",
       "             * transferred with MIME type text/plain:\" errors on\n",
       "             * Chrome.  But how to set the MIME type?  It doesn't seem\n",
       "             * to be part of the websocket stream */\n",
       "            evt.data.type = \"image/png\";\n",
       "\n",
       "            /* Free the memory for the previous frames */\n",
       "            if (fig.imageObj.src) {\n",
       "                (window.URL || window.webkitURL).revokeObjectURL(\n",
       "                    fig.imageObj.src);\n",
       "            }\n",
       "\n",
       "            fig.imageObj.src = (window.URL || window.webkitURL).createObjectURL(\n",
       "                evt.data);\n",
       "            fig.updated_canvas_event();\n",
       "            fig.waiting = false;\n",
       "            return;\n",
       "        }\n",
       "        else if (typeof evt.data === 'string' && evt.data.slice(0, 21) == \"data:image/png;base64\") {\n",
       "            fig.imageObj.src = evt.data;\n",
       "            fig.updated_canvas_event();\n",
       "            fig.waiting = false;\n",
       "            return;\n",
       "        }\n",
       "\n",
       "        var msg = JSON.parse(evt.data);\n",
       "        var msg_type = msg['type'];\n",
       "\n",
       "        // Call the  \"handle_{type}\" callback, which takes\n",
       "        // the figure and JSON message as its only arguments.\n",
       "        try {\n",
       "            var callback = fig[\"handle_\" + msg_type];\n",
       "        } catch (e) {\n",
       "            console.log(\"No handler for the '\" + msg_type + \"' message type: \", msg);\n",
       "            return;\n",
       "        }\n",
       "\n",
       "        if (callback) {\n",
       "            try {\n",
       "                // console.log(\"Handling '\" + msg_type + \"' message: \", msg);\n",
       "                callback(fig, msg);\n",
       "            } catch (e) {\n",
       "                console.log(\"Exception inside the 'handler_\" + msg_type + \"' callback:\", e, e.stack, msg);\n",
       "            }\n",
       "        }\n",
       "    };\n",
       "}\n",
       "\n",
       "// from http://stackoverflow.com/questions/1114465/getting-mouse-location-in-canvas\n",
       "mpl.findpos = function(e) {\n",
       "    //this section is from http://www.quirksmode.org/js/events_properties.html\n",
       "    var targ;\n",
       "    if (!e)\n",
       "        e = window.event;\n",
       "    if (e.target)\n",
       "        targ = e.target;\n",
       "    else if (e.srcElement)\n",
       "        targ = e.srcElement;\n",
       "    if (targ.nodeType == 3) // defeat Safari bug\n",
       "        targ = targ.parentNode;\n",
       "\n",
       "    // jQuery normalizes the pageX and pageY\n",
       "    // pageX,Y are the mouse positions relative to the document\n",
       "    // offset() returns the position of the element relative to the document\n",
       "    var x = e.pageX - $(targ).offset().left;\n",
       "    var y = e.pageY - $(targ).offset().top;\n",
       "\n",
       "    return {\"x\": x, \"y\": y};\n",
       "};\n",
       "\n",
       "/*\n",
       " * return a copy of an object with only non-object keys\n",
       " * we need this to avoid circular references\n",
       " * http://stackoverflow.com/a/24161582/3208463\n",
       " */\n",
       "function simpleKeys (original) {\n",
       "  return Object.keys(original).reduce(function (obj, key) {\n",
       "    if (typeof original[key] !== 'object')\n",
       "        obj[key] = original[key]\n",
       "    return obj;\n",
       "  }, {});\n",
       "}\n",
       "\n",
       "mpl.figure.prototype.mouse_event = function(event, name) {\n",
       "    var canvas_pos = mpl.findpos(event)\n",
       "\n",
       "    if (name === 'button_press')\n",
       "    {\n",
       "        this.canvas.focus();\n",
       "        this.canvas_div.focus();\n",
       "    }\n",
       "\n",
       "    var x = canvas_pos.x * mpl.ratio;\n",
       "    var y = canvas_pos.y * mpl.ratio;\n",
       "\n",
       "    this.send_message(name, {x: x, y: y, button: event.button,\n",
       "                             step: event.step,\n",
       "                             guiEvent: simpleKeys(event)});\n",
       "\n",
       "    /* This prevents the web browser from automatically changing to\n",
       "     * the text insertion cursor when the button is pressed.  We want\n",
       "     * to control all of the cursor setting manually through the\n",
       "     * 'cursor' event from matplotlib */\n",
       "    event.preventDefault();\n",
       "    return false;\n",
       "}\n",
       "\n",
       "mpl.figure.prototype._key_event_extra = function(event, name) {\n",
       "    // Handle any extra behaviour associated with a key event\n",
       "}\n",
       "\n",
       "mpl.figure.prototype.key_event = function(event, name) {\n",
       "\n",
       "    // Prevent repeat events\n",
       "    if (name == 'key_press')\n",
       "    {\n",
       "        if (event.which === this._key)\n",
       "            return;\n",
       "        else\n",
       "            this._key = event.which;\n",
       "    }\n",
       "    if (name == 'key_release')\n",
       "        this._key = null;\n",
       "\n",
       "    var value = '';\n",
       "    if (event.ctrlKey && event.which != 17)\n",
       "        value += \"ctrl+\";\n",
       "    if (event.altKey && event.which != 18)\n",
       "        value += \"alt+\";\n",
       "    if (event.shiftKey && event.which != 16)\n",
       "        value += \"shift+\";\n",
       "\n",
       "    value += 'k';\n",
       "    value += event.which.toString();\n",
       "\n",
       "    this._key_event_extra(event, name);\n",
       "\n",
       "    this.send_message(name, {key: value,\n",
       "                             guiEvent: simpleKeys(event)});\n",
       "    return false;\n",
       "}\n",
       "\n",
       "mpl.figure.prototype.toolbar_button_onclick = function(name) {\n",
       "    if (name == 'download') {\n",
       "        this.handle_save(this, null);\n",
       "    } else {\n",
       "        this.send_message(\"toolbar_button\", {name: name});\n",
       "    }\n",
       "};\n",
       "\n",
       "mpl.figure.prototype.toolbar_button_onmouseover = function(tooltip) {\n",
       "    this.message.textContent = tooltip;\n",
       "};\n",
       "mpl.toolbar_items = [[\"Home\", \"Reset original view\", \"fa fa-home icon-home\", \"home\"], [\"Back\", \"Back to  previous view\", \"fa fa-arrow-left icon-arrow-left\", \"back\"], [\"Forward\", \"Forward to next view\", \"fa fa-arrow-right icon-arrow-right\", \"forward\"], [\"\", \"\", \"\", \"\"], [\"Pan\", \"Pan axes with left mouse, zoom with right\", \"fa fa-arrows icon-move\", \"pan\"], [\"Zoom\", \"Zoom to rectangle\", \"fa fa-square-o icon-check-empty\", \"zoom\"], [\"\", \"\", \"\", \"\"], [\"Download\", \"Download plot\", \"fa fa-floppy-o icon-save\", \"download\"]];\n",
       "\n",
       "mpl.extensions = [\"eps\", \"jpeg\", \"pdf\", \"png\", \"ps\", \"raw\", \"svg\", \"tif\"];\n",
       "\n",
       "mpl.default_extension = \"png\";var comm_websocket_adapter = function(comm) {\n",
       "    // Create a \"websocket\"-like object which calls the given IPython comm\n",
       "    // object with the appropriate methods. Currently this is a non binary\n",
       "    // socket, so there is still some room for performance tuning.\n",
       "    var ws = {};\n",
       "\n",
       "    ws.close = function() {\n",
       "        comm.close()\n",
       "    };\n",
       "    ws.send = function(m) {\n",
       "        //console.log('sending', m);\n",
       "        comm.send(m);\n",
       "    };\n",
       "    // Register the callback with on_msg.\n",
       "    comm.on_msg(function(msg) {\n",
       "        //console.log('receiving', msg['content']['data'], msg);\n",
       "        // Pass the mpl event to the overridden (by mpl) onmessage function.\n",
       "        ws.onmessage(msg['content']['data'])\n",
       "    });\n",
       "    return ws;\n",
       "}\n",
       "\n",
       "mpl.mpl_figure_comm = function(comm, msg) {\n",
       "    // This is the function which gets called when the mpl process\n",
       "    // starts-up an IPython Comm through the \"matplotlib\" channel.\n",
       "\n",
       "    var id = msg.content.data.id;\n",
       "    // Get hold of the div created by the display call when the Comm\n",
       "    // socket was opened in Python.\n",
       "    var element = $(\"#\" + id);\n",
       "    var ws_proxy = comm_websocket_adapter(comm)\n",
       "\n",
       "    function ondownload(figure, format) {\n",
       "        window.open(figure.imageObj.src);\n",
       "    }\n",
       "\n",
       "    var fig = new mpl.figure(id, ws_proxy,\n",
       "                           ondownload,\n",
       "                           element.get(0));\n",
       "\n",
       "    // Call onopen now - mpl needs it, as it is assuming we've passed it a real\n",
       "    // web socket which is closed, not our websocket->open comm proxy.\n",
       "    ws_proxy.onopen();\n",
       "\n",
       "    fig.parent_element = element.get(0);\n",
       "    fig.cell_info = mpl.find_output_cell(\"<div id='\" + id + \"'></div>\");\n",
       "    if (!fig.cell_info) {\n",
       "        console.error(\"Failed to find cell for figure\", id, fig);\n",
       "        return;\n",
       "    }\n",
       "\n",
       "    var output_index = fig.cell_info[2]\n",
       "    var cell = fig.cell_info[0];\n",
       "\n",
       "};\n",
       "\n",
       "mpl.figure.prototype.handle_close = function(fig, msg) {\n",
       "    var width = fig.canvas.width/mpl.ratio\n",
       "    fig.root.unbind('remove')\n",
       "\n",
       "    // Update the output cell to use the data from the current canvas.\n",
       "    fig.push_to_output();\n",
       "    var dataURL = fig.canvas.toDataURL();\n",
       "    // Re-enable the keyboard manager in IPython - without this line, in FF,\n",
       "    // the notebook keyboard shortcuts fail.\n",
       "    IPython.keyboard_manager.enable()\n",
       "    $(fig.parent_element).html('<img src=\"' + dataURL + '\" width=\"' + width + '\">');\n",
       "    fig.close_ws(fig, msg);\n",
       "}\n",
       "\n",
       "mpl.figure.prototype.close_ws = function(fig, msg){\n",
       "    fig.send_message('closing', msg);\n",
       "    // fig.ws.close()\n",
       "}\n",
       "\n",
       "mpl.figure.prototype.push_to_output = function(remove_interactive) {\n",
       "    // Turn the data on the canvas into data in the output cell.\n",
       "    var width = this.canvas.width/mpl.ratio\n",
       "    var dataURL = this.canvas.toDataURL();\n",
       "    this.cell_info[1]['text/html'] = '<img src=\"' + dataURL + '\" width=\"' + width + '\">';\n",
       "}\n",
       "\n",
       "mpl.figure.prototype.updated_canvas_event = function() {\n",
       "    // Tell IPython that the notebook contents must change.\n",
       "    IPython.notebook.set_dirty(true);\n",
       "    this.send_message(\"ack\", {});\n",
       "    var fig = this;\n",
       "    // Wait a second, then push the new image to the DOM so\n",
       "    // that it is saved nicely (might be nice to debounce this).\n",
       "    setTimeout(function () { fig.push_to_output() }, 1000);\n",
       "}\n",
       "\n",
       "mpl.figure.prototype._init_toolbar = function() {\n",
       "    var fig = this;\n",
       "\n",
       "    var nav_element = $('<div/>')\n",
       "    nav_element.attr('style', 'width: 100%');\n",
       "    this.root.append(nav_element);\n",
       "\n",
       "    // Define a callback function for later on.\n",
       "    function toolbar_event(event) {\n",
       "        return fig.toolbar_button_onclick(event['data']);\n",
       "    }\n",
       "    function toolbar_mouse_event(event) {\n",
       "        return fig.toolbar_button_onmouseover(event['data']);\n",
       "    }\n",
       "\n",
       "    for(var toolbar_ind in mpl.toolbar_items){\n",
       "        var name = mpl.toolbar_items[toolbar_ind][0];\n",
       "        var tooltip = mpl.toolbar_items[toolbar_ind][1];\n",
       "        var image = mpl.toolbar_items[toolbar_ind][2];\n",
       "        var method_name = mpl.toolbar_items[toolbar_ind][3];\n",
       "\n",
       "        if (!name) { continue; };\n",
       "\n",
       "        var button = $('<button class=\"btn btn-default\" href=\"#\" title=\"' + name + '\"><i class=\"fa ' + image + ' fa-lg\"></i></button>');\n",
       "        button.click(method_name, toolbar_event);\n",
       "        button.mouseover(tooltip, toolbar_mouse_event);\n",
       "        nav_element.append(button);\n",
       "    }\n",
       "\n",
       "    // Add the status bar.\n",
       "    var status_bar = $('<span class=\"mpl-message\" style=\"text-align:right; float: right;\"/>');\n",
       "    nav_element.append(status_bar);\n",
       "    this.message = status_bar[0];\n",
       "\n",
       "    // Add the close button to the window.\n",
       "    var buttongrp = $('<div class=\"btn-group inline pull-right\"></div>');\n",
       "    var button = $('<button class=\"btn btn-mini btn-primary\" href=\"#\" title=\"Stop Interaction\"><i class=\"fa fa-power-off icon-remove icon-large\"></i></button>');\n",
       "    button.click(function (evt) { fig.handle_close(fig, {}); } );\n",
       "    button.mouseover('Stop Interaction', toolbar_mouse_event);\n",
       "    buttongrp.append(button);\n",
       "    var titlebar = this.root.find($('.ui-dialog-titlebar'));\n",
       "    titlebar.prepend(buttongrp);\n",
       "}\n",
       "\n",
       "mpl.figure.prototype._root_extra_style = function(el){\n",
       "    var fig = this\n",
       "    el.on(\"remove\", function(){\n",
       "\tfig.close_ws(fig, {});\n",
       "    });\n",
       "}\n",
       "\n",
       "mpl.figure.prototype._canvas_extra_style = function(el){\n",
       "    // this is important to make the div 'focusable\n",
       "    el.attr('tabindex', 0)\n",
       "    // reach out to IPython and tell the keyboard manager to turn it's self\n",
       "    // off when our div gets focus\n",
       "\n",
       "    // location in version 3\n",
       "    if (IPython.notebook.keyboard_manager) {\n",
       "        IPython.notebook.keyboard_manager.register_events(el);\n",
       "    }\n",
       "    else {\n",
       "        // location in version 2\n",
       "        IPython.keyboard_manager.register_events(el);\n",
       "    }\n",
       "\n",
       "}\n",
       "\n",
       "mpl.figure.prototype._key_event_extra = function(event, name) {\n",
       "    var manager = IPython.notebook.keyboard_manager;\n",
       "    if (!manager)\n",
       "        manager = IPython.keyboard_manager;\n",
       "\n",
       "    // Check for shift+enter\n",
       "    if (event.shiftKey && event.which == 13) {\n",
       "        this.canvas_div.blur();\n",
       "        event.shiftKey = false;\n",
       "        // Send a \"J\" for go to next cell\n",
       "        event.which = 74;\n",
       "        event.keyCode = 74;\n",
       "        manager.command_mode();\n",
       "        manager.handle_keydown(event);\n",
       "    }\n",
       "}\n",
       "\n",
       "mpl.figure.prototype.handle_save = function(fig, msg) {\n",
       "    fig.ondownload(fig, null);\n",
       "}\n",
       "\n",
       "\n",
       "mpl.find_output_cell = function(html_output) {\n",
       "    // Return the cell and output element which can be found *uniquely* in the notebook.\n",
       "    // Note - this is a bit hacky, but it is done because the \"notebook_saving.Notebook\"\n",
       "    // IPython event is triggered only after the cells have been serialised, which for\n",
       "    // our purposes (turning an active figure into a static one), is too late.\n",
       "    var cells = IPython.notebook.get_cells();\n",
       "    var ncells = cells.length;\n",
       "    for (var i=0; i<ncells; i++) {\n",
       "        var cell = cells[i];\n",
       "        if (cell.cell_type === 'code'){\n",
       "            for (var j=0; j<cell.output_area.outputs.length; j++) {\n",
       "                var data = cell.output_area.outputs[j];\n",
       "                if (data.data) {\n",
       "                    // IPython >= 3 moved mimebundle to data attribute of output\n",
       "                    data = data.data;\n",
       "                }\n",
       "                if (data['text/html'] == html_output) {\n",
       "                    return [cell, data, j];\n",
       "                }\n",
       "            }\n",
       "        }\n",
       "    }\n",
       "}\n",
       "\n",
       "// Register the function which deals with the matplotlib target/channel.\n",
       "// The kernel may be null if the page has been refreshed.\n",
       "if (IPython.notebook.kernel != null) {\n",
       "    IPython.notebook.kernel.comm_manager.register_target('matplotlib', mpl.mpl_figure_comm);\n",
       "}\n"
      ],
      "text/plain": [
       "<IPython.core.display.Javascript object>"
      ]
     },
     "metadata": {},
     "output_type": "display_data"
    },
    {
     "data": {
      "text/html": [
       "<img src=\"data:image/png;base64,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\" width=\"640\">"
      ],
      "text/plain": [
       "<IPython.core.display.HTML object>"
      ]
     },
     "metadata": {},
     "output_type": "display_data"
    },
    {
     "data": {
      "text/plain": [
       "<ndcube.mixins.sequence_plotting.ImageAnimatorNDCubeSequence at 0xb217c4a20>"
      ]
     },
     "execution_count": 43,
     "metadata": {},
     "output_type": "execute_result"
    }
   ],
   "source": [
    "my_cii.plot()"
   ]
  },
  {
   "cell_type": "markdown",
   "metadata": {},
   "source": [
    "By default, the y-axis corresponds to position along the slit and the x-axis to wavelength.  If the data is 4D, the bottom slider corresponds to the raster repeat axis and the top slider corresponds to the slit location axis.  Press play on a slider to animate the image.  (__Note that if you are using the stable dependencies install, the 0ths and 1st axes may have been combined into a single slider.  But the future stable dependencies install will exhibit the behaviour described above.__)\n",
    "\n",
    "It is possible to customize the plot, e.g. change the plot axes, change the color map, add axis labels, etc. but due the basic scope of this introductory tutorial we will leave that for another day."
   ]
  },
  {
   "cell_type": "markdown",
   "metadata": {},
   "source": [
    "### Slicing/Indexing"
   ]
  },
  {
   "cell_type": "markdown",
   "metadata": {},
   "source": [
    "#### 4D Slicing"
   ]
  },
  {
   "cell_type": "markdown",
   "metadata": {},
   "source": [
    "Say we have a region of interest within our data between the 100th and 175th pixels along the slit at the 3rd slit position, in the wavelength range around the 75-125 pixels.  To get extract this region of interest is simply a case of slicing the ```IRISSpectrogramCubeSequence``` object.\n",
    "\n",
    "__N.B. depending on the spectrograph files you've read in, you may need to change these index numbers to be within the ranges of your axes.  Let's start by checking the dimensionality of the IRISSpectrumCubeSequence using the ```dimensions``` property.__"
   ]
  },
  {
   "cell_type": "code",
   "execution_count": 44,
   "metadata": {},
   "outputs": [
    {
     "data": {
      "text/plain": [
       "(<Quantity 2. pix>,\n",
       " <Quantity 32. pix>,\n",
       " <Quantity 198. pix>,\n",
       " <Quantity 512. pix>)"
      ]
     },
     "execution_count": 44,
     "metadata": {},
     "output_type": "execute_result"
    }
   ],
   "source": [
    "my_cii.dimensions"
   ]
  },
  {
   "cell_type": "code",
   "execution_count": 45,
   "metadata": {},
   "outputs": [
    {
     "data": {
      "text/plain": [
       "('meta.obs.sequence',\n",
       " 'custom:pos.helioprojective.lon',\n",
       " 'custom:pos.helioprojective.lat',\n",
       " 'em.wl')"
      ]
     },
     "execution_count": 45,
     "metadata": {},
     "output_type": "execute_result"
    }
   ],
   "source": [
    "# We can see what physical properties each axis corresponds to by using the world_axis_physical_types property.\n",
    "# Note the 'meta.obs.sequence' refers to the repeat raster access.\n",
    "my_cii.world_axis_physical_types"
   ]
  },
  {
   "cell_type": "markdown",
   "metadata": {},
   "source": [
    "To isolate our region of interest, we can index the ```IRISSpectrogramCubeSequence``` as if it were a simple array.  This way the __data, uncertainties, mask, coordinate transformations, and relevant auxiliary data__ are sliced accordindly.  This reduces the need to perform repetitive tasks that by their repetitive nature, an lead to mistakes."
   ]
  },
  {
   "cell_type": "code",
   "execution_count": 46,
   "metadata": {},
   "outputs": [],
   "source": [
    "cii_roi = my_cii[:, 3, 100:175, 50:100]"
   ]
  },
  {
   "cell_type": "code",
   "execution_count": 47,
   "metadata": {},
   "outputs": [
    {
     "data": {
      "text/plain": [
       "(<Quantity 2. pix>, <Quantity 75. pix>, <Quantity 50. pix>)"
      ]
     },
     "execution_count": 47,
     "metadata": {},
     "output_type": "execute_result"
    }
   ],
   "source": [
    "cii_roi.dimensions"
   ]
  },
  {
   "cell_type": "code",
   "execution_count": 48,
   "metadata": {},
   "outputs": [
    {
     "data": {
      "text/plain": [
       "('meta.obs.sequence', 'custom:pos.helioprojective.lat', 'em.wl')"
      ]
     },
     "execution_count": 48,
     "metadata": {},
     "output_type": "execute_result"
    }
   ],
   "source": [
    "cii_roi.world_axis_physical_types"
   ]
  },
  {
   "cell_type": "markdown",
   "metadata": {},
   "source": [
    "By looking at the ```dimensions``` and ```world_axis_physical_types```, we can see that the ```IRISSpectrogramCubeSequence``` has lost its longitude axis and the remaining axes have been sliced as requested.\n",
    "\n",
    "__Exercise:__ Manually check the dimensionality of the data, uncertainty, etc. of the ```IRISSpectrogramCube```s within the ```IRISSpectrogramCubeSequence.data``` attribute to verify their dimensionalities been reduced correctly."
   ]
  },
  {
   "cell_type": "markdown",
   "metadata": {},
   "source": [
    "We can also use this slicing to easily plot a 1D spectrum from a single pixel.  Let's plot the pixel from the 0th raster scan, and the 30th pixel along the slit.\n",
    "\n",
    "__N.B. Again, depending on the files you read in and the region you defined above, you may have to select a different pixel with the range of your data.__"
   ]
  },
  {
   "cell_type": "code",
   "execution_count": 49,
   "metadata": {},
   "outputs": [
    {
     "data": {
      "application/javascript": [
       "/* Put everything inside the global mpl namespace */\n",
       "window.mpl = {};\n",
       "\n",
       "\n",
       "mpl.get_websocket_type = function() {\n",
       "    if (typeof(WebSocket) !== 'undefined') {\n",
       "        return WebSocket;\n",
       "    } else if (typeof(MozWebSocket) !== 'undefined') {\n",
       "        return MozWebSocket;\n",
       "    } else {\n",
       "        alert('Your browser does not have WebSocket support.' +\n",
       "              'Please try Chrome, Safari or Firefox ≥ 6. ' +\n",
       "              'Firefox 4 and 5 are also supported but you ' +\n",
       "              'have to enable WebSockets in about:config.');\n",
       "    };\n",
       "}\n",
       "\n",
       "mpl.figure = function(figure_id, websocket, ondownload, parent_element) {\n",
       "    this.id = figure_id;\n",
       "\n",
       "    this.ws = websocket;\n",
       "\n",
       "    this.supports_binary = (this.ws.binaryType != undefined);\n",
       "\n",
       "    if (!this.supports_binary) {\n",
       "        var warnings = document.getElementById(\"mpl-warnings\");\n",
       "        if (warnings) {\n",
       "            warnings.style.display = 'block';\n",
       "            warnings.textContent = (\n",
       "                \"This browser does not support binary websocket messages. \" +\n",
       "                    \"Performance may be slow.\");\n",
       "        }\n",
       "    }\n",
       "\n",
       "    this.imageObj = new Image();\n",
       "\n",
       "    this.context = undefined;\n",
       "    this.message = undefined;\n",
       "    this.canvas = undefined;\n",
       "    this.rubberband_canvas = undefined;\n",
       "    this.rubberband_context = undefined;\n",
       "    this.format_dropdown = undefined;\n",
       "\n",
       "    this.image_mode = 'full';\n",
       "\n",
       "    this.root = $('<div/>');\n",
       "    this._root_extra_style(this.root)\n",
       "    this.root.attr('style', 'display: inline-block');\n",
       "\n",
       "    $(parent_element).append(this.root);\n",
       "\n",
       "    this._init_header(this);\n",
       "    this._init_canvas(this);\n",
       "    this._init_toolbar(this);\n",
       "\n",
       "    var fig = this;\n",
       "\n",
       "    this.waiting = false;\n",
       "\n",
       "    this.ws.onopen =  function () {\n",
       "            fig.send_message(\"supports_binary\", {value: fig.supports_binary});\n",
       "            fig.send_message(\"send_image_mode\", {});\n",
       "            if (mpl.ratio != 1) {\n",
       "                fig.send_message(\"set_dpi_ratio\", {'dpi_ratio': mpl.ratio});\n",
       "            }\n",
       "            fig.send_message(\"refresh\", {});\n",
       "        }\n",
       "\n",
       "    this.imageObj.onload = function() {\n",
       "            if (fig.image_mode == 'full') {\n",
       "                // Full images could contain transparency (where diff images\n",
       "                // almost always do), so we need to clear the canvas so that\n",
       "                // there is no ghosting.\n",
       "                fig.context.clearRect(0, 0, fig.canvas.width, fig.canvas.height);\n",
       "            }\n",
       "            fig.context.drawImage(fig.imageObj, 0, 0);\n",
       "        };\n",
       "\n",
       "    this.imageObj.onunload = function() {\n",
       "        fig.ws.close();\n",
       "    }\n",
       "\n",
       "    this.ws.onmessage = this._make_on_message_function(this);\n",
       "\n",
       "    this.ondownload = ondownload;\n",
       "}\n",
       "\n",
       "mpl.figure.prototype._init_header = function() {\n",
       "    var titlebar = $(\n",
       "        '<div class=\"ui-dialog-titlebar ui-widget-header ui-corner-all ' +\n",
       "        'ui-helper-clearfix\"/>');\n",
       "    var titletext = $(\n",
       "        '<div class=\"ui-dialog-title\" style=\"width: 100%; ' +\n",
       "        'text-align: center; padding: 3px;\"/>');\n",
       "    titlebar.append(titletext)\n",
       "    this.root.append(titlebar);\n",
       "    this.header = titletext[0];\n",
       "}\n",
       "\n",
       "\n",
       "\n",
       "mpl.figure.prototype._canvas_extra_style = function(canvas_div) {\n",
       "\n",
       "}\n",
       "\n",
       "\n",
       "mpl.figure.prototype._root_extra_style = function(canvas_div) {\n",
       "\n",
       "}\n",
       "\n",
       "mpl.figure.prototype._init_canvas = function() {\n",
       "    var fig = this;\n",
       "\n",
       "    var canvas_div = $('<div/>');\n",
       "\n",
       "    canvas_div.attr('style', 'position: relative; clear: both; outline: 0');\n",
       "\n",
       "    function canvas_keyboard_event(event) {\n",
       "        return fig.key_event(event, event['data']);\n",
       "    }\n",
       "\n",
       "    canvas_div.keydown('key_press', canvas_keyboard_event);\n",
       "    canvas_div.keyup('key_release', canvas_keyboard_event);\n",
       "    this.canvas_div = canvas_div\n",
       "    this._canvas_extra_style(canvas_div)\n",
       "    this.root.append(canvas_div);\n",
       "\n",
       "    var canvas = $('<canvas/>');\n",
       "    canvas.addClass('mpl-canvas');\n",
       "    canvas.attr('style', \"left: 0; top: 0; z-index: 0; outline: 0\")\n",
       "\n",
       "    this.canvas = canvas[0];\n",
       "    this.context = canvas[0].getContext(\"2d\");\n",
       "\n",
       "    var backingStore = this.context.backingStorePixelRatio ||\n",
       "\tthis.context.webkitBackingStorePixelRatio ||\n",
       "\tthis.context.mozBackingStorePixelRatio ||\n",
       "\tthis.context.msBackingStorePixelRatio ||\n",
       "\tthis.context.oBackingStorePixelRatio ||\n",
       "\tthis.context.backingStorePixelRatio || 1;\n",
       "\n",
       "    mpl.ratio = (window.devicePixelRatio || 1) / backingStore;\n",
       "\n",
       "    var rubberband = $('<canvas/>');\n",
       "    rubberband.attr('style', \"position: absolute; left: 0; top: 0; z-index: 1;\")\n",
       "\n",
       "    var pass_mouse_events = true;\n",
       "\n",
       "    canvas_div.resizable({\n",
       "        start: function(event, ui) {\n",
       "            pass_mouse_events = false;\n",
       "        },\n",
       "        resize: function(event, ui) {\n",
       "            fig.request_resize(ui.size.width, ui.size.height);\n",
       "        },\n",
       "        stop: function(event, ui) {\n",
       "            pass_mouse_events = true;\n",
       "            fig.request_resize(ui.size.width, ui.size.height);\n",
       "        },\n",
       "    });\n",
       "\n",
       "    function mouse_event_fn(event) {\n",
       "        if (pass_mouse_events)\n",
       "            return fig.mouse_event(event, event['data']);\n",
       "    }\n",
       "\n",
       "    rubberband.mousedown('button_press', mouse_event_fn);\n",
       "    rubberband.mouseup('button_release', mouse_event_fn);\n",
       "    // Throttle sequential mouse events to 1 every 20ms.\n",
       "    rubberband.mousemove('motion_notify', mouse_event_fn);\n",
       "\n",
       "    rubberband.mouseenter('figure_enter', mouse_event_fn);\n",
       "    rubberband.mouseleave('figure_leave', mouse_event_fn);\n",
       "\n",
       "    canvas_div.on(\"wheel\", function (event) {\n",
       "        event = event.originalEvent;\n",
       "        event['data'] = 'scroll'\n",
       "        if (event.deltaY < 0) {\n",
       "            event.step = 1;\n",
       "        } else {\n",
       "            event.step = -1;\n",
       "        }\n",
       "        mouse_event_fn(event);\n",
       "    });\n",
       "\n",
       "    canvas_div.append(canvas);\n",
       "    canvas_div.append(rubberband);\n",
       "\n",
       "    this.rubberband = rubberband;\n",
       "    this.rubberband_canvas = rubberband[0];\n",
       "    this.rubberband_context = rubberband[0].getContext(\"2d\");\n",
       "    this.rubberband_context.strokeStyle = \"#000000\";\n",
       "\n",
       "    this._resize_canvas = function(width, height) {\n",
       "        // Keep the size of the canvas, canvas container, and rubber band\n",
       "        // canvas in synch.\n",
       "        canvas_div.css('width', width)\n",
       "        canvas_div.css('height', height)\n",
       "\n",
       "        canvas.attr('width', width * mpl.ratio);\n",
       "        canvas.attr('height', height * mpl.ratio);\n",
       "        canvas.attr('style', 'width: ' + width + 'px; height: ' + height + 'px;');\n",
       "\n",
       "        rubberband.attr('width', width);\n",
       "        rubberband.attr('height', height);\n",
       "    }\n",
       "\n",
       "    // Set the figure to an initial 600x600px, this will subsequently be updated\n",
       "    // upon first draw.\n",
       "    this._resize_canvas(600, 600);\n",
       "\n",
       "    // Disable right mouse context menu.\n",
       "    $(this.rubberband_canvas).bind(\"contextmenu\",function(e){\n",
       "        return false;\n",
       "    });\n",
       "\n",
       "    function set_focus () {\n",
       "        canvas.focus();\n",
       "        canvas_div.focus();\n",
       "    }\n",
       "\n",
       "    window.setTimeout(set_focus, 100);\n",
       "}\n",
       "\n",
       "mpl.figure.prototype._init_toolbar = function() {\n",
       "    var fig = this;\n",
       "\n",
       "    var nav_element = $('<div/>')\n",
       "    nav_element.attr('style', 'width: 100%');\n",
       "    this.root.append(nav_element);\n",
       "\n",
       "    // Define a callback function for later on.\n",
       "    function toolbar_event(event) {\n",
       "        return fig.toolbar_button_onclick(event['data']);\n",
       "    }\n",
       "    function toolbar_mouse_event(event) {\n",
       "        return fig.toolbar_button_onmouseover(event['data']);\n",
       "    }\n",
       "\n",
       "    for(var toolbar_ind in mpl.toolbar_items) {\n",
       "        var name = mpl.toolbar_items[toolbar_ind][0];\n",
       "        var tooltip = mpl.toolbar_items[toolbar_ind][1];\n",
       "        var image = mpl.toolbar_items[toolbar_ind][2];\n",
       "        var method_name = mpl.toolbar_items[toolbar_ind][3];\n",
       "\n",
       "        if (!name) {\n",
       "            // put a spacer in here.\n",
       "            continue;\n",
       "        }\n",
       "        var button = $('<button/>');\n",
       "        button.addClass('ui-button ui-widget ui-state-default ui-corner-all ' +\n",
       "                        'ui-button-icon-only');\n",
       "        button.attr('role', 'button');\n",
       "        button.attr('aria-disabled', 'false');\n",
       "        button.click(method_name, toolbar_event);\n",
       "        button.mouseover(tooltip, toolbar_mouse_event);\n",
       "\n",
       "        var icon_img = $('<span/>');\n",
       "        icon_img.addClass('ui-button-icon-primary ui-icon');\n",
       "        icon_img.addClass(image);\n",
       "        icon_img.addClass('ui-corner-all');\n",
       "\n",
       "        var tooltip_span = $('<span/>');\n",
       "        tooltip_span.addClass('ui-button-text');\n",
       "        tooltip_span.html(tooltip);\n",
       "\n",
       "        button.append(icon_img);\n",
       "        button.append(tooltip_span);\n",
       "\n",
       "        nav_element.append(button);\n",
       "    }\n",
       "\n",
       "    var fmt_picker_span = $('<span/>');\n",
       "\n",
       "    var fmt_picker = $('<select/>');\n",
       "    fmt_picker.addClass('mpl-toolbar-option ui-widget ui-widget-content');\n",
       "    fmt_picker_span.append(fmt_picker);\n",
       "    nav_element.append(fmt_picker_span);\n",
       "    this.format_dropdown = fmt_picker[0];\n",
       "\n",
       "    for (var ind in mpl.extensions) {\n",
       "        var fmt = mpl.extensions[ind];\n",
       "        var option = $(\n",
       "            '<option/>', {selected: fmt === mpl.default_extension}).html(fmt);\n",
       "        fmt_picker.append(option)\n",
       "    }\n",
       "\n",
       "    // Add hover states to the ui-buttons\n",
       "    $( \".ui-button\" ).hover(\n",
       "        function() { $(this).addClass(\"ui-state-hover\");},\n",
       "        function() { $(this).removeClass(\"ui-state-hover\");}\n",
       "    );\n",
       "\n",
       "    var status_bar = $('<span class=\"mpl-message\"/>');\n",
       "    nav_element.append(status_bar);\n",
       "    this.message = status_bar[0];\n",
       "}\n",
       "\n",
       "mpl.figure.prototype.request_resize = function(x_pixels, y_pixels) {\n",
       "    // Request matplotlib to resize the figure. Matplotlib will then trigger a resize in the client,\n",
       "    // which will in turn request a refresh of the image.\n",
       "    this.send_message('resize', {'width': x_pixels, 'height': y_pixels});\n",
       "}\n",
       "\n",
       "mpl.figure.prototype.send_message = function(type, properties) {\n",
       "    properties['type'] = type;\n",
       "    properties['figure_id'] = this.id;\n",
       "    this.ws.send(JSON.stringify(properties));\n",
       "}\n",
       "\n",
       "mpl.figure.prototype.send_draw_message = function() {\n",
       "    if (!this.waiting) {\n",
       "        this.waiting = true;\n",
       "        this.ws.send(JSON.stringify({type: \"draw\", figure_id: this.id}));\n",
       "    }\n",
       "}\n",
       "\n",
       "\n",
       "mpl.figure.prototype.handle_save = function(fig, msg) {\n",
       "    var format_dropdown = fig.format_dropdown;\n",
       "    var format = format_dropdown.options[format_dropdown.selectedIndex].value;\n",
       "    fig.ondownload(fig, format);\n",
       "}\n",
       "\n",
       "\n",
       "mpl.figure.prototype.handle_resize = function(fig, msg) {\n",
       "    var size = msg['size'];\n",
       "    if (size[0] != fig.canvas.width || size[1] != fig.canvas.height) {\n",
       "        fig._resize_canvas(size[0], size[1]);\n",
       "        fig.send_message(\"refresh\", {});\n",
       "    };\n",
       "}\n",
       "\n",
       "mpl.figure.prototype.handle_rubberband = function(fig, msg) {\n",
       "    var x0 = msg['x0'] / mpl.ratio;\n",
       "    var y0 = (fig.canvas.height - msg['y0']) / mpl.ratio;\n",
       "    var x1 = msg['x1'] / mpl.ratio;\n",
       "    var y1 = (fig.canvas.height - msg['y1']) / mpl.ratio;\n",
       "    x0 = Math.floor(x0) + 0.5;\n",
       "    y0 = Math.floor(y0) + 0.5;\n",
       "    x1 = Math.floor(x1) + 0.5;\n",
       "    y1 = Math.floor(y1) + 0.5;\n",
       "    var min_x = Math.min(x0, x1);\n",
       "    var min_y = Math.min(y0, y1);\n",
       "    var width = Math.abs(x1 - x0);\n",
       "    var height = Math.abs(y1 - y0);\n",
       "\n",
       "    fig.rubberband_context.clearRect(\n",
       "        0, 0, fig.canvas.width, fig.canvas.height);\n",
       "\n",
       "    fig.rubberband_context.strokeRect(min_x, min_y, width, height);\n",
       "}\n",
       "\n",
       "mpl.figure.prototype.handle_figure_label = function(fig, msg) {\n",
       "    // Updates the figure title.\n",
       "    fig.header.textContent = msg['label'];\n",
       "}\n",
       "\n",
       "mpl.figure.prototype.handle_cursor = function(fig, msg) {\n",
       "    var cursor = msg['cursor'];\n",
       "    switch(cursor)\n",
       "    {\n",
       "    case 0:\n",
       "        cursor = 'pointer';\n",
       "        break;\n",
       "    case 1:\n",
       "        cursor = 'default';\n",
       "        break;\n",
       "    case 2:\n",
       "        cursor = 'crosshair';\n",
       "        break;\n",
       "    case 3:\n",
       "        cursor = 'move';\n",
       "        break;\n",
       "    }\n",
       "    fig.rubberband_canvas.style.cursor = cursor;\n",
       "}\n",
       "\n",
       "mpl.figure.prototype.handle_message = function(fig, msg) {\n",
       "    fig.message.textContent = msg['message'];\n",
       "}\n",
       "\n",
       "mpl.figure.prototype.handle_draw = function(fig, msg) {\n",
       "    // Request the server to send over a new figure.\n",
       "    fig.send_draw_message();\n",
       "}\n",
       "\n",
       "mpl.figure.prototype.handle_image_mode = function(fig, msg) {\n",
       "    fig.image_mode = msg['mode'];\n",
       "}\n",
       "\n",
       "mpl.figure.prototype.updated_canvas_event = function() {\n",
       "    // Called whenever the canvas gets updated.\n",
       "    this.send_message(\"ack\", {});\n",
       "}\n",
       "\n",
       "// A function to construct a web socket function for onmessage handling.\n",
       "// Called in the figure constructor.\n",
       "mpl.figure.prototype._make_on_message_function = function(fig) {\n",
       "    return function socket_on_message(evt) {\n",
       "        if (evt.data instanceof Blob) {\n",
       "            /* FIXME: We get \"Resource interpreted as Image but\n",
       "             * transferred with MIME type text/plain:\" errors on\n",
       "             * Chrome.  But how to set the MIME type?  It doesn't seem\n",
       "             * to be part of the websocket stream */\n",
       "            evt.data.type = \"image/png\";\n",
       "\n",
       "            /* Free the memory for the previous frames */\n",
       "            if (fig.imageObj.src) {\n",
       "                (window.URL || window.webkitURL).revokeObjectURL(\n",
       "                    fig.imageObj.src);\n",
       "            }\n",
       "\n",
       "            fig.imageObj.src = (window.URL || window.webkitURL).createObjectURL(\n",
       "                evt.data);\n",
       "            fig.updated_canvas_event();\n",
       "            fig.waiting = false;\n",
       "            return;\n",
       "        }\n",
       "        else if (typeof evt.data === 'string' && evt.data.slice(0, 21) == \"data:image/png;base64\") {\n",
       "            fig.imageObj.src = evt.data;\n",
       "            fig.updated_canvas_event();\n",
       "            fig.waiting = false;\n",
       "            return;\n",
       "        }\n",
       "\n",
       "        var msg = JSON.parse(evt.data);\n",
       "        var msg_type = msg['type'];\n",
       "\n",
       "        // Call the  \"handle_{type}\" callback, which takes\n",
       "        // the figure and JSON message as its only arguments.\n",
       "        try {\n",
       "            var callback = fig[\"handle_\" + msg_type];\n",
       "        } catch (e) {\n",
       "            console.log(\"No handler for the '\" + msg_type + \"' message type: \", msg);\n",
       "            return;\n",
       "        }\n",
       "\n",
       "        if (callback) {\n",
       "            try {\n",
       "                // console.log(\"Handling '\" + msg_type + \"' message: \", msg);\n",
       "                callback(fig, msg);\n",
       "            } catch (e) {\n",
       "                console.log(\"Exception inside the 'handler_\" + msg_type + \"' callback:\", e, e.stack, msg);\n",
       "            }\n",
       "        }\n",
       "    };\n",
       "}\n",
       "\n",
       "// from http://stackoverflow.com/questions/1114465/getting-mouse-location-in-canvas\n",
       "mpl.findpos = function(e) {\n",
       "    //this section is from http://www.quirksmode.org/js/events_properties.html\n",
       "    var targ;\n",
       "    if (!e)\n",
       "        e = window.event;\n",
       "    if (e.target)\n",
       "        targ = e.target;\n",
       "    else if (e.srcElement)\n",
       "        targ = e.srcElement;\n",
       "    if (targ.nodeType == 3) // defeat Safari bug\n",
       "        targ = targ.parentNode;\n",
       "\n",
       "    // jQuery normalizes the pageX and pageY\n",
       "    // pageX,Y are the mouse positions relative to the document\n",
       "    // offset() returns the position of the element relative to the document\n",
       "    var x = e.pageX - $(targ).offset().left;\n",
       "    var y = e.pageY - $(targ).offset().top;\n",
       "\n",
       "    return {\"x\": x, \"y\": y};\n",
       "};\n",
       "\n",
       "/*\n",
       " * return a copy of an object with only non-object keys\n",
       " * we need this to avoid circular references\n",
       " * http://stackoverflow.com/a/24161582/3208463\n",
       " */\n",
       "function simpleKeys (original) {\n",
       "  return Object.keys(original).reduce(function (obj, key) {\n",
       "    if (typeof original[key] !== 'object')\n",
       "        obj[key] = original[key]\n",
       "    return obj;\n",
       "  }, {});\n",
       "}\n",
       "\n",
       "mpl.figure.prototype.mouse_event = function(event, name) {\n",
       "    var canvas_pos = mpl.findpos(event)\n",
       "\n",
       "    if (name === 'button_press')\n",
       "    {\n",
       "        this.canvas.focus();\n",
       "        this.canvas_div.focus();\n",
       "    }\n",
       "\n",
       "    var x = canvas_pos.x * mpl.ratio;\n",
       "    var y = canvas_pos.y * mpl.ratio;\n",
       "\n",
       "    this.send_message(name, {x: x, y: y, button: event.button,\n",
       "                             step: event.step,\n",
       "                             guiEvent: simpleKeys(event)});\n",
       "\n",
       "    /* This prevents the web browser from automatically changing to\n",
       "     * the text insertion cursor when the button is pressed.  We want\n",
       "     * to control all of the cursor setting manually through the\n",
       "     * 'cursor' event from matplotlib */\n",
       "    event.preventDefault();\n",
       "    return false;\n",
       "}\n",
       "\n",
       "mpl.figure.prototype._key_event_extra = function(event, name) {\n",
       "    // Handle any extra behaviour associated with a key event\n",
       "}\n",
       "\n",
       "mpl.figure.prototype.key_event = function(event, name) {\n",
       "\n",
       "    // Prevent repeat events\n",
       "    if (name == 'key_press')\n",
       "    {\n",
       "        if (event.which === this._key)\n",
       "            return;\n",
       "        else\n",
       "            this._key = event.which;\n",
       "    }\n",
       "    if (name == 'key_release')\n",
       "        this._key = null;\n",
       "\n",
       "    var value = '';\n",
       "    if (event.ctrlKey && event.which != 17)\n",
       "        value += \"ctrl+\";\n",
       "    if (event.altKey && event.which != 18)\n",
       "        value += \"alt+\";\n",
       "    if (event.shiftKey && event.which != 16)\n",
       "        value += \"shift+\";\n",
       "\n",
       "    value += 'k';\n",
       "    value += event.which.toString();\n",
       "\n",
       "    this._key_event_extra(event, name);\n",
       "\n",
       "    this.send_message(name, {key: value,\n",
       "                             guiEvent: simpleKeys(event)});\n",
       "    return false;\n",
       "}\n",
       "\n",
       "mpl.figure.prototype.toolbar_button_onclick = function(name) {\n",
       "    if (name == 'download') {\n",
       "        this.handle_save(this, null);\n",
       "    } else {\n",
       "        this.send_message(\"toolbar_button\", {name: name});\n",
       "    }\n",
       "};\n",
       "\n",
       "mpl.figure.prototype.toolbar_button_onmouseover = function(tooltip) {\n",
       "    this.message.textContent = tooltip;\n",
       "};\n",
       "mpl.toolbar_items = [[\"Home\", \"Reset original view\", \"fa fa-home icon-home\", \"home\"], [\"Back\", \"Back to  previous view\", \"fa fa-arrow-left icon-arrow-left\", \"back\"], [\"Forward\", \"Forward to next view\", \"fa fa-arrow-right icon-arrow-right\", \"forward\"], [\"\", \"\", \"\", \"\"], [\"Pan\", \"Pan axes with left mouse, zoom with right\", \"fa fa-arrows icon-move\", \"pan\"], [\"Zoom\", \"Zoom to rectangle\", \"fa fa-square-o icon-check-empty\", \"zoom\"], [\"\", \"\", \"\", \"\"], [\"Download\", \"Download plot\", \"fa fa-floppy-o icon-save\", \"download\"]];\n",
       "\n",
       "mpl.extensions = [\"eps\", \"jpeg\", \"pdf\", \"png\", \"ps\", \"raw\", \"svg\", \"tif\"];\n",
       "\n",
       "mpl.default_extension = \"png\";var comm_websocket_adapter = function(comm) {\n",
       "    // Create a \"websocket\"-like object which calls the given IPython comm\n",
       "    // object with the appropriate methods. Currently this is a non binary\n",
       "    // socket, so there is still some room for performance tuning.\n",
       "    var ws = {};\n",
       "\n",
       "    ws.close = function() {\n",
       "        comm.close()\n",
       "    };\n",
       "    ws.send = function(m) {\n",
       "        //console.log('sending', m);\n",
       "        comm.send(m);\n",
       "    };\n",
       "    // Register the callback with on_msg.\n",
       "    comm.on_msg(function(msg) {\n",
       "        //console.log('receiving', msg['content']['data'], msg);\n",
       "        // Pass the mpl event to the overridden (by mpl) onmessage function.\n",
       "        ws.onmessage(msg['content']['data'])\n",
       "    });\n",
       "    return ws;\n",
       "}\n",
       "\n",
       "mpl.mpl_figure_comm = function(comm, msg) {\n",
       "    // This is the function which gets called when the mpl process\n",
       "    // starts-up an IPython Comm through the \"matplotlib\" channel.\n",
       "\n",
       "    var id = msg.content.data.id;\n",
       "    // Get hold of the div created by the display call when the Comm\n",
       "    // socket was opened in Python.\n",
       "    var element = $(\"#\" + id);\n",
       "    var ws_proxy = comm_websocket_adapter(comm)\n",
       "\n",
       "    function ondownload(figure, format) {\n",
       "        window.open(figure.imageObj.src);\n",
       "    }\n",
       "\n",
       "    var fig = new mpl.figure(id, ws_proxy,\n",
       "                           ondownload,\n",
       "                           element.get(0));\n",
       "\n",
       "    // Call onopen now - mpl needs it, as it is assuming we've passed it a real\n",
       "    // web socket which is closed, not our websocket->open comm proxy.\n",
       "    ws_proxy.onopen();\n",
       "\n",
       "    fig.parent_element = element.get(0);\n",
       "    fig.cell_info = mpl.find_output_cell(\"<div id='\" + id + \"'></div>\");\n",
       "    if (!fig.cell_info) {\n",
       "        console.error(\"Failed to find cell for figure\", id, fig);\n",
       "        return;\n",
       "    }\n",
       "\n",
       "    var output_index = fig.cell_info[2]\n",
       "    var cell = fig.cell_info[0];\n",
       "\n",
       "};\n",
       "\n",
       "mpl.figure.prototype.handle_close = function(fig, msg) {\n",
       "    var width = fig.canvas.width/mpl.ratio\n",
       "    fig.root.unbind('remove')\n",
       "\n",
       "    // Update the output cell to use the data from the current canvas.\n",
       "    fig.push_to_output();\n",
       "    var dataURL = fig.canvas.toDataURL();\n",
       "    // Re-enable the keyboard manager in IPython - without this line, in FF,\n",
       "    // the notebook keyboard shortcuts fail.\n",
       "    IPython.keyboard_manager.enable()\n",
       "    $(fig.parent_element).html('<img src=\"' + dataURL + '\" width=\"' + width + '\">');\n",
       "    fig.close_ws(fig, msg);\n",
       "}\n",
       "\n",
       "mpl.figure.prototype.close_ws = function(fig, msg){\n",
       "    fig.send_message('closing', msg);\n",
       "    // fig.ws.close()\n",
       "}\n",
       "\n",
       "mpl.figure.prototype.push_to_output = function(remove_interactive) {\n",
       "    // Turn the data on the canvas into data in the output cell.\n",
       "    var width = this.canvas.width/mpl.ratio\n",
       "    var dataURL = this.canvas.toDataURL();\n",
       "    this.cell_info[1]['text/html'] = '<img src=\"' + dataURL + '\" width=\"' + width + '\">';\n",
       "}\n",
       "\n",
       "mpl.figure.prototype.updated_canvas_event = function() {\n",
       "    // Tell IPython that the notebook contents must change.\n",
       "    IPython.notebook.set_dirty(true);\n",
       "    this.send_message(\"ack\", {});\n",
       "    var fig = this;\n",
       "    // Wait a second, then push the new image to the DOM so\n",
       "    // that it is saved nicely (might be nice to debounce this).\n",
       "    setTimeout(function () { fig.push_to_output() }, 1000);\n",
       "}\n",
       "\n",
       "mpl.figure.prototype._init_toolbar = function() {\n",
       "    var fig = this;\n",
       "\n",
       "    var nav_element = $('<div/>')\n",
       "    nav_element.attr('style', 'width: 100%');\n",
       "    this.root.append(nav_element);\n",
       "\n",
       "    // Define a callback function for later on.\n",
       "    function toolbar_event(event) {\n",
       "        return fig.toolbar_button_onclick(event['data']);\n",
       "    }\n",
       "    function toolbar_mouse_event(event) {\n",
       "        return fig.toolbar_button_onmouseover(event['data']);\n",
       "    }\n",
       "\n",
       "    for(var toolbar_ind in mpl.toolbar_items){\n",
       "        var name = mpl.toolbar_items[toolbar_ind][0];\n",
       "        var tooltip = mpl.toolbar_items[toolbar_ind][1];\n",
       "        var image = mpl.toolbar_items[toolbar_ind][2];\n",
       "        var method_name = mpl.toolbar_items[toolbar_ind][3];\n",
       "\n",
       "        if (!name) { continue; };\n",
       "\n",
       "        var button = $('<button class=\"btn btn-default\" href=\"#\" title=\"' + name + '\"><i class=\"fa ' + image + ' fa-lg\"></i></button>');\n",
       "        button.click(method_name, toolbar_event);\n",
       "        button.mouseover(tooltip, toolbar_mouse_event);\n",
       "        nav_element.append(button);\n",
       "    }\n",
       "\n",
       "    // Add the status bar.\n",
       "    var status_bar = $('<span class=\"mpl-message\" style=\"text-align:right; float: right;\"/>');\n",
       "    nav_element.append(status_bar);\n",
       "    this.message = status_bar[0];\n",
       "\n",
       "    // Add the close button to the window.\n",
       "    var buttongrp = $('<div class=\"btn-group inline pull-right\"></div>');\n",
       "    var button = $('<button class=\"btn btn-mini btn-primary\" href=\"#\" title=\"Stop Interaction\"><i class=\"fa fa-power-off icon-remove icon-large\"></i></button>');\n",
       "    button.click(function (evt) { fig.handle_close(fig, {}); } );\n",
       "    button.mouseover('Stop Interaction', toolbar_mouse_event);\n",
       "    buttongrp.append(button);\n",
       "    var titlebar = this.root.find($('.ui-dialog-titlebar'));\n",
       "    titlebar.prepend(buttongrp);\n",
       "}\n",
       "\n",
       "mpl.figure.prototype._root_extra_style = function(el){\n",
       "    var fig = this\n",
       "    el.on(\"remove\", function(){\n",
       "\tfig.close_ws(fig, {});\n",
       "    });\n",
       "}\n",
       "\n",
       "mpl.figure.prototype._canvas_extra_style = function(el){\n",
       "    // this is important to make the div 'focusable\n",
       "    el.attr('tabindex', 0)\n",
       "    // reach out to IPython and tell the keyboard manager to turn it's self\n",
       "    // off when our div gets focus\n",
       "\n",
       "    // location in version 3\n",
       "    if (IPython.notebook.keyboard_manager) {\n",
       "        IPython.notebook.keyboard_manager.register_events(el);\n",
       "    }\n",
       "    else {\n",
       "        // location in version 2\n",
       "        IPython.keyboard_manager.register_events(el);\n",
       "    }\n",
       "\n",
       "}\n",
       "\n",
       "mpl.figure.prototype._key_event_extra = function(event, name) {\n",
       "    var manager = IPython.notebook.keyboard_manager;\n",
       "    if (!manager)\n",
       "        manager = IPython.keyboard_manager;\n",
       "\n",
       "    // Check for shift+enter\n",
       "    if (event.shiftKey && event.which == 13) {\n",
       "        this.canvas_div.blur();\n",
       "        event.shiftKey = false;\n",
       "        // Send a \"J\" for go to next cell\n",
       "        event.which = 74;\n",
       "        event.keyCode = 74;\n",
       "        manager.command_mode();\n",
       "        manager.handle_keydown(event);\n",
       "    }\n",
       "}\n",
       "\n",
       "mpl.figure.prototype.handle_save = function(fig, msg) {\n",
       "    fig.ondownload(fig, null);\n",
       "}\n",
       "\n",
       "\n",
       "mpl.find_output_cell = function(html_output) {\n",
       "    // Return the cell and output element which can be found *uniquely* in the notebook.\n",
       "    // Note - this is a bit hacky, but it is done because the \"notebook_saving.Notebook\"\n",
       "    // IPython event is triggered only after the cells have been serialised, which for\n",
       "    // our purposes (turning an active figure into a static one), is too late.\n",
       "    var cells = IPython.notebook.get_cells();\n",
       "    var ncells = cells.length;\n",
       "    for (var i=0; i<ncells; i++) {\n",
       "        var cell = cells[i];\n",
       "        if (cell.cell_type === 'code'){\n",
       "            for (var j=0; j<cell.output_area.outputs.length; j++) {\n",
       "                var data = cell.output_area.outputs[j];\n",
       "                if (data.data) {\n",
       "                    // IPython >= 3 moved mimebundle to data attribute of output\n",
       "                    data = data.data;\n",
       "                }\n",
       "                if (data['text/html'] == html_output) {\n",
       "                    return [cell, data, j];\n",
       "                }\n",
       "            }\n",
       "        }\n",
       "    }\n",
       "}\n",
       "\n",
       "// Register the function which deals with the matplotlib target/channel.\n",
       "// The kernel may be null if the page has been refreshed.\n",
       "if (IPython.notebook.kernel != null) {\n",
       "    IPython.notebook.kernel.comm_manager.register_target('matplotlib', mpl.mpl_figure_comm);\n",
       "}\n"
      ],
      "text/plain": [
       "<IPython.core.display.Javascript object>"
      ]
     },
     "metadata": {},
     "output_type": "display_data"
    },
    {
     "data": {
      "text/html": [
       "<img src=\"data:image/png;base64,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\" width=\"640\">"
      ],
      "text/plain": [
       "<IPython.core.display.HTML object>"
      ]
     },
     "metadata": {},
     "output_type": "display_data"
    },
    {
     "data": {
      "text/plain": [
       "<matplotlib.axes._subplots.AxesSubplot at 0xb224d4a90>"
      ]
     },
     "execution_count": 49,
     "metadata": {},
     "output_type": "execute_result"
    }
   ],
   "source": [
    "cii_roi[0, 30].plot()"
   ]
  },
  {
   "cell_type": "markdown",
   "metadata": {},
   "source": [
    "#### 3D Slicing"
   ]
  },
  {
   "cell_type": "markdown",
   "metadata": {},
   "source": [
    "Above we treated the data as though it's 4D.  But depending on our science goals and the observing campaign, it may be convenient to think of data as it were 3D, i.e. that the repeat raster and slit location axes are combined so that the exposure are simply ordered in time.  The ```IRISSpectrogramCubeSequence``` object makes this easy by providing ```cube_like``` inspection and slicing."
   ]
  },
  {
   "cell_type": "code",
   "execution_count": 50,
   "metadata": {},
   "outputs": [
    {
     "data": {
      "text/plain": [
       "(<Quantity 2. pix>,\n",
       " <Quantity 32. pix>,\n",
       " <Quantity 198. pix>,\n",
       " <Quantity 512. pix>)"
      ]
     },
     "execution_count": 50,
     "metadata": {},
     "output_type": "execute_result"
    }
   ],
   "source": [
    "my_cii.dimensions"
   ]
  },
  {
   "cell_type": "code",
   "execution_count": 51,
   "metadata": {},
   "outputs": [
    {
     "data": {
      "text/latex": [
       "$[64,~198,~512] \\; \\mathrm{pix}$"
      ],
      "text/plain": [
       "<Quantity [ 64., 198., 512.] pix>"
      ]
     },
     "execution_count": 51,
     "metadata": {},
     "output_type": "execute_result"
    }
   ],
   "source": [
    "my_cii.cube_like_dimensions"
   ]
  },
  {
   "cell_type": "markdown",
   "metadata": {},
   "source": [
    "Note that the data is represented as 3D where the 0th cube-like axis has a length equal to the 0th x 1st axes' lengths."
   ]
  },
  {
   "cell_type": "code",
   "execution_count": 52,
   "metadata": {},
   "outputs": [
    {
     "data": {
      "text/plain": [
       "('meta.obs.sequence',\n",
       " 'custom:pos.helioprojective.lon',\n",
       " 'custom:pos.helioprojective.lat',\n",
       " 'em.wl')"
      ]
     },
     "execution_count": 52,
     "metadata": {},
     "output_type": "execute_result"
    }
   ],
   "source": [
    "my_cii.world_axis_physical_types"
   ]
  },
  {
   "cell_type": "code",
   "execution_count": 53,
   "metadata": {},
   "outputs": [
    {
     "data": {
      "text/plain": [
       "('custom:pos.helioprojective.lon', 'custom:pos.helioprojective.lat', 'em.wl')"
      ]
     },
     "execution_count": 53,
     "metadata": {},
     "output_type": "execute_result"
    }
   ],
   "source": [
    "my_cii.cube_like_world_axis_physical_types"
   ]
  },
  {
   "cell_type": "markdown",
   "metadata": {},
   "source": [
    "Also note that the raster repeat axis has been discarded in favour of just the longitude axis alone."
   ]
  },
  {
   "cell_type": "markdown",
   "metadata": {},
   "source": [
    "We can also slice the data as though it's 3D.  Let's say we want the first 35 exposures, regardless of what raster scan and slit location they correspond to.  And also suppose we only want the 100-175 pixels along the slit and only the 50-100 pixels along the wavelength direction.  This sounds like a comples slicing operation.  But we can use the ```index_as_cube``` property to index the ```IRISSpectrogramCubeSequence``` as if it were a simple 3D array."
   ]
  },
  {
   "cell_type": "code",
   "execution_count": 54,
   "metadata": {},
   "outputs": [],
   "source": [
    "cii_roi_3d = my_cii.index_as_cube[0:35, 100:175, 50:100]"
   ]
  },
  {
   "cell_type": "markdown",
   "metadata": {},
   "source": [
    "Note that the data now have the 3D dimensions we expect."
   ]
  },
  {
   "cell_type": "code",
   "execution_count": 55,
   "metadata": {},
   "outputs": [
    {
     "data": {
      "text/latex": [
       "$[35,~75,~50] \\; \\mathrm{pix}$"
      ],
      "text/plain": [
       "<Quantity [35., 75., 50.] pix>"
      ]
     },
     "execution_count": 55,
     "metadata": {},
     "output_type": "execute_result"
    }
   ],
   "source": [
    "cii_roi_3d.cube_like_dimensions"
   ]
  },
  {
   "cell_type": "code",
   "execution_count": 56,
   "metadata": {},
   "outputs": [
    {
     "data": {
      "text/plain": [
       "('custom:pos.helioprojective.lon', 'custom:pos.helioprojective.lat', 'em.wl')"
      ]
     },
     "execution_count": 56,
     "metadata": {},
     "output_type": "execute_result"
    }
   ],
   "source": [
    "cii_roi_3d.cube_like_world_axis_physical_types"
   ]
  },
  {
   "cell_type": "markdown",
   "metadata": {},
   "source": [
    "However, also note that the data can still be represented in 4D.  In this case note that the 1st quantity, corresponding to the slit location axis, now has two values.  The 0th corresponds to the 0th raster scan.  The value is 32 showing that all slit locations are included.  The 1st, corresponding to 1st raster scan, has a value of 3, showing that only the first 3 slit locations of that raster scan were included in our cube-like slicing operation."
   ]
  },
  {
   "cell_type": "code",
   "execution_count": 57,
   "metadata": {},
   "outputs": [
    {
     "data": {
      "text/plain": [
       "(<Quantity 2. pix>,\n",
       " <Quantity [32.,  3.] pix>,\n",
       " <Quantity 75. pix>,\n",
       " <Quantity 50. pix>)"
      ]
     },
     "execution_count": 57,
     "metadata": {},
     "output_type": "execute_result"
    }
   ],
   "source": [
    "cii_roi_3d.dimensions"
   ]
  },
  {
   "cell_type": "code",
   "execution_count": 58,
   "metadata": {},
   "outputs": [
    {
     "data": {
      "text/plain": [
       "('meta.obs.sequence',\n",
       " 'custom:pos.helioprojective.lon',\n",
       " 'custom:pos.helioprojective.lat',\n",
       " 'em.wl')"
      ]
     },
     "execution_count": 58,
     "metadata": {},
     "output_type": "execute_result"
    }
   ],
   "source": [
    "cii_roi_3d.world_axis_physical_types"
   ]
  },
  {
   "cell_type": "markdown",
   "metadata": {},
   "source": [
    "#### Cropping by Real World Coordinates"
   ]
  },
  {
   "cell_type": "markdown",
   "metadata": {},
   "source": [
    "(__Currently only works for Development Dependencies Install__)"
   ]
  },
  {
   "cell_type": "markdown",
   "metadata": {},
   "source": [
    "We may want to identify a region of interest based on real world coordinates, rather than pixel indices.  To do this, we can use the ```IRISSpetrogramCube.crop_by_coords``` method.  Note that this method currently only exists for ```IRISSpetrogramCube``` and not ```IRISSpetrogramCubeSequence```.  So let's try it with ```my_cii_scan0```.  To use, supply the real world coordinates of the lower corner and upper corner of the region of interest.\n",
    "\n",
    "__(N.B. Depending on the files you read in at the start of this notebook, you may have to alter the values input to this method below.)__"
   ]
  },
  {
   "cell_type": "code",
   "execution_count": 61,
   "metadata": {},
   "outputs": [],
   "source": [
    "rwc_cropped_cii_scan0 = my_cii_scan0.crop_by_coords(lower_corner=(-250*u.arcsec, 60*u.arcsec, 1334*u.angstrom), \n",
    "                                                    upper_corner=(-220*u.arcsec, 90*u.arcsec, 1335*u.angstrom))"
   ]
  },
  {
   "cell_type": "code",
   "execution_count": 62,
   "metadata": {},
   "outputs": [
    {
     "data": {
      "text/plain": [
       "IRISSpectrogramCube\n",
       "---------------------\n",
       "OBS ID: 3690215148\n",
       "OBS Description: Large sparse 32-step raster 31x120 32s  C II   Si IV   Mg II h/k Dee\n",
       "OBS period: 2018-06-17 03:24:47.560000 -- 2018-06-17 04:29:24.084000\n",
       "\n",
       "Spectrogram period: (datetime.datetime(2018, 6, 17, 3, 23, 55, 731000),) -- 2018-06-17 03:47:27.551000\n",
       "Data shape: [24. 48. 21.] pix\n",
       "Axis Types: ('custom:pos.helioprojective.lon', 'custom:pos.helioprojective.lat', 'em.wl')"
      ]
     },
     "execution_count": 62,
     "metadata": {},
     "output_type": "execute_result"
    }
   ],
   "source": [
    "rwc_cropped_cii_scan0"
   ]
  },
  {
   "cell_type": "markdown",
   "metadata": {},
   "source": [
    "Note that if the data is rotated relative to the physical axes, ```crop_by_coords``` finds the smallest region aligned with the data that includes all of the region marked out by the real world coordinates supplied.\n",
    "\n",
    "Also note that this method does not do any interpolation.  Instead it finds the pixel values corresponding to supplied real world coordinates and rounds them up or down to the nearest integer.  So a small change in the input to ```crop_by_coords``` may not affect the output."
   ]
  },
  {
   "cell_type": "markdown",
   "metadata": {},
   "source": [
    "### A Quick Tangent on Astropy Units and Quantities"
   ]
  },
  {
   "cell_type": "markdown",
   "metadata": {},
   "source": [
    "Astropy units are objects representing physical units.  Astropy quantities are numbers or arrays of number which have a unit associated with them."
   ]
  },
  {
   "cell_type": "code",
   "execution_count": 63,
   "metadata": {},
   "outputs": [],
   "source": [
    "import astropy.units as u"
   ]
  },
  {
   "cell_type": "markdown",
   "metadata": {},
   "source": [
    "Units often have a symbol representation and a name representation."
   ]
  },
  {
   "cell_type": "code",
   "execution_count": 64,
   "metadata": {},
   "outputs": [
    {
     "data": {
      "text/latex": [
       "$\\mathrm{s}$"
      ],
      "text/plain": [
       "Unit(\"s\")"
      ]
     },
     "execution_count": 64,
     "metadata": {},
     "output_type": "execute_result"
    }
   ],
   "source": [
    "u.s"
   ]
  },
  {
   "cell_type": "code",
   "execution_count": 65,
   "metadata": {},
   "outputs": [
    {
     "data": {
      "text/latex": [
       "$\\mathrm{s}$"
      ],
      "text/plain": [
       "Unit(\"s\")"
      ]
     },
     "execution_count": 65,
     "metadata": {},
     "output_type": "execute_result"
    }
   ],
   "source": [
    "u.second"
   ]
  },
  {
   "cell_type": "markdown",
   "metadata": {},
   "source": [
    "To construct a Quantity supply the Quantity contructor with number or array and unit object."
   ]
  },
  {
   "cell_type": "code",
   "execution_count": 66,
   "metadata": {},
   "outputs": [],
   "source": [
    "my_time = u.Quantity([1, 2, 3], unit=u.s)"
   ]
  },
  {
   "cell_type": "code",
   "execution_count": 67,
   "metadata": {},
   "outputs": [
    {
     "data": {
      "text/latex": [
       "$[1,~2,~3] \\; \\mathrm{s}$"
      ],
      "text/plain": [
       "<Quantity [1., 2., 3.] s>"
      ]
     },
     "execution_count": 67,
     "metadata": {},
     "output_type": "execute_result"
    }
   ],
   "source": [
    "my_time"
   ]
  },
  {
   "cell_type": "markdown",
   "metadata": {},
   "source": [
    "Or multiply a number or list/array or numbers with a unit object."
   ]
  },
  {
   "cell_type": "code",
   "execution_count": 68,
   "metadata": {},
   "outputs": [],
   "source": [
    "my_distance = [20, 50, 80] * u.m"
   ]
  },
  {
   "cell_type": "code",
   "execution_count": 69,
   "metadata": {},
   "outputs": [
    {
     "data": {
      "text/latex": [
       "$[20,~50,~80] \\; \\mathrm{m}$"
      ],
      "text/plain": [
       "<Quantity [20., 50., 80.] m>"
      ]
     },
     "execution_count": 69,
     "metadata": {},
     "output_type": "execute_result"
    }
   ],
   "source": [
    "my_distance"
   ]
  },
  {
   "cell_type": "markdown",
   "metadata": {},
   "source": [
    "#### Quantity Arithmetic"
   ]
  },
  {
   "cell_type": "markdown",
   "metadata": {},
   "source": [
    "Quantities can be used in simple arithmetic operations.  Not only are the numbers handled but the units are changed as appropriate."
   ]
  },
  {
   "cell_type": "code",
   "execution_count": 70,
   "metadata": {},
   "outputs": [],
   "source": [
    "my_speed = my_distance / my_time"
   ]
  },
  {
   "cell_type": "code",
   "execution_count": 71,
   "metadata": {},
   "outputs": [
    {
     "data": {
      "text/latex": [
       "$[20,~25,~26.666667] \\; \\mathrm{\\frac{m}{s}}$"
      ],
      "text/plain": [
       "<Quantity [20.        , 25.        , 26.66666667] m / s>"
      ]
     },
     "execution_count": 71,
     "metadata": {},
     "output_type": "execute_result"
    }
   ],
   "source": [
    "my_speed"
   ]
  },
  {
   "cell_type": "markdown",
   "metadata": {},
   "source": [
    "Quantities check unit compatibility before performing the operation and stop you doing unphysical things."
   ]
  },
  {
   "cell_type": "code",
   "execution_count": 72,
   "metadata": {},
   "outputs": [
    {
     "ename": "UnitConversionError",
     "evalue": "Can only apply 'add' function to quantities with compatible dimensions",
     "output_type": "error",
     "traceback": [
      "\u001b[0;31m---------------------------------------------------------------------------\u001b[0m",
      "\u001b[0;31mUnitConversionError\u001b[0m                       Traceback (most recent call last)",
      "\u001b[0;32m~/anaconda3/envs/irispy-ndcube-sunpy-dev/lib/python3.6/site-packages/astropy/units/quantity_helper.py\u001b[0m in \u001b[0;36mget_converter\u001b[0;34m(from_unit, to_unit)\u001b[0m\n\u001b[1;32m     28\u001b[0m     \u001b[0;32mtry\u001b[0m\u001b[0;34m:\u001b[0m\u001b[0;34m\u001b[0m\u001b[0m\n\u001b[0;32m---> 29\u001b[0;31m         \u001b[0mscale\u001b[0m \u001b[0;34m=\u001b[0m \u001b[0mfrom_unit\u001b[0m\u001b[0;34m.\u001b[0m\u001b[0m_to\u001b[0m\u001b[0;34m(\u001b[0m\u001b[0mto_unit\u001b[0m\u001b[0;34m)\u001b[0m\u001b[0;34m\u001b[0m\u001b[0m\n\u001b[0m\u001b[1;32m     30\u001b[0m     \u001b[0;32mexcept\u001b[0m \u001b[0mUnitsError\u001b[0m\u001b[0;34m:\u001b[0m\u001b[0;34m\u001b[0m\u001b[0m\n",
      "\u001b[0;32m~/anaconda3/envs/irispy-ndcube-sunpy-dev/lib/python3.6/site-packages/astropy/units/core.py\u001b[0m in \u001b[0;36m_to\u001b[0;34m(self, other)\u001b[0m\n\u001b[1;32m    931\u001b[0m         raise UnitConversionError(\n\u001b[0;32m--> 932\u001b[0;31m             \"'{0!r}' is not a scaled version of '{1!r}'\".format(self, other))\n\u001b[0m\u001b[1;32m    933\u001b[0m \u001b[0;34m\u001b[0m\u001b[0m\n",
      "\u001b[0;31mUnitConversionError\u001b[0m: 'Unit(\"s\")' is not a scaled version of 'Unit(\"m\")'",
      "\nDuring handling of the above exception, another exception occurred:\n",
      "\u001b[0;31mUnitConversionError\u001b[0m                       Traceback (most recent call last)",
      "\u001b[0;32m~/anaconda3/envs/irispy-ndcube-sunpy-dev/lib/python3.6/site-packages/astropy/units/quantity_helper.py\u001b[0m in \u001b[0;36mget_converters_and_unit\u001b[0;34m(f, unit1, unit2)\u001b[0m\n\u001b[1;32m     73\u001b[0m         \u001b[0;32mtry\u001b[0m\u001b[0;34m:\u001b[0m\u001b[0;34m\u001b[0m\u001b[0m\n\u001b[0;32m---> 74\u001b[0;31m             \u001b[0mconverters\u001b[0m\u001b[0;34m[\u001b[0m\u001b[0mchangeable\u001b[0m\u001b[0;34m]\u001b[0m \u001b[0;34m=\u001b[0m \u001b[0mget_converter\u001b[0m\u001b[0;34m(\u001b[0m\u001b[0munit2\u001b[0m\u001b[0;34m,\u001b[0m \u001b[0munit1\u001b[0m\u001b[0;34m)\u001b[0m\u001b[0;34m\u001b[0m\u001b[0m\n\u001b[0m\u001b[1;32m     75\u001b[0m         \u001b[0;32mexcept\u001b[0m \u001b[0mUnitsError\u001b[0m\u001b[0;34m:\u001b[0m\u001b[0;34m\u001b[0m\u001b[0m\n",
      "\u001b[0;32m~/anaconda3/envs/irispy-ndcube-sunpy-dev/lib/python3.6/site-packages/astropy/units/quantity_helper.py\u001b[0m in \u001b[0;36mget_converter\u001b[0;34m(from_unit, to_unit)\u001b[0m\n\u001b[1;32m     31\u001b[0m         return from_unit._apply_equivalencies(\n\u001b[0;32m---> 32\u001b[0;31m                 from_unit, to_unit, get_current_unit_registry().equivalencies)\n\u001b[0m\u001b[1;32m     33\u001b[0m     \u001b[0;32mexcept\u001b[0m \u001b[0mAttributeError\u001b[0m\u001b[0;34m:\u001b[0m\u001b[0;34m\u001b[0m\u001b[0m\n",
      "\u001b[0;32m~/anaconda3/envs/irispy-ndcube-sunpy-dev/lib/python3.6/site-packages/astropy/units/core.py\u001b[0m in \u001b[0;36m_apply_equivalencies\u001b[0;34m(self, unit, other, equivalencies)\u001b[0m\n\u001b[1;32m    868\u001b[0m             \"{0} and {1} are not convertible\".format(\n\u001b[0;32m--> 869\u001b[0;31m                 unit_str, other_str))\n\u001b[0m\u001b[1;32m    870\u001b[0m \u001b[0;34m\u001b[0m\u001b[0m\n",
      "\u001b[0;31mUnitConversionError\u001b[0m: 's' (time) and 'm' (length) are not convertible",
      "\nDuring handling of the above exception, another exception occurred:\n",
      "\u001b[0;31mUnitConversionError\u001b[0m                       Traceback (most recent call last)",
      "\u001b[0;32m<ipython-input-72-32414bdc90b6>\u001b[0m in \u001b[0;36m<module>\u001b[0;34m()\u001b[0m\n\u001b[0;32m----> 1\u001b[0;31m \u001b[0mmy_distance\u001b[0m \u001b[0;34m+\u001b[0m \u001b[0mmy_time\u001b[0m\u001b[0;34m\u001b[0m\u001b[0m\n\u001b[0m",
      "\u001b[0;32m~/anaconda3/envs/irispy-ndcube-sunpy-dev/lib/python3.6/site-packages/astropy/units/quantity.py\u001b[0m in \u001b[0;36m__array_ufunc__\u001b[0;34m(self, function, method, *inputs, **kwargs)\u001b[0m\n\u001b[1;32m    618\u001b[0m         \u001b[0;31m# consistent units between two inputs (e.g., in np.add) --\u001b[0m\u001b[0;34m\u001b[0m\u001b[0;34m\u001b[0m\u001b[0m\n\u001b[1;32m    619\u001b[0m         \u001b[0;31m# and the unit of the result (or tuple of units for nout > 1).\u001b[0m\u001b[0;34m\u001b[0m\u001b[0;34m\u001b[0m\u001b[0m\n\u001b[0;32m--> 620\u001b[0;31m         \u001b[0mconverters\u001b[0m\u001b[0;34m,\u001b[0m \u001b[0munit\u001b[0m \u001b[0;34m=\u001b[0m \u001b[0mconverters_and_unit\u001b[0m\u001b[0;34m(\u001b[0m\u001b[0mfunction\u001b[0m\u001b[0;34m,\u001b[0m \u001b[0mmethod\u001b[0m\u001b[0;34m,\u001b[0m \u001b[0;34m*\u001b[0m\u001b[0minputs\u001b[0m\u001b[0;34m)\u001b[0m\u001b[0;34m\u001b[0m\u001b[0m\n\u001b[0m\u001b[1;32m    621\u001b[0m \u001b[0;34m\u001b[0m\u001b[0m\n\u001b[1;32m    622\u001b[0m         \u001b[0mout\u001b[0m \u001b[0;34m=\u001b[0m \u001b[0mkwargs\u001b[0m\u001b[0;34m.\u001b[0m\u001b[0mget\u001b[0m\u001b[0;34m(\u001b[0m\u001b[0;34m'out'\u001b[0m\u001b[0;34m,\u001b[0m \u001b[0;32mNone\u001b[0m\u001b[0;34m)\u001b[0m\u001b[0;34m\u001b[0m\u001b[0m\n",
      "\u001b[0;32m~/anaconda3/envs/irispy-ndcube-sunpy-dev/lib/python3.6/site-packages/astropy/units/quantity_helper.py\u001b[0m in \u001b[0;36mconverters_and_unit\u001b[0;34m(function, method, *args)\u001b[0m\n\u001b[1;32m    547\u001b[0m \u001b[0;34m\u001b[0m\u001b[0m\n\u001b[1;32m    548\u001b[0m         \u001b[0;31m# Determine possible conversion functions, and the result unit.\u001b[0m\u001b[0;34m\u001b[0m\u001b[0;34m\u001b[0m\u001b[0m\n\u001b[0;32m--> 549\u001b[0;31m         \u001b[0mconverters\u001b[0m\u001b[0;34m,\u001b[0m \u001b[0mresult_unit\u001b[0m \u001b[0;34m=\u001b[0m \u001b[0mufunc_helper\u001b[0m\u001b[0;34m(\u001b[0m\u001b[0mfunction\u001b[0m\u001b[0;34m,\u001b[0m \u001b[0;34m*\u001b[0m\u001b[0munits\u001b[0m\u001b[0;34m)\u001b[0m\u001b[0;34m\u001b[0m\u001b[0m\n\u001b[0m\u001b[1;32m    550\u001b[0m \u001b[0;34m\u001b[0m\u001b[0m\n\u001b[1;32m    551\u001b[0m         \u001b[0;32mif\u001b[0m \u001b[0many\u001b[0m\u001b[0;34m(\u001b[0m\u001b[0mconverter\u001b[0m \u001b[0;32mis\u001b[0m \u001b[0;32mFalse\u001b[0m \u001b[0;32mfor\u001b[0m \u001b[0mconverter\u001b[0m \u001b[0;32min\u001b[0m \u001b[0mconverters\u001b[0m\u001b[0;34m)\u001b[0m\u001b[0;34m:\u001b[0m\u001b[0;34m\u001b[0m\u001b[0m\n",
      "\u001b[0;32m~/anaconda3/envs/irispy-ndcube-sunpy-dev/lib/python3.6/site-packages/astropy/units/quantity_helper.py\u001b[0m in \u001b[0;36mget_converters_and_unit\u001b[0;34m(f, unit1, unit2)\u001b[0m\n\u001b[1;32m     77\u001b[0m                 \u001b[0;34m\"Can only apply '{0}' function to quantities \"\u001b[0m\u001b[0;34m\u001b[0m\u001b[0m\n\u001b[1;32m     78\u001b[0m                 \u001b[0;34m\"with compatible dimensions\"\u001b[0m\u001b[0;34m\u001b[0m\u001b[0m\n\u001b[0;32m---> 79\u001b[0;31m                 .format(f.__name__))\n\u001b[0m\u001b[1;32m     80\u001b[0m \u001b[0;34m\u001b[0m\u001b[0m\n\u001b[1;32m     81\u001b[0m         \u001b[0;32mreturn\u001b[0m \u001b[0mconverters\u001b[0m\u001b[0;34m,\u001b[0m \u001b[0munit1\u001b[0m\u001b[0;34m\u001b[0m\u001b[0m\n",
      "\u001b[0;31mUnitConversionError\u001b[0m: Can only apply 'add' function to quantities with compatible dimensions"
     ]
    }
   ],
   "source": [
    "my_distance + my_time"
   ]
  },
  {
   "cell_type": "markdown",
   "metadata": {},
   "source": [
    "#### Unit Convervsion"
   ]
  },
  {
   "cell_type": "markdown",
   "metadata": {},
   "source": [
    "Astropy Quantities can perform valid unit conversions.  Use the ```to``` method and supply it with the unit object to which you wish to convert."
   ]
  },
  {
   "cell_type": "code",
   "execution_count": 73,
   "metadata": {},
   "outputs": [
    {
     "data": {
      "text/latex": [
       "$[2 \\times 10^{11},~5 \\times 10^{11},~8 \\times 10^{11}] \\; \\mathrm{\\mathring{A}}$"
      ],
      "text/plain": [
       "<Quantity [2.e+11, 5.e+11, 8.e+11] Angstrom>"
      ]
     },
     "execution_count": 73,
     "metadata": {},
     "output_type": "execute_result"
    }
   ],
   "source": [
    "my_distance.to(\"angstrom\")"
   ]
  },
  {
   "cell_type": "markdown",
   "metadata": {},
   "source": [
    "Incompatible unit conversions will raise an error."
   ]
  },
  {
   "cell_type": "code",
   "execution_count": 74,
   "metadata": {},
   "outputs": [
    {
     "ename": "UnitConversionError",
     "evalue": "'m' (length) and 's' (time) are not convertible",
     "output_type": "error",
     "traceback": [
      "\u001b[0;31m---------------------------------------------------------------------------\u001b[0m",
      "\u001b[0;31mUnitConversionError\u001b[0m                       Traceback (most recent call last)",
      "\u001b[0;32m<ipython-input-74-9025ee2b30e6>\u001b[0m in \u001b[0;36m<module>\u001b[0;34m()\u001b[0m\n\u001b[0;32m----> 1\u001b[0;31m \u001b[0mmy_distance\u001b[0m\u001b[0;34m.\u001b[0m\u001b[0mto\u001b[0m\u001b[0;34m(\u001b[0m\u001b[0mu\u001b[0m\u001b[0;34m.\u001b[0m\u001b[0ms\u001b[0m\u001b[0;34m)\u001b[0m\u001b[0;34m\u001b[0m\u001b[0m\n\u001b[0m",
      "\u001b[0;32m~/anaconda3/envs/irispy-ndcube-sunpy-dev/lib/python3.6/site-packages/astropy/units/quantity.py\u001b[0m in \u001b[0;36mto\u001b[0;34m(self, unit, equivalencies)\u001b[0m\n\u001b[1;32m    845\u001b[0m         \u001b[0;31m# and don't want to slow down this method (esp. the scalar case).\u001b[0m\u001b[0;34m\u001b[0m\u001b[0;34m\u001b[0m\u001b[0m\n\u001b[1;32m    846\u001b[0m         \u001b[0munit\u001b[0m \u001b[0;34m=\u001b[0m \u001b[0mUnit\u001b[0m\u001b[0;34m(\u001b[0m\u001b[0munit\u001b[0m\u001b[0;34m)\u001b[0m\u001b[0;34m\u001b[0m\u001b[0m\n\u001b[0;32m--> 847\u001b[0;31m         \u001b[0;32mreturn\u001b[0m \u001b[0mself\u001b[0m\u001b[0;34m.\u001b[0m\u001b[0m_new_view\u001b[0m\u001b[0;34m(\u001b[0m\u001b[0mself\u001b[0m\u001b[0;34m.\u001b[0m\u001b[0m_to_value\u001b[0m\u001b[0;34m(\u001b[0m\u001b[0munit\u001b[0m\u001b[0;34m,\u001b[0m \u001b[0mequivalencies\u001b[0m\u001b[0;34m)\u001b[0m\u001b[0;34m,\u001b[0m \u001b[0munit\u001b[0m\u001b[0;34m)\u001b[0m\u001b[0;34m\u001b[0m\u001b[0m\n\u001b[0m\u001b[1;32m    848\u001b[0m \u001b[0;34m\u001b[0m\u001b[0m\n\u001b[1;32m    849\u001b[0m     \u001b[0;32mdef\u001b[0m \u001b[0mto_value\u001b[0m\u001b[0;34m(\u001b[0m\u001b[0mself\u001b[0m\u001b[0;34m,\u001b[0m \u001b[0munit\u001b[0m\u001b[0;34m=\u001b[0m\u001b[0;32mNone\u001b[0m\u001b[0;34m,\u001b[0m \u001b[0mequivalencies\u001b[0m\u001b[0;34m=\u001b[0m\u001b[0;34m[\u001b[0m\u001b[0;34m]\u001b[0m\u001b[0;34m)\u001b[0m\u001b[0;34m:\u001b[0m\u001b[0;34m\u001b[0m\u001b[0m\n",
      "\u001b[0;32m~/anaconda3/envs/irispy-ndcube-sunpy-dev/lib/python3.6/site-packages/astropy/units/quantity.py\u001b[0m in \u001b[0;36m_to_value\u001b[0;34m(self, unit, equivalencies)\u001b[0m\n\u001b[1;32m    817\u001b[0m             \u001b[0mequivalencies\u001b[0m \u001b[0;34m=\u001b[0m \u001b[0mself\u001b[0m\u001b[0;34m.\u001b[0m\u001b[0m_equivalencies\u001b[0m\u001b[0;34m\u001b[0m\u001b[0m\n\u001b[1;32m    818\u001b[0m         return self.unit.to(unit, self.view(np.ndarray),\n\u001b[0;32m--> 819\u001b[0;31m                             equivalencies=equivalencies)\n\u001b[0m\u001b[1;32m    820\u001b[0m \u001b[0;34m\u001b[0m\u001b[0m\n\u001b[1;32m    821\u001b[0m     \u001b[0;32mdef\u001b[0m \u001b[0mto\u001b[0m\u001b[0;34m(\u001b[0m\u001b[0mself\u001b[0m\u001b[0;34m,\u001b[0m \u001b[0munit\u001b[0m\u001b[0;34m,\u001b[0m \u001b[0mequivalencies\u001b[0m\u001b[0;34m=\u001b[0m\u001b[0;34m[\u001b[0m\u001b[0;34m]\u001b[0m\u001b[0;34m)\u001b[0m\u001b[0;34m:\u001b[0m\u001b[0;34m\u001b[0m\u001b[0m\n",
      "\u001b[0;32m~/anaconda3/envs/irispy-ndcube-sunpy-dev/lib/python3.6/site-packages/astropy/units/core.py\u001b[0m in \u001b[0;36mto\u001b[0;34m(self, other, value, equivalencies)\u001b[0m\n\u001b[1;32m    963\u001b[0m             \u001b[0mIf\u001b[0m \u001b[0munits\u001b[0m \u001b[0mare\u001b[0m \u001b[0minconsistent\u001b[0m\u001b[0;34m\u001b[0m\u001b[0m\n\u001b[1;32m    964\u001b[0m         \"\"\"\n\u001b[0;32m--> 965\u001b[0;31m         \u001b[0;32mreturn\u001b[0m \u001b[0mself\u001b[0m\u001b[0;34m.\u001b[0m\u001b[0m_get_converter\u001b[0m\u001b[0;34m(\u001b[0m\u001b[0mother\u001b[0m\u001b[0;34m,\u001b[0m \u001b[0mequivalencies\u001b[0m\u001b[0;34m=\u001b[0m\u001b[0mequivalencies\u001b[0m\u001b[0;34m)\u001b[0m\u001b[0;34m(\u001b[0m\u001b[0mvalue\u001b[0m\u001b[0;34m)\u001b[0m\u001b[0;34m\u001b[0m\u001b[0m\n\u001b[0m\u001b[1;32m    966\u001b[0m \u001b[0;34m\u001b[0m\u001b[0m\n\u001b[1;32m    967\u001b[0m     \u001b[0;32mdef\u001b[0m \u001b[0min_units\u001b[0m\u001b[0;34m(\u001b[0m\u001b[0mself\u001b[0m\u001b[0;34m,\u001b[0m \u001b[0mother\u001b[0m\u001b[0;34m,\u001b[0m \u001b[0mvalue\u001b[0m\u001b[0;34m=\u001b[0m\u001b[0;36m1.0\u001b[0m\u001b[0;34m,\u001b[0m \u001b[0mequivalencies\u001b[0m\u001b[0;34m=\u001b[0m\u001b[0;34m[\u001b[0m\u001b[0;34m]\u001b[0m\u001b[0;34m)\u001b[0m\u001b[0;34m:\u001b[0m\u001b[0;34m\u001b[0m\u001b[0m\n",
      "\u001b[0;32m~/anaconda3/envs/irispy-ndcube-sunpy-dev/lib/python3.6/site-packages/astropy/units/core.py\u001b[0m in \u001b[0;36m_get_converter\u001b[0;34m(self, other, equivalencies)\u001b[0m\n\u001b[1;32m    897\u001b[0m                             \u001b[0;32mpass\u001b[0m\u001b[0;34m\u001b[0m\u001b[0m\n\u001b[1;32m    898\u001b[0m \u001b[0;34m\u001b[0m\u001b[0m\n\u001b[0;32m--> 899\u001b[0;31m             \u001b[0;32mraise\u001b[0m \u001b[0mexc\u001b[0m\u001b[0;34m\u001b[0m\u001b[0m\n\u001b[0m\u001b[1;32m    900\u001b[0m \u001b[0;34m\u001b[0m\u001b[0m\n\u001b[1;32m    901\u001b[0m     \u001b[0;32mdef\u001b[0m \u001b[0m_to\u001b[0m\u001b[0;34m(\u001b[0m\u001b[0mself\u001b[0m\u001b[0;34m,\u001b[0m \u001b[0mother\u001b[0m\u001b[0;34m)\u001b[0m\u001b[0;34m:\u001b[0m\u001b[0;34m\u001b[0m\u001b[0m\n",
      "\u001b[0;32m~/anaconda3/envs/irispy-ndcube-sunpy-dev/lib/python3.6/site-packages/astropy/units/core.py\u001b[0m in \u001b[0;36m_get_converter\u001b[0;34m(self, other, equivalencies)\u001b[0m\n\u001b[1;32m    883\u001b[0m         \u001b[0;32mtry\u001b[0m\u001b[0;34m:\u001b[0m\u001b[0;34m\u001b[0m\u001b[0m\n\u001b[1;32m    884\u001b[0m             return self._apply_equivalencies(\n\u001b[0;32m--> 885\u001b[0;31m                 self, other, self._normalize_equivalencies(equivalencies))\n\u001b[0m\u001b[1;32m    886\u001b[0m         \u001b[0;32mexcept\u001b[0m \u001b[0mUnitsError\u001b[0m \u001b[0;32mas\u001b[0m \u001b[0mexc\u001b[0m\u001b[0;34m:\u001b[0m\u001b[0;34m\u001b[0m\u001b[0m\n\u001b[1;32m    887\u001b[0m             \u001b[0;31m# Last hope: maybe other knows how to do it?\u001b[0m\u001b[0;34m\u001b[0m\u001b[0;34m\u001b[0m\u001b[0m\n",
      "\u001b[0;32m~/anaconda3/envs/irispy-ndcube-sunpy-dev/lib/python3.6/site-packages/astropy/units/core.py\u001b[0m in \u001b[0;36m_apply_equivalencies\u001b[0;34m(self, unit, other, equivalencies)\u001b[0m\n\u001b[1;32m    867\u001b[0m         raise UnitConversionError(\n\u001b[1;32m    868\u001b[0m             \"{0} and {1} are not convertible\".format(\n\u001b[0;32m--> 869\u001b[0;31m                 unit_str, other_str))\n\u001b[0m\u001b[1;32m    870\u001b[0m \u001b[0;34m\u001b[0m\u001b[0m\n\u001b[1;32m    871\u001b[0m     \u001b[0;32mdef\u001b[0m \u001b[0m_get_converter\u001b[0m\u001b[0;34m(\u001b[0m\u001b[0mself\u001b[0m\u001b[0;34m,\u001b[0m \u001b[0mother\u001b[0m\u001b[0;34m,\u001b[0m \u001b[0mequivalencies\u001b[0m\u001b[0;34m=\u001b[0m\u001b[0;34m[\u001b[0m\u001b[0;34m]\u001b[0m\u001b[0;34m)\u001b[0m\u001b[0;34m:\u001b[0m\u001b[0;34m\u001b[0m\u001b[0m\n",
      "\u001b[0;31mUnitConversionError\u001b[0m: 'm' (length) and 's' (time) are not convertible"
     ]
    }
   ],
   "source": [
    "my_distance.to(u.s)"
   ]
  },
  {
   "cell_type": "markdown",
   "metadata": {},
   "source": [
    "### Coordinate Transformations"
   ]
  },
  {
   "cell_type": "markdown",
   "metadata": {},
   "source": [
    "To get an array of real world values for every pixel along an axis for a single raster scan, say the wavelength axis (2nd axis using zero-based counting), use the ```axis_world_coordinates``` method.\n",
    "\n",
    "Note these methods only exist for ```IRISSpectrogramCube```s.  So in this example, let's let's use the 0th raster scan from the original C II spectral window data, stored in ```my_cii_scan0```."
   ]
  },
  {
   "cell_type": "code",
   "execution_count": 75,
   "metadata": {},
   "outputs": [
    {
     "data": {
      "text/plain": [
       "('custom:pos.helioprojective.lon', 'custom:pos.helioprojective.lat', 'em.wl')"
      ]
     },
     "execution_count": 75,
     "metadata": {},
     "output_type": "execute_result"
    }
   ],
   "source": [
    "my_cii_scan0.world_axis_physical_types"
   ]
  },
  {
   "cell_type": "code",
   "execution_count": 76,
   "metadata": {},
   "outputs": [],
   "source": [
    "wavelength = my_cii_scan0.axis_world_coords(2)"
   ]
  },
  {
   "cell_type": "code",
   "execution_count": 77,
   "metadata": {},
   "outputs": [
    {
     "data": {
      "text/latex": [
       "$[1.3317028 \\times 10^{-7},~1.3317547 \\times 10^{-7},~1.3318066 \\times 10^{-7},~\\dots,~1.35813 \\times 10^{-7},~1.358182 \\times 10^{-7},~1.3582339 \\times 10^{-7}] \\; \\mathrm{m}$"
      ],
      "text/plain": [
       "<Quantity [1.33170275e-07, 1.33175467e-07, 1.33180659e-07, 1.33185851e-07,\n",
       "           1.33191043e-07, 1.33196235e-07, 1.33201427e-07, 1.33206619e-07,\n",
       "           1.33211811e-07, 1.33217003e-07, 1.33222195e-07, 1.33227387e-07,\n",
       "           1.33232579e-07, 1.33237771e-07, 1.33242963e-07, 1.33248155e-07,\n",
       "           1.33253347e-07, 1.33258539e-07, 1.33263731e-07, 1.33268923e-07,\n",
       "           1.33274115e-07, 1.33279307e-07, 1.33284499e-07, 1.33289691e-07,\n",
       "           1.33294883e-07, 1.33300075e-07, 1.33305267e-07, 1.33310459e-07,\n",
       "           1.33315651e-07, 1.33320843e-07, 1.33326035e-07, 1.33331227e-07,\n",
       "           1.33336419e-07, 1.33341611e-07, 1.33346803e-07, 1.33351995e-07,\n",
       "           1.33357187e-07, 1.33362379e-07, 1.33367571e-07, 1.33372763e-07,\n",
       "           1.33377955e-07, 1.33383147e-07, 1.33388339e-07, 1.33393531e-07,\n",
       "           1.33398723e-07, 1.33403915e-07, 1.33409107e-07, 1.33414299e-07,\n",
       "           1.33419491e-07, 1.33424683e-07, 1.33429875e-07, 1.33435067e-07,\n",
       "           1.33440259e-07, 1.33445451e-07, 1.33450643e-07, 1.33455835e-07,\n",
       "           1.33461027e-07, 1.33466219e-07, 1.33471411e-07, 1.33476603e-07,\n",
       "           1.33481795e-07, 1.33486987e-07, 1.33492179e-07, 1.33497371e-07,\n",
       "           1.33502563e-07, 1.33507755e-07, 1.33512947e-07, 1.33518139e-07,\n",
       "           1.33523331e-07, 1.33528523e-07, 1.33533715e-07, 1.33538907e-07,\n",
       "           1.33544099e-07, 1.33549291e-07, 1.33554483e-07, 1.33559675e-07,\n",
       "           1.33564867e-07, 1.33570059e-07, 1.33575251e-07, 1.33580443e-07,\n",
       "           1.33585635e-07, 1.33590827e-07, 1.33596019e-07, 1.33601211e-07,\n",
       "           1.33606403e-07, 1.33611595e-07, 1.33616787e-07, 1.33621979e-07,\n",
       "           1.33627171e-07, 1.33632363e-07, 1.33637555e-07, 1.33642747e-07,\n",
       "           1.33647939e-07, 1.33653131e-07, 1.33658323e-07, 1.33663515e-07,\n",
       "           1.33668707e-07, 1.33673899e-07, 1.33679091e-07, 1.33684283e-07,\n",
       "           1.33689475e-07, 1.33694667e-07, 1.33699859e-07, 1.33705051e-07,\n",
       "           1.33710243e-07, 1.33715435e-07, 1.33720627e-07, 1.33725819e-07,\n",
       "           1.33731011e-07, 1.33736203e-07, 1.33741395e-07, 1.33746587e-07,\n",
       "           1.33751779e-07, 1.33756971e-07, 1.33762163e-07, 1.33767355e-07,\n",
       "           1.33772547e-07, 1.33777739e-07, 1.33782931e-07, 1.33788123e-07,\n",
       "           1.33793315e-07, 1.33798507e-07, 1.33803699e-07, 1.33808891e-07,\n",
       "           1.33814083e-07, 1.33819275e-07, 1.33824467e-07, 1.33829659e-07,\n",
       "           1.33834851e-07, 1.33840043e-07, 1.33845235e-07, 1.33850427e-07,\n",
       "           1.33855619e-07, 1.33860811e-07, 1.33866003e-07, 1.33871195e-07,\n",
       "           1.33876387e-07, 1.33881579e-07, 1.33886771e-07, 1.33891963e-07,\n",
       "           1.33897155e-07, 1.33902347e-07, 1.33907539e-07, 1.33912731e-07,\n",
       "           1.33917923e-07, 1.33923115e-07, 1.33928307e-07, 1.33933499e-07,\n",
       "           1.33938691e-07, 1.33943883e-07, 1.33949075e-07, 1.33954267e-07,\n",
       "           1.33959459e-07, 1.33964651e-07, 1.33969843e-07, 1.33975035e-07,\n",
       "           1.33980227e-07, 1.33985419e-07, 1.33990611e-07, 1.33995803e-07,\n",
       "           1.34000995e-07, 1.34006187e-07, 1.34011379e-07, 1.34016571e-07,\n",
       "           1.34021763e-07, 1.34026955e-07, 1.34032147e-07, 1.34037339e-07,\n",
       "           1.34042531e-07, 1.34047723e-07, 1.34052915e-07, 1.34058107e-07,\n",
       "           1.34063299e-07, 1.34068491e-07, 1.34073683e-07, 1.34078875e-07,\n",
       "           1.34084067e-07, 1.34089259e-07, 1.34094451e-07, 1.34099643e-07,\n",
       "           1.34104835e-07, 1.34110027e-07, 1.34115219e-07, 1.34120411e-07,\n",
       "           1.34125603e-07, 1.34130795e-07, 1.34135987e-07, 1.34141179e-07,\n",
       "           1.34146371e-07, 1.34151563e-07, 1.34156755e-07, 1.34161947e-07,\n",
       "           1.34167139e-07, 1.34172331e-07, 1.34177523e-07, 1.34182715e-07,\n",
       "           1.34187907e-07, 1.34193099e-07, 1.34198291e-07, 1.34203483e-07,\n",
       "           1.34208675e-07, 1.34213867e-07, 1.34219059e-07, 1.34224251e-07,\n",
       "           1.34229443e-07, 1.34234635e-07, 1.34239827e-07, 1.34245019e-07,\n",
       "           1.34250211e-07, 1.34255403e-07, 1.34260595e-07, 1.34265787e-07,\n",
       "           1.34270979e-07, 1.34276171e-07, 1.34281363e-07, 1.34286555e-07,\n",
       "           1.34291747e-07, 1.34296939e-07, 1.34302131e-07, 1.34307323e-07,\n",
       "           1.34312515e-07, 1.34317707e-07, 1.34322899e-07, 1.34328091e-07,\n",
       "           1.34333283e-07, 1.34338475e-07, 1.34343667e-07, 1.34348859e-07,\n",
       "           1.34354051e-07, 1.34359243e-07, 1.34364435e-07, 1.34369627e-07,\n",
       "           1.34374819e-07, 1.34380011e-07, 1.34385203e-07, 1.34390395e-07,\n",
       "           1.34395587e-07, 1.34400779e-07, 1.34405971e-07, 1.34411163e-07,\n",
       "           1.34416355e-07, 1.34421547e-07, 1.34426739e-07, 1.34431931e-07,\n",
       "           1.34437123e-07, 1.34442315e-07, 1.34447507e-07, 1.34452699e-07,\n",
       "           1.34457891e-07, 1.34463083e-07, 1.34468275e-07, 1.34473467e-07,\n",
       "           1.34478659e-07, 1.34483851e-07, 1.34489043e-07, 1.34494235e-07,\n",
       "           1.34499427e-07, 1.34504619e-07, 1.34509811e-07, 1.34515003e-07,\n",
       "           1.34520195e-07, 1.34525387e-07, 1.34530579e-07, 1.34535771e-07,\n",
       "           1.34540963e-07, 1.34546155e-07, 1.34551347e-07, 1.34556539e-07,\n",
       "           1.34561731e-07, 1.34566923e-07, 1.34572115e-07, 1.34577307e-07,\n",
       "           1.34582499e-07, 1.34587691e-07, 1.34592883e-07, 1.34598075e-07,\n",
       "           1.34603267e-07, 1.34608459e-07, 1.34613651e-07, 1.34618843e-07,\n",
       "           1.34624035e-07, 1.34629227e-07, 1.34634419e-07, 1.34639611e-07,\n",
       "           1.34644803e-07, 1.34649995e-07, 1.34655187e-07, 1.34660379e-07,\n",
       "           1.34665571e-07, 1.34670763e-07, 1.34675955e-07, 1.34681147e-07,\n",
       "           1.34686339e-07, 1.34691531e-07, 1.34696723e-07, 1.34701915e-07,\n",
       "           1.34707107e-07, 1.34712299e-07, 1.34717491e-07, 1.34722683e-07,\n",
       "           1.34727875e-07, 1.34733067e-07, 1.34738259e-07, 1.34743451e-07,\n",
       "           1.34748643e-07, 1.34753835e-07, 1.34759027e-07, 1.34764219e-07,\n",
       "           1.34769411e-07, 1.34774603e-07, 1.34779795e-07, 1.34784987e-07,\n",
       "           1.34790179e-07, 1.34795371e-07, 1.34800563e-07, 1.34805755e-07,\n",
       "           1.34810947e-07, 1.34816139e-07, 1.34821331e-07, 1.34826523e-07,\n",
       "           1.34831715e-07, 1.34836907e-07, 1.34842099e-07, 1.34847291e-07,\n",
       "           1.34852483e-07, 1.34857675e-07, 1.34862867e-07, 1.34868059e-07,\n",
       "           1.34873251e-07, 1.34878443e-07, 1.34883635e-07, 1.34888827e-07,\n",
       "           1.34894019e-07, 1.34899211e-07, 1.34904403e-07, 1.34909595e-07,\n",
       "           1.34914787e-07, 1.34919979e-07, 1.34925171e-07, 1.34930363e-07,\n",
       "           1.34935555e-07, 1.34940747e-07, 1.34945939e-07, 1.34951131e-07,\n",
       "           1.34956323e-07, 1.34961515e-07, 1.34966707e-07, 1.34971899e-07,\n",
       "           1.34977091e-07, 1.34982283e-07, 1.34987475e-07, 1.34992667e-07,\n",
       "           1.34997859e-07, 1.35003051e-07, 1.35008243e-07, 1.35013435e-07,\n",
       "           1.35018627e-07, 1.35023819e-07, 1.35029011e-07, 1.35034203e-07,\n",
       "           1.35039395e-07, 1.35044587e-07, 1.35049779e-07, 1.35054971e-07,\n",
       "           1.35060163e-07, 1.35065355e-07, 1.35070547e-07, 1.35075739e-07,\n",
       "           1.35080931e-07, 1.35086123e-07, 1.35091315e-07, 1.35096507e-07,\n",
       "           1.35101699e-07, 1.35106891e-07, 1.35112083e-07, 1.35117275e-07,\n",
       "           1.35122467e-07, 1.35127659e-07, 1.35132851e-07, 1.35138043e-07,\n",
       "           1.35143235e-07, 1.35148427e-07, 1.35153619e-07, 1.35158811e-07,\n",
       "           1.35164003e-07, 1.35169195e-07, 1.35174387e-07, 1.35179579e-07,\n",
       "           1.35184771e-07, 1.35189963e-07, 1.35195155e-07, 1.35200347e-07,\n",
       "           1.35205539e-07, 1.35210731e-07, 1.35215923e-07, 1.35221115e-07,\n",
       "           1.35226307e-07, 1.35231499e-07, 1.35236691e-07, 1.35241883e-07,\n",
       "           1.35247075e-07, 1.35252267e-07, 1.35257459e-07, 1.35262651e-07,\n",
       "           1.35267843e-07, 1.35273035e-07, 1.35278227e-07, 1.35283419e-07,\n",
       "           1.35288611e-07, 1.35293803e-07, 1.35298995e-07, 1.35304187e-07,\n",
       "           1.35309379e-07, 1.35314571e-07, 1.35319763e-07, 1.35324955e-07,\n",
       "           1.35330147e-07, 1.35335339e-07, 1.35340531e-07, 1.35345723e-07,\n",
       "           1.35350915e-07, 1.35356107e-07, 1.35361299e-07, 1.35366491e-07,\n",
       "           1.35371683e-07, 1.35376875e-07, 1.35382067e-07, 1.35387259e-07,\n",
       "           1.35392451e-07, 1.35397643e-07, 1.35402835e-07, 1.35408027e-07,\n",
       "           1.35413219e-07, 1.35418411e-07, 1.35423603e-07, 1.35428795e-07,\n",
       "           1.35433987e-07, 1.35439179e-07, 1.35444371e-07, 1.35449563e-07,\n",
       "           1.35454755e-07, 1.35459947e-07, 1.35465139e-07, 1.35470331e-07,\n",
       "           1.35475523e-07, 1.35480715e-07, 1.35485907e-07, 1.35491099e-07,\n",
       "           1.35496291e-07, 1.35501483e-07, 1.35506675e-07, 1.35511867e-07,\n",
       "           1.35517059e-07, 1.35522251e-07, 1.35527443e-07, 1.35532635e-07,\n",
       "           1.35537827e-07, 1.35543019e-07, 1.35548211e-07, 1.35553403e-07,\n",
       "           1.35558595e-07, 1.35563787e-07, 1.35568979e-07, 1.35574171e-07,\n",
       "           1.35579363e-07, 1.35584555e-07, 1.35589747e-07, 1.35594939e-07,\n",
       "           1.35600131e-07, 1.35605323e-07, 1.35610515e-07, 1.35615707e-07,\n",
       "           1.35620899e-07, 1.35626091e-07, 1.35631283e-07, 1.35636475e-07,\n",
       "           1.35641667e-07, 1.35646859e-07, 1.35652051e-07, 1.35657243e-07,\n",
       "           1.35662435e-07, 1.35667627e-07, 1.35672819e-07, 1.35678011e-07,\n",
       "           1.35683203e-07, 1.35688395e-07, 1.35693587e-07, 1.35698779e-07,\n",
       "           1.35703971e-07, 1.35709163e-07, 1.35714355e-07, 1.35719547e-07,\n",
       "           1.35724739e-07, 1.35729931e-07, 1.35735123e-07, 1.35740315e-07,\n",
       "           1.35745507e-07, 1.35750699e-07, 1.35755891e-07, 1.35761083e-07,\n",
       "           1.35766275e-07, 1.35771467e-07, 1.35776659e-07, 1.35781851e-07,\n",
       "           1.35787043e-07, 1.35792235e-07, 1.35797427e-07, 1.35802619e-07,\n",
       "           1.35807811e-07, 1.35813003e-07, 1.35818195e-07, 1.35823387e-07] m>"
      ]
     },
     "execution_count": 77,
     "metadata": {},
     "output_type": "execute_result"
    }
   ],
   "source": [
    "wavelength"
   ]
  },
  {
   "cell_type": "code",
   "execution_count": 78,
   "metadata": {},
   "outputs": [
    {
     "data": {
      "text/plain": [
       "((512,), <Quantity 512. pix>)"
      ]
     },
     "execution_count": 78,
     "metadata": {},
     "output_type": "execute_result"
    }
   ],
   "source": [
    "wavelength.shape, my_cii_scan0.dimensions[-1]"
   ]
  },
  {
   "cell_type": "code",
   "execution_count": 79,
   "metadata": {},
   "outputs": [
    {
     "data": {
      "text/plain": [
       "astropy.units.quantity.Quantity"
      ]
     },
     "execution_count": 79,
     "metadata": {},
     "output_type": "execute_result"
    }
   ],
   "source": [
    "type(wavelength)"
   ]
  },
  {
   "cell_type": "markdown",
   "metadata": {},
   "source": [
    "Note that the output is an astropy quantity with the same length as the wavelength axis."
   ]
  },
  {
   "cell_type": "markdown",
   "metadata": {},
   "source": [
    "You can also use a substring of the ```world_axis_physical_types``` label for the axis."
   ]
  },
  {
   "cell_type": "code",
   "execution_count": 80,
   "metadata": {},
   "outputs": [
    {
     "data": {
      "text/plain": [
       "('custom:pos.helioprojective.lon', 'custom:pos.helioprojective.lat', 'em.wl')"
      ]
     },
     "execution_count": 80,
     "metadata": {},
     "output_type": "execute_result"
    }
   ],
   "source": [
    "my_cii_scan0.world_axis_physical_types"
   ]
  },
  {
   "cell_type": "code",
   "execution_count": 81,
   "metadata": {},
   "outputs": [
    {
     "data": {
      "text/latex": [
       "$[1.3317028 \\times 10^{-7},~1.3317547 \\times 10^{-7},~1.3318066 \\times 10^{-7},~\\dots,~1.35813 \\times 10^{-7},~1.358182 \\times 10^{-7},~1.3582339 \\times 10^{-7}] \\; \\mathrm{m}$"
      ],
      "text/plain": [
       "<Quantity [1.33170275e-07, 1.33175467e-07, 1.33180659e-07, 1.33185851e-07,\n",
       "           1.33191043e-07, 1.33196235e-07, 1.33201427e-07, 1.33206619e-07,\n",
       "           1.33211811e-07, 1.33217003e-07, 1.33222195e-07, 1.33227387e-07,\n",
       "           1.33232579e-07, 1.33237771e-07, 1.33242963e-07, 1.33248155e-07,\n",
       "           1.33253347e-07, 1.33258539e-07, 1.33263731e-07, 1.33268923e-07,\n",
       "           1.33274115e-07, 1.33279307e-07, 1.33284499e-07, 1.33289691e-07,\n",
       "           1.33294883e-07, 1.33300075e-07, 1.33305267e-07, 1.33310459e-07,\n",
       "           1.33315651e-07, 1.33320843e-07, 1.33326035e-07, 1.33331227e-07,\n",
       "           1.33336419e-07, 1.33341611e-07, 1.33346803e-07, 1.33351995e-07,\n",
       "           1.33357187e-07, 1.33362379e-07, 1.33367571e-07, 1.33372763e-07,\n",
       "           1.33377955e-07, 1.33383147e-07, 1.33388339e-07, 1.33393531e-07,\n",
       "           1.33398723e-07, 1.33403915e-07, 1.33409107e-07, 1.33414299e-07,\n",
       "           1.33419491e-07, 1.33424683e-07, 1.33429875e-07, 1.33435067e-07,\n",
       "           1.33440259e-07, 1.33445451e-07, 1.33450643e-07, 1.33455835e-07,\n",
       "           1.33461027e-07, 1.33466219e-07, 1.33471411e-07, 1.33476603e-07,\n",
       "           1.33481795e-07, 1.33486987e-07, 1.33492179e-07, 1.33497371e-07,\n",
       "           1.33502563e-07, 1.33507755e-07, 1.33512947e-07, 1.33518139e-07,\n",
       "           1.33523331e-07, 1.33528523e-07, 1.33533715e-07, 1.33538907e-07,\n",
       "           1.33544099e-07, 1.33549291e-07, 1.33554483e-07, 1.33559675e-07,\n",
       "           1.33564867e-07, 1.33570059e-07, 1.33575251e-07, 1.33580443e-07,\n",
       "           1.33585635e-07, 1.33590827e-07, 1.33596019e-07, 1.33601211e-07,\n",
       "           1.33606403e-07, 1.33611595e-07, 1.33616787e-07, 1.33621979e-07,\n",
       "           1.33627171e-07, 1.33632363e-07, 1.33637555e-07, 1.33642747e-07,\n",
       "           1.33647939e-07, 1.33653131e-07, 1.33658323e-07, 1.33663515e-07,\n",
       "           1.33668707e-07, 1.33673899e-07, 1.33679091e-07, 1.33684283e-07,\n",
       "           1.33689475e-07, 1.33694667e-07, 1.33699859e-07, 1.33705051e-07,\n",
       "           1.33710243e-07, 1.33715435e-07, 1.33720627e-07, 1.33725819e-07,\n",
       "           1.33731011e-07, 1.33736203e-07, 1.33741395e-07, 1.33746587e-07,\n",
       "           1.33751779e-07, 1.33756971e-07, 1.33762163e-07, 1.33767355e-07,\n",
       "           1.33772547e-07, 1.33777739e-07, 1.33782931e-07, 1.33788123e-07,\n",
       "           1.33793315e-07, 1.33798507e-07, 1.33803699e-07, 1.33808891e-07,\n",
       "           1.33814083e-07, 1.33819275e-07, 1.33824467e-07, 1.33829659e-07,\n",
       "           1.33834851e-07, 1.33840043e-07, 1.33845235e-07, 1.33850427e-07,\n",
       "           1.33855619e-07, 1.33860811e-07, 1.33866003e-07, 1.33871195e-07,\n",
       "           1.33876387e-07, 1.33881579e-07, 1.33886771e-07, 1.33891963e-07,\n",
       "           1.33897155e-07, 1.33902347e-07, 1.33907539e-07, 1.33912731e-07,\n",
       "           1.33917923e-07, 1.33923115e-07, 1.33928307e-07, 1.33933499e-07,\n",
       "           1.33938691e-07, 1.33943883e-07, 1.33949075e-07, 1.33954267e-07,\n",
       "           1.33959459e-07, 1.33964651e-07, 1.33969843e-07, 1.33975035e-07,\n",
       "           1.33980227e-07, 1.33985419e-07, 1.33990611e-07, 1.33995803e-07,\n",
       "           1.34000995e-07, 1.34006187e-07, 1.34011379e-07, 1.34016571e-07,\n",
       "           1.34021763e-07, 1.34026955e-07, 1.34032147e-07, 1.34037339e-07,\n",
       "           1.34042531e-07, 1.34047723e-07, 1.34052915e-07, 1.34058107e-07,\n",
       "           1.34063299e-07, 1.34068491e-07, 1.34073683e-07, 1.34078875e-07,\n",
       "           1.34084067e-07, 1.34089259e-07, 1.34094451e-07, 1.34099643e-07,\n",
       "           1.34104835e-07, 1.34110027e-07, 1.34115219e-07, 1.34120411e-07,\n",
       "           1.34125603e-07, 1.34130795e-07, 1.34135987e-07, 1.34141179e-07,\n",
       "           1.34146371e-07, 1.34151563e-07, 1.34156755e-07, 1.34161947e-07,\n",
       "           1.34167139e-07, 1.34172331e-07, 1.34177523e-07, 1.34182715e-07,\n",
       "           1.34187907e-07, 1.34193099e-07, 1.34198291e-07, 1.34203483e-07,\n",
       "           1.34208675e-07, 1.34213867e-07, 1.34219059e-07, 1.34224251e-07,\n",
       "           1.34229443e-07, 1.34234635e-07, 1.34239827e-07, 1.34245019e-07,\n",
       "           1.34250211e-07, 1.34255403e-07, 1.34260595e-07, 1.34265787e-07,\n",
       "           1.34270979e-07, 1.34276171e-07, 1.34281363e-07, 1.34286555e-07,\n",
       "           1.34291747e-07, 1.34296939e-07, 1.34302131e-07, 1.34307323e-07,\n",
       "           1.34312515e-07, 1.34317707e-07, 1.34322899e-07, 1.34328091e-07,\n",
       "           1.34333283e-07, 1.34338475e-07, 1.34343667e-07, 1.34348859e-07,\n",
       "           1.34354051e-07, 1.34359243e-07, 1.34364435e-07, 1.34369627e-07,\n",
       "           1.34374819e-07, 1.34380011e-07, 1.34385203e-07, 1.34390395e-07,\n",
       "           1.34395587e-07, 1.34400779e-07, 1.34405971e-07, 1.34411163e-07,\n",
       "           1.34416355e-07, 1.34421547e-07, 1.34426739e-07, 1.34431931e-07,\n",
       "           1.34437123e-07, 1.34442315e-07, 1.34447507e-07, 1.34452699e-07,\n",
       "           1.34457891e-07, 1.34463083e-07, 1.34468275e-07, 1.34473467e-07,\n",
       "           1.34478659e-07, 1.34483851e-07, 1.34489043e-07, 1.34494235e-07,\n",
       "           1.34499427e-07, 1.34504619e-07, 1.34509811e-07, 1.34515003e-07,\n",
       "           1.34520195e-07, 1.34525387e-07, 1.34530579e-07, 1.34535771e-07,\n",
       "           1.34540963e-07, 1.34546155e-07, 1.34551347e-07, 1.34556539e-07,\n",
       "           1.34561731e-07, 1.34566923e-07, 1.34572115e-07, 1.34577307e-07,\n",
       "           1.34582499e-07, 1.34587691e-07, 1.34592883e-07, 1.34598075e-07,\n",
       "           1.34603267e-07, 1.34608459e-07, 1.34613651e-07, 1.34618843e-07,\n",
       "           1.34624035e-07, 1.34629227e-07, 1.34634419e-07, 1.34639611e-07,\n",
       "           1.34644803e-07, 1.34649995e-07, 1.34655187e-07, 1.34660379e-07,\n",
       "           1.34665571e-07, 1.34670763e-07, 1.34675955e-07, 1.34681147e-07,\n",
       "           1.34686339e-07, 1.34691531e-07, 1.34696723e-07, 1.34701915e-07,\n",
       "           1.34707107e-07, 1.34712299e-07, 1.34717491e-07, 1.34722683e-07,\n",
       "           1.34727875e-07, 1.34733067e-07, 1.34738259e-07, 1.34743451e-07,\n",
       "           1.34748643e-07, 1.34753835e-07, 1.34759027e-07, 1.34764219e-07,\n",
       "           1.34769411e-07, 1.34774603e-07, 1.34779795e-07, 1.34784987e-07,\n",
       "           1.34790179e-07, 1.34795371e-07, 1.34800563e-07, 1.34805755e-07,\n",
       "           1.34810947e-07, 1.34816139e-07, 1.34821331e-07, 1.34826523e-07,\n",
       "           1.34831715e-07, 1.34836907e-07, 1.34842099e-07, 1.34847291e-07,\n",
       "           1.34852483e-07, 1.34857675e-07, 1.34862867e-07, 1.34868059e-07,\n",
       "           1.34873251e-07, 1.34878443e-07, 1.34883635e-07, 1.34888827e-07,\n",
       "           1.34894019e-07, 1.34899211e-07, 1.34904403e-07, 1.34909595e-07,\n",
       "           1.34914787e-07, 1.34919979e-07, 1.34925171e-07, 1.34930363e-07,\n",
       "           1.34935555e-07, 1.34940747e-07, 1.34945939e-07, 1.34951131e-07,\n",
       "           1.34956323e-07, 1.34961515e-07, 1.34966707e-07, 1.34971899e-07,\n",
       "           1.34977091e-07, 1.34982283e-07, 1.34987475e-07, 1.34992667e-07,\n",
       "           1.34997859e-07, 1.35003051e-07, 1.35008243e-07, 1.35013435e-07,\n",
       "           1.35018627e-07, 1.35023819e-07, 1.35029011e-07, 1.35034203e-07,\n",
       "           1.35039395e-07, 1.35044587e-07, 1.35049779e-07, 1.35054971e-07,\n",
       "           1.35060163e-07, 1.35065355e-07, 1.35070547e-07, 1.35075739e-07,\n",
       "           1.35080931e-07, 1.35086123e-07, 1.35091315e-07, 1.35096507e-07,\n",
       "           1.35101699e-07, 1.35106891e-07, 1.35112083e-07, 1.35117275e-07,\n",
       "           1.35122467e-07, 1.35127659e-07, 1.35132851e-07, 1.35138043e-07,\n",
       "           1.35143235e-07, 1.35148427e-07, 1.35153619e-07, 1.35158811e-07,\n",
       "           1.35164003e-07, 1.35169195e-07, 1.35174387e-07, 1.35179579e-07,\n",
       "           1.35184771e-07, 1.35189963e-07, 1.35195155e-07, 1.35200347e-07,\n",
       "           1.35205539e-07, 1.35210731e-07, 1.35215923e-07, 1.35221115e-07,\n",
       "           1.35226307e-07, 1.35231499e-07, 1.35236691e-07, 1.35241883e-07,\n",
       "           1.35247075e-07, 1.35252267e-07, 1.35257459e-07, 1.35262651e-07,\n",
       "           1.35267843e-07, 1.35273035e-07, 1.35278227e-07, 1.35283419e-07,\n",
       "           1.35288611e-07, 1.35293803e-07, 1.35298995e-07, 1.35304187e-07,\n",
       "           1.35309379e-07, 1.35314571e-07, 1.35319763e-07, 1.35324955e-07,\n",
       "           1.35330147e-07, 1.35335339e-07, 1.35340531e-07, 1.35345723e-07,\n",
       "           1.35350915e-07, 1.35356107e-07, 1.35361299e-07, 1.35366491e-07,\n",
       "           1.35371683e-07, 1.35376875e-07, 1.35382067e-07, 1.35387259e-07,\n",
       "           1.35392451e-07, 1.35397643e-07, 1.35402835e-07, 1.35408027e-07,\n",
       "           1.35413219e-07, 1.35418411e-07, 1.35423603e-07, 1.35428795e-07,\n",
       "           1.35433987e-07, 1.35439179e-07, 1.35444371e-07, 1.35449563e-07,\n",
       "           1.35454755e-07, 1.35459947e-07, 1.35465139e-07, 1.35470331e-07,\n",
       "           1.35475523e-07, 1.35480715e-07, 1.35485907e-07, 1.35491099e-07,\n",
       "           1.35496291e-07, 1.35501483e-07, 1.35506675e-07, 1.35511867e-07,\n",
       "           1.35517059e-07, 1.35522251e-07, 1.35527443e-07, 1.35532635e-07,\n",
       "           1.35537827e-07, 1.35543019e-07, 1.35548211e-07, 1.35553403e-07,\n",
       "           1.35558595e-07, 1.35563787e-07, 1.35568979e-07, 1.35574171e-07,\n",
       "           1.35579363e-07, 1.35584555e-07, 1.35589747e-07, 1.35594939e-07,\n",
       "           1.35600131e-07, 1.35605323e-07, 1.35610515e-07, 1.35615707e-07,\n",
       "           1.35620899e-07, 1.35626091e-07, 1.35631283e-07, 1.35636475e-07,\n",
       "           1.35641667e-07, 1.35646859e-07, 1.35652051e-07, 1.35657243e-07,\n",
       "           1.35662435e-07, 1.35667627e-07, 1.35672819e-07, 1.35678011e-07,\n",
       "           1.35683203e-07, 1.35688395e-07, 1.35693587e-07, 1.35698779e-07,\n",
       "           1.35703971e-07, 1.35709163e-07, 1.35714355e-07, 1.35719547e-07,\n",
       "           1.35724739e-07, 1.35729931e-07, 1.35735123e-07, 1.35740315e-07,\n",
       "           1.35745507e-07, 1.35750699e-07, 1.35755891e-07, 1.35761083e-07,\n",
       "           1.35766275e-07, 1.35771467e-07, 1.35776659e-07, 1.35781851e-07,\n",
       "           1.35787043e-07, 1.35792235e-07, 1.35797427e-07, 1.35802619e-07,\n",
       "           1.35807811e-07, 1.35813003e-07, 1.35818195e-07, 1.35823387e-07] m>"
      ]
     },
     "execution_count": 81,
     "metadata": {},
     "output_type": "execute_result"
    }
   ],
   "source": [
    "my_cii_scan0.axis_world_coords(\"wl\")"
   ]
  },
  {
   "cell_type": "markdown",
   "metadata": {},
   "source": [
    "#### Dependent Axes"
   ]
  },
  {
   "cell_type": "markdown",
   "metadata": {},
   "source": [
    "Note that not all axes are independent, like wavelength in the above example.  Some are dependent on others, for example, latitude and longitude.  Depending on the latitude you're at, the longitude value at certain pixel along the longitude axis will have a different value."
   ]
  },
  {
   "cell_type": "code",
   "execution_count": 82,
   "metadata": {},
   "outputs": [],
   "source": [
    "lon = my_cii_scan0.axis_world_coords(\"lon\")"
   ]
  },
  {
   "cell_type": "code",
   "execution_count": 83,
   "metadata": {},
   "outputs": [
    {
     "data": {
      "text/latex": [
       "$[[-0.067519668,~-0.067517584,~-0.0675155,~\\dots,~-0.067113303,~-0.067111219,~-0.067109135],~\n",
       " [-0.067242541,~-0.067240457,~-0.067238373,~\\dots,~-0.066836176,~-0.066834092,~-0.066832008],~\n",
       " [-0.066965414,~-0.06696333,~-0.066961247,~\\dots,~-0.066559049,~-0.066556966,~-0.066554882],~\n",
       " \\dots,~\n",
       " [-0.059482992,~-0.059480908,~-0.059478824,~\\dots,~-0.059076626,~-0.059074542,~-0.059072458],~\n",
       " [-0.059205866,~-0.059203782,~-0.059201698,~\\dots,~-0.058799499,~-0.058797415,~-0.058795331],~\n",
       " [-0.058928739,~-0.058926655,~-0.058924571,~\\dots,~-0.058522372,~-0.058520288,~-0.058518205]] \\; \\mathrm{{}^{\\circ}}$"
      ],
      "text/plain": [
       "<Quantity [[-0.06751967, -0.06751758, -0.0675155 , ..., -0.0671133 ,\n",
       "            -0.06711122, -0.06710914],\n",
       "           [-0.06724254, -0.06724046, -0.06723837, ..., -0.06683618,\n",
       "            -0.06683409, -0.06683201],\n",
       "           [-0.06696541, -0.06696333, -0.06696125, ..., -0.06655905,\n",
       "            -0.06655697, -0.06655488],\n",
       "           ...,\n",
       "           [-0.05948299, -0.05948091, -0.05947882, ..., -0.05907663,\n",
       "            -0.05907454, -0.05907246],\n",
       "           [-0.05920587, -0.05920378, -0.0592017 , ..., -0.0587995 ,\n",
       "            -0.05879742, -0.05879533],\n",
       "           [-0.05892874, -0.05892665, -0.05892457, ..., -0.05852237,\n",
       "            -0.05852029, -0.0585182 ]] deg>"
      ]
     },
     "execution_count": 83,
     "metadata": {},
     "output_type": "execute_result"
    }
   ],
   "source": [
    "lon"
   ]
  },
  {
   "cell_type": "code",
   "execution_count": 84,
   "metadata": {},
   "outputs": [
    {
     "data": {
      "text/latex": [
       "$[32,~198,~512] \\; \\mathrm{pix}$"
      ],
      "text/plain": [
       "<Quantity [ 32., 198., 512.] pix>"
      ]
     },
     "execution_count": 84,
     "metadata": {},
     "output_type": "execute_result"
    }
   ],
   "source": [
    "my_cii_scan0.dimensions"
   ]
  },
  {
   "cell_type": "code",
   "execution_count": 85,
   "metadata": {},
   "outputs": [
    {
     "data": {
      "text/plain": [
       "(32, 198)"
      ]
     },
     "execution_count": 85,
     "metadata": {},
     "output_type": "execute_result"
    }
   ],
   "source": [
    "lon.shape"
   ]
  },
  {
   "cell_type": "markdown",
   "metadata": {},
   "source": [
    "Note how the dimensionality of the longitude quantity is the same as the longitude axis x the latitude axis.  The same would be true if we asked for the latitude."
   ]
  },
  {
   "cell_type": "markdown",
   "metadata": {},
   "source": [
    "Multiple axis labels/indices can be entered and multiple arrays are returned.  Entering no arguments causes real world coordinates for all axis to be returned.  In these cases a tuple of quantities is returned."
   ]
  },
  {
   "cell_type": "code",
   "execution_count": 86,
   "metadata": {},
   "outputs": [],
   "source": [
    "all_world_coords = my_cii_scan0.axis_world_coords()"
   ]
  },
  {
   "cell_type": "code",
   "execution_count": 87,
   "metadata": {},
   "outputs": [
    {
     "data": {
      "text/plain": [
       "(<Quantity [[-0.06751967, -0.06751758, -0.0675155 , ..., -0.0671133 ,\n",
       "             -0.06711122, -0.06710914],\n",
       "            [-0.06724254, -0.06724046, -0.06723837, ..., -0.06683618,\n",
       "             -0.06683409, -0.06683201],\n",
       "            [-0.06696541, -0.06696333, -0.06696125, ..., -0.06655905,\n",
       "             -0.06655697, -0.06655488],\n",
       "            ...,\n",
       "            [-0.05948299, -0.05948091, -0.05947882, ..., -0.05907663,\n",
       "             -0.05907454, -0.05907246],\n",
       "            [-0.05920587, -0.05920378, -0.0592017 , ..., -0.0587995 ,\n",
       "             -0.05879742, -0.05879533],\n",
       "            [-0.05892874, -0.05892665, -0.05892457, ..., -0.05852237,\n",
       "             -0.05852029, -0.0585182 ]] deg>,\n",
       " <Quantity [[-0.00099777, -0.00081295, -0.00062813, ...,  0.03504242,\n",
       "              0.03522724,  0.03541207],\n",
       "            [-0.00100089, -0.00081607, -0.00063125, ...,  0.0350393 ,\n",
       "              0.03522412,  0.03540894],\n",
       "            [-0.00100402, -0.0008192 , -0.00063438, ...,  0.03503617,\n",
       "              0.03522099,  0.03540582],\n",
       "            ...,\n",
       "            [-0.00108839, -0.00090356, -0.00071874, ...,  0.03495181,\n",
       "              0.03513663,  0.03532145],\n",
       "            [-0.00109151, -0.00090669, -0.00072187, ...,  0.03494868,\n",
       "              0.0351335 ,  0.03531832],\n",
       "            [-0.00109463, -0.00090981, -0.00072499, ...,  0.03494556,\n",
       "              0.03513038,  0.0353152 ]] deg>,\n",
       " <Quantity [1.33170275e-07, 1.33175467e-07, 1.33180659e-07, 1.33185851e-07,\n",
       "            1.33191043e-07, 1.33196235e-07, 1.33201427e-07, 1.33206619e-07,\n",
       "            1.33211811e-07, 1.33217003e-07, 1.33222195e-07, 1.33227387e-07,\n",
       "            1.33232579e-07, 1.33237771e-07, 1.33242963e-07, 1.33248155e-07,\n",
       "            1.33253347e-07, 1.33258539e-07, 1.33263731e-07, 1.33268923e-07,\n",
       "            1.33274115e-07, 1.33279307e-07, 1.33284499e-07, 1.33289691e-07,\n",
       "            1.33294883e-07, 1.33300075e-07, 1.33305267e-07, 1.33310459e-07,\n",
       "            1.33315651e-07, 1.33320843e-07, 1.33326035e-07, 1.33331227e-07,\n",
       "            1.33336419e-07, 1.33341611e-07, 1.33346803e-07, 1.33351995e-07,\n",
       "            1.33357187e-07, 1.33362379e-07, 1.33367571e-07, 1.33372763e-07,\n",
       "            1.33377955e-07, 1.33383147e-07, 1.33388339e-07, 1.33393531e-07,\n",
       "            1.33398723e-07, 1.33403915e-07, 1.33409107e-07, 1.33414299e-07,\n",
       "            1.33419491e-07, 1.33424683e-07, 1.33429875e-07, 1.33435067e-07,\n",
       "            1.33440259e-07, 1.33445451e-07, 1.33450643e-07, 1.33455835e-07,\n",
       "            1.33461027e-07, 1.33466219e-07, 1.33471411e-07, 1.33476603e-07,\n",
       "            1.33481795e-07, 1.33486987e-07, 1.33492179e-07, 1.33497371e-07,\n",
       "            1.33502563e-07, 1.33507755e-07, 1.33512947e-07, 1.33518139e-07,\n",
       "            1.33523331e-07, 1.33528523e-07, 1.33533715e-07, 1.33538907e-07,\n",
       "            1.33544099e-07, 1.33549291e-07, 1.33554483e-07, 1.33559675e-07,\n",
       "            1.33564867e-07, 1.33570059e-07, 1.33575251e-07, 1.33580443e-07,\n",
       "            1.33585635e-07, 1.33590827e-07, 1.33596019e-07, 1.33601211e-07,\n",
       "            1.33606403e-07, 1.33611595e-07, 1.33616787e-07, 1.33621979e-07,\n",
       "            1.33627171e-07, 1.33632363e-07, 1.33637555e-07, 1.33642747e-07,\n",
       "            1.33647939e-07, 1.33653131e-07, 1.33658323e-07, 1.33663515e-07,\n",
       "            1.33668707e-07, 1.33673899e-07, 1.33679091e-07, 1.33684283e-07,\n",
       "            1.33689475e-07, 1.33694667e-07, 1.33699859e-07, 1.33705051e-07,\n",
       "            1.33710243e-07, 1.33715435e-07, 1.33720627e-07, 1.33725819e-07,\n",
       "            1.33731011e-07, 1.33736203e-07, 1.33741395e-07, 1.33746587e-07,\n",
       "            1.33751779e-07, 1.33756971e-07, 1.33762163e-07, 1.33767355e-07,\n",
       "            1.33772547e-07, 1.33777739e-07, 1.33782931e-07, 1.33788123e-07,\n",
       "            1.33793315e-07, 1.33798507e-07, 1.33803699e-07, 1.33808891e-07,\n",
       "            1.33814083e-07, 1.33819275e-07, 1.33824467e-07, 1.33829659e-07,\n",
       "            1.33834851e-07, 1.33840043e-07, 1.33845235e-07, 1.33850427e-07,\n",
       "            1.33855619e-07, 1.33860811e-07, 1.33866003e-07, 1.33871195e-07,\n",
       "            1.33876387e-07, 1.33881579e-07, 1.33886771e-07, 1.33891963e-07,\n",
       "            1.33897155e-07, 1.33902347e-07, 1.33907539e-07, 1.33912731e-07,\n",
       "            1.33917923e-07, 1.33923115e-07, 1.33928307e-07, 1.33933499e-07,\n",
       "            1.33938691e-07, 1.33943883e-07, 1.33949075e-07, 1.33954267e-07,\n",
       "            1.33959459e-07, 1.33964651e-07, 1.33969843e-07, 1.33975035e-07,\n",
       "            1.33980227e-07, 1.33985419e-07, 1.33990611e-07, 1.33995803e-07,\n",
       "            1.34000995e-07, 1.34006187e-07, 1.34011379e-07, 1.34016571e-07,\n",
       "            1.34021763e-07, 1.34026955e-07, 1.34032147e-07, 1.34037339e-07,\n",
       "            1.34042531e-07, 1.34047723e-07, 1.34052915e-07, 1.34058107e-07,\n",
       "            1.34063299e-07, 1.34068491e-07, 1.34073683e-07, 1.34078875e-07,\n",
       "            1.34084067e-07, 1.34089259e-07, 1.34094451e-07, 1.34099643e-07,\n",
       "            1.34104835e-07, 1.34110027e-07, 1.34115219e-07, 1.34120411e-07,\n",
       "            1.34125603e-07, 1.34130795e-07, 1.34135987e-07, 1.34141179e-07,\n",
       "            1.34146371e-07, 1.34151563e-07, 1.34156755e-07, 1.34161947e-07,\n",
       "            1.34167139e-07, 1.34172331e-07, 1.34177523e-07, 1.34182715e-07,\n",
       "            1.34187907e-07, 1.34193099e-07, 1.34198291e-07, 1.34203483e-07,\n",
       "            1.34208675e-07, 1.34213867e-07, 1.34219059e-07, 1.34224251e-07,\n",
       "            1.34229443e-07, 1.34234635e-07, 1.34239827e-07, 1.34245019e-07,\n",
       "            1.34250211e-07, 1.34255403e-07, 1.34260595e-07, 1.34265787e-07,\n",
       "            1.34270979e-07, 1.34276171e-07, 1.34281363e-07, 1.34286555e-07,\n",
       "            1.34291747e-07, 1.34296939e-07, 1.34302131e-07, 1.34307323e-07,\n",
       "            1.34312515e-07, 1.34317707e-07, 1.34322899e-07, 1.34328091e-07,\n",
       "            1.34333283e-07, 1.34338475e-07, 1.34343667e-07, 1.34348859e-07,\n",
       "            1.34354051e-07, 1.34359243e-07, 1.34364435e-07, 1.34369627e-07,\n",
       "            1.34374819e-07, 1.34380011e-07, 1.34385203e-07, 1.34390395e-07,\n",
       "            1.34395587e-07, 1.34400779e-07, 1.34405971e-07, 1.34411163e-07,\n",
       "            1.34416355e-07, 1.34421547e-07, 1.34426739e-07, 1.34431931e-07,\n",
       "            1.34437123e-07, 1.34442315e-07, 1.34447507e-07, 1.34452699e-07,\n",
       "            1.34457891e-07, 1.34463083e-07, 1.34468275e-07, 1.34473467e-07,\n",
       "            1.34478659e-07, 1.34483851e-07, 1.34489043e-07, 1.34494235e-07,\n",
       "            1.34499427e-07, 1.34504619e-07, 1.34509811e-07, 1.34515003e-07,\n",
       "            1.34520195e-07, 1.34525387e-07, 1.34530579e-07, 1.34535771e-07,\n",
       "            1.34540963e-07, 1.34546155e-07, 1.34551347e-07, 1.34556539e-07,\n",
       "            1.34561731e-07, 1.34566923e-07, 1.34572115e-07, 1.34577307e-07,\n",
       "            1.34582499e-07, 1.34587691e-07, 1.34592883e-07, 1.34598075e-07,\n",
       "            1.34603267e-07, 1.34608459e-07, 1.34613651e-07, 1.34618843e-07,\n",
       "            1.34624035e-07, 1.34629227e-07, 1.34634419e-07, 1.34639611e-07,\n",
       "            1.34644803e-07, 1.34649995e-07, 1.34655187e-07, 1.34660379e-07,\n",
       "            1.34665571e-07, 1.34670763e-07, 1.34675955e-07, 1.34681147e-07,\n",
       "            1.34686339e-07, 1.34691531e-07, 1.34696723e-07, 1.34701915e-07,\n",
       "            1.34707107e-07, 1.34712299e-07, 1.34717491e-07, 1.34722683e-07,\n",
       "            1.34727875e-07, 1.34733067e-07, 1.34738259e-07, 1.34743451e-07,\n",
       "            1.34748643e-07, 1.34753835e-07, 1.34759027e-07, 1.34764219e-07,\n",
       "            1.34769411e-07, 1.34774603e-07, 1.34779795e-07, 1.34784987e-07,\n",
       "            1.34790179e-07, 1.34795371e-07, 1.34800563e-07, 1.34805755e-07,\n",
       "            1.34810947e-07, 1.34816139e-07, 1.34821331e-07, 1.34826523e-07,\n",
       "            1.34831715e-07, 1.34836907e-07, 1.34842099e-07, 1.34847291e-07,\n",
       "            1.34852483e-07, 1.34857675e-07, 1.34862867e-07, 1.34868059e-07,\n",
       "            1.34873251e-07, 1.34878443e-07, 1.34883635e-07, 1.34888827e-07,\n",
       "            1.34894019e-07, 1.34899211e-07, 1.34904403e-07, 1.34909595e-07,\n",
       "            1.34914787e-07, 1.34919979e-07, 1.34925171e-07, 1.34930363e-07,\n",
       "            1.34935555e-07, 1.34940747e-07, 1.34945939e-07, 1.34951131e-07,\n",
       "            1.34956323e-07, 1.34961515e-07, 1.34966707e-07, 1.34971899e-07,\n",
       "            1.34977091e-07, 1.34982283e-07, 1.34987475e-07, 1.34992667e-07,\n",
       "            1.34997859e-07, 1.35003051e-07, 1.35008243e-07, 1.35013435e-07,\n",
       "            1.35018627e-07, 1.35023819e-07, 1.35029011e-07, 1.35034203e-07,\n",
       "            1.35039395e-07, 1.35044587e-07, 1.35049779e-07, 1.35054971e-07,\n",
       "            1.35060163e-07, 1.35065355e-07, 1.35070547e-07, 1.35075739e-07,\n",
       "            1.35080931e-07, 1.35086123e-07, 1.35091315e-07, 1.35096507e-07,\n",
       "            1.35101699e-07, 1.35106891e-07, 1.35112083e-07, 1.35117275e-07,\n",
       "            1.35122467e-07, 1.35127659e-07, 1.35132851e-07, 1.35138043e-07,\n",
       "            1.35143235e-07, 1.35148427e-07, 1.35153619e-07, 1.35158811e-07,\n",
       "            1.35164003e-07, 1.35169195e-07, 1.35174387e-07, 1.35179579e-07,\n",
       "            1.35184771e-07, 1.35189963e-07, 1.35195155e-07, 1.35200347e-07,\n",
       "            1.35205539e-07, 1.35210731e-07, 1.35215923e-07, 1.35221115e-07,\n",
       "            1.35226307e-07, 1.35231499e-07, 1.35236691e-07, 1.35241883e-07,\n",
       "            1.35247075e-07, 1.35252267e-07, 1.35257459e-07, 1.35262651e-07,\n",
       "            1.35267843e-07, 1.35273035e-07, 1.35278227e-07, 1.35283419e-07,\n",
       "            1.35288611e-07, 1.35293803e-07, 1.35298995e-07, 1.35304187e-07,\n",
       "            1.35309379e-07, 1.35314571e-07, 1.35319763e-07, 1.35324955e-07,\n",
       "            1.35330147e-07, 1.35335339e-07, 1.35340531e-07, 1.35345723e-07,\n",
       "            1.35350915e-07, 1.35356107e-07, 1.35361299e-07, 1.35366491e-07,\n",
       "            1.35371683e-07, 1.35376875e-07, 1.35382067e-07, 1.35387259e-07,\n",
       "            1.35392451e-07, 1.35397643e-07, 1.35402835e-07, 1.35408027e-07,\n",
       "            1.35413219e-07, 1.35418411e-07, 1.35423603e-07, 1.35428795e-07,\n",
       "            1.35433987e-07, 1.35439179e-07, 1.35444371e-07, 1.35449563e-07,\n",
       "            1.35454755e-07, 1.35459947e-07, 1.35465139e-07, 1.35470331e-07,\n",
       "            1.35475523e-07, 1.35480715e-07, 1.35485907e-07, 1.35491099e-07,\n",
       "            1.35496291e-07, 1.35501483e-07, 1.35506675e-07, 1.35511867e-07,\n",
       "            1.35517059e-07, 1.35522251e-07, 1.35527443e-07, 1.35532635e-07,\n",
       "            1.35537827e-07, 1.35543019e-07, 1.35548211e-07, 1.35553403e-07,\n",
       "            1.35558595e-07, 1.35563787e-07, 1.35568979e-07, 1.35574171e-07,\n",
       "            1.35579363e-07, 1.35584555e-07, 1.35589747e-07, 1.35594939e-07,\n",
       "            1.35600131e-07, 1.35605323e-07, 1.35610515e-07, 1.35615707e-07,\n",
       "            1.35620899e-07, 1.35626091e-07, 1.35631283e-07, 1.35636475e-07,\n",
       "            1.35641667e-07, 1.35646859e-07, 1.35652051e-07, 1.35657243e-07,\n",
       "            1.35662435e-07, 1.35667627e-07, 1.35672819e-07, 1.35678011e-07,\n",
       "            1.35683203e-07, 1.35688395e-07, 1.35693587e-07, 1.35698779e-07,\n",
       "            1.35703971e-07, 1.35709163e-07, 1.35714355e-07, 1.35719547e-07,\n",
       "            1.35724739e-07, 1.35729931e-07, 1.35735123e-07, 1.35740315e-07,\n",
       "            1.35745507e-07, 1.35750699e-07, 1.35755891e-07, 1.35761083e-07,\n",
       "            1.35766275e-07, 1.35771467e-07, 1.35776659e-07, 1.35781851e-07,\n",
       "            1.35787043e-07, 1.35792235e-07, 1.35797427e-07, 1.35802619e-07,\n",
       "            1.35807811e-07, 1.35813003e-07, 1.35818195e-07, 1.35823387e-07] m>)"
      ]
     },
     "execution_count": 87,
     "metadata": {},
     "output_type": "execute_result"
    }
   ],
   "source": [
    "all_world_coords"
   ]
  },
  {
   "cell_type": "markdown",
   "metadata": {},
   "source": [
    "#### Pixel to World & World to Pixel"
   ]
  },
  {
   "cell_type": "markdown",
   "metadata": {},
   "source": [
    "If you want to convert the other way, from world coordinates to pixels, or are interested in only a subset of pixels and want a little more efficiency, you can use the ```pixel_to_world``` and ```world_to_pixel``` methods.\n",
    "\n",
    "Let's convert just the (0, 0, 0) pixel to world coordinates."
   ]
  },
  {
   "cell_type": "code",
   "execution_count": 88,
   "metadata": {},
   "outputs": [
    {
     "data": {
      "text/plain": [
       "[<Quantity [-0.06751967] deg>,\n",
       " <Quantity [-0.00099777] deg>,\n",
       " <Quantity [1.33170275e-07] m>]"
      ]
     },
     "execution_count": 88,
     "metadata": {},
     "output_type": "execute_result"
    }
   ],
   "source": [
    "my_cii_scan0.pixel_to_world(u.Quantity([0], unit=u.pix), \n",
    "                            u.Quantity([0], unit=u.pix), \n",
    "                            u.Quantity([0], unit=u.pix))"
   ]
  },
  {
   "cell_type": "markdown",
   "metadata": {},
   "source": [
    "Let's now take that output and convert back to pixel coordinates."
   ]
  },
  {
   "cell_type": "code",
   "execution_count": 90,
   "metadata": {},
   "outputs": [
    {
     "data": {
      "text/plain": [
       "[<Quantity -7.67457198e-06 pix>,\n",
       " <Quantity -5.63684941e-06 pix>,\n",
       " <Quantity -2.88905508e-06 pix>]"
      ]
     },
     "execution_count": 90,
     "metadata": {},
     "output_type": "execute_result"
    }
   ],
   "source": [
    "my_cii_scan0.world_to_pixel(-0.06751967*u.deg, -0.00099777*u.deg, 1.33170275e-07*u.m)"
   ]
  },
  {
   "cell_type": "markdown",
   "metadata": {},
   "source": [
    "Notice that within numerical error, we can got back to (0, 0, 0) in pixel space."
   ]
  },
  {
   "cell_type": "markdown",
   "metadata": {},
   "source": [
    "As many pixels as you like can be entered to the ```pixel_to_world``` and ```world_to_pixel``` methods.  For example, let's also convert the (7, 7, 7) pixel:"
   ]
  },
  {
   "cell_type": "code",
   "execution_count": 91,
   "metadata": {},
   "outputs": [
    {
     "data": {
      "text/plain": [
       "[<Quantity [-0.06751967, -0.06556519] deg>,\n",
       " <Quantity [-0.00099777,  0.00027411] deg>,\n",
       " <Quantity [1.33170275e-07, 1.33206619e-07] m>]"
      ]
     },
     "execution_count": 91,
     "metadata": {},
     "output_type": "execute_result"
    }
   ],
   "source": [
    "my_cii_scan0.pixel_to_world(u.Quantity([0, 7], unit=u.pix), \n",
    "                            u.Quantity([0, 7], unit=u.pix), \n",
    "                            u.Quantity([0, 7], unit=u.pix))"
   ]
  },
  {
   "cell_type": "markdown",
   "metadata": {},
   "source": [
    "## SJI"
   ]
  },
  {
   "cell_type": "markdown",
   "metadata": {},
   "source": [
    "Let's now explore the tools available for handling SJI data."
   ]
  },
  {
   "cell_type": "markdown",
   "metadata": {},
   "source": [
    "### Reading FITS files"
   ]
  },
  {
   "cell_type": "code",
   "execution_count": 93,
   "metadata": {},
   "outputs": [
    {
     "ename": "SyntaxError",
     "evalue": "invalid syntax (sji.py, line 477)",
     "output_type": "error",
     "traceback": [
      "Traceback \u001b[0;36m(most recent call last)\u001b[0m:\n",
      "  File \u001b[1;32m\"/Users/Danny/anaconda3/envs/irispy-ndcube-sunpy-dev/lib/python3.6/site-packages/IPython/core/interactiveshell.py\"\u001b[0m, line \u001b[1;32m2963\u001b[0m, in \u001b[1;35mrun_code\u001b[0m\n    exec(code_obj, self.user_global_ns, self.user_ns)\n",
      "\u001b[0;36m  File \u001b[0;32m\"<ipython-input-93-fb1163d3af7e>\"\u001b[0;36m, line \u001b[0;32m1\u001b[0;36m, in \u001b[0;35m<module>\u001b[0;36m\u001b[0m\n\u001b[0;31m    from irispy.sji import read_iris_sji_level2_fits\u001b[0m\n",
      "\u001b[0;36m  File \u001b[0;32m\"/Users/Danny/sunpy_dev/irispy/irispy/sji.py\"\u001b[0;36m, line \u001b[0;32m477\u001b[0m\n\u001b[0;31m    hdulist = fits.open(filename, memmap=memmap, do_not_scale_image_data=memmap)  hdulist.verify('fix')\u001b[0m\n\u001b[0m                                                                                        ^\u001b[0m\n\u001b[0;31mSyntaxError\u001b[0m\u001b[0;31m:\u001b[0m invalid syntax\n"
     ]
    }
   ],
   "source": [
    "from irispy.sji import read_iris_sji_level2_fits"
   ]
  },
  {
   "cell_type": "code",
   "execution_count": 94,
   "metadata": {},
   "outputs": [],
   "source": [
    "# Define a single SJI filename here.\n",
    "my_sji_file = \"iris_l2_20180617_032355_3690215148_SJI_1330_t000.fits\""
   ]
  },
  {
   "cell_type": "code",
   "execution_count": 95,
   "metadata": {},
   "outputs": [
    {
     "ename": "NameError",
     "evalue": "name 'read_iris_sji_level2_fits' is not defined",
     "output_type": "error",
     "traceback": [
      "\u001b[0;31m---------------------------------------------------------------------------\u001b[0m",
      "\u001b[0;31mNameError\u001b[0m                                 Traceback (most recent call last)",
      "\u001b[0;32m<ipython-input-95-c5a04987d0e1>\u001b[0m in \u001b[0;36m<module>\u001b[0;34m()\u001b[0m\n\u001b[1;32m      1\u001b[0m \u001b[0;31m# Enter the file name into the SJI FITS reader.\u001b[0m\u001b[0;34m\u001b[0m\u001b[0;34m\u001b[0m\u001b[0m\n\u001b[0;32m----> 2\u001b[0;31m \u001b[0mmy_sji\u001b[0m \u001b[0;34m=\u001b[0m \u001b[0mread_iris_sji_level2_fits\u001b[0m\u001b[0;34m(\u001b[0m\u001b[0mmy_sji_file\u001b[0m\u001b[0;34m)\u001b[0m\u001b[0;34m\u001b[0m\u001b[0m\n\u001b[0m",
      "\u001b[0;31mNameError\u001b[0m: name 'read_iris_sji_level2_fits' is not defined"
     ]
    }
   ],
   "source": [
    "# Enter the file name into the SJI FITS reader.\n",
    "my_sji = read_iris_sji_level2_fits(my_sji_file)"
   ]
  },
  {
   "cell_type": "markdown",
   "metadata": {},
   "source": [
    "### Structure of the IRISMapCube Class"
   ]
  },
  {
   "cell_type": "markdown",
   "metadata": {},
   "source": [
    "In this case, we will assume you have entered a single file and so we have produce an ```IRISMapCube```."
   ]
  },
  {
   "cell_type": "code",
   "execution_count": null,
   "metadata": {},
   "outputs": [],
   "source": [
    "my_sji"
   ]
  },
  {
   "cell_type": "markdown",
   "metadata": {},
   "source": [
    "Access the data, uncertainties, mask, unit, WCS transformation, metadata and auxiliary data via the following attributes, just like with the ```IRISSpectrogramCube```.\n",
    "\n",
    "__(The code is uncommented to avoid large print outs to the screen.  Uncomment and run to see the output.)__"
   ]
  },
  {
   "cell_type": "code",
   "execution_count": null,
   "metadata": {},
   "outputs": [],
   "source": [
    "#my_sji.data"
   ]
  },
  {
   "cell_type": "code",
   "execution_count": null,
   "metadata": {},
   "outputs": [],
   "source": [
    "#my_sji.uncertainty"
   ]
  },
  {
   "cell_type": "code",
   "execution_count": null,
   "metadata": {},
   "outputs": [],
   "source": [
    "#my_sji.mask"
   ]
  },
  {
   "cell_type": "code",
   "execution_count": null,
   "metadata": {},
   "outputs": [],
   "source": [
    "#my_sji.unit"
   ]
  },
  {
   "cell_type": "code",
   "execution_count": null,
   "metadata": {},
   "outputs": [],
   "source": [
    "#my_sji.wcs"
   ]
  },
  {
   "cell_type": "code",
   "execution_count": null,
   "metadata": {},
   "outputs": [],
   "source": [
    "#my_sji.meta"
   ]
  },
  {
   "cell_type": "code",
   "execution_count": null,
   "metadata": {},
   "outputs": [],
   "source": [
    "#my_sji.extra_coords"
   ]
  },
  {
   "cell_type": "markdown",
   "metadata": {},
   "source": [
    "### Inspecting the Data"
   ]
  },
  {
   "cell_type": "markdown",
   "metadata": {},
   "source": [
    "Analaogous methods and properties to those of the ```IRISSpectrogramCube``` class for inspecting the data also exists for ```IRISMapCube```."
   ]
  },
  {
   "cell_type": "code",
   "execution_count": null,
   "metadata": {},
   "outputs": [],
   "source": [
    "my_sji"
   ]
  },
  {
   "cell_type": "code",
   "execution_count": null,
   "metadata": {},
   "outputs": [],
   "source": [
    "my_sji.dimensions"
   ]
  },
  {
   "cell_type": "code",
   "execution_count": null,
   "metadata": {},
   "outputs": [],
   "source": [
    "my_sji.world_axis_physical_types"
   ]
  },
  {
   "cell_type": "markdown",
   "metadata": {},
   "source": [
    "We can produce a movie using the plot method."
   ]
  },
  {
   "cell_type": "code",
   "execution_count": null,
   "metadata": {},
   "outputs": [],
   "source": [
    "my_sji.plot()"
   ]
  },
  {
   "cell_type": "markdown",
   "metadata": {},
   "source": [
    "Again, customizing this plot is possible, but not explained here."
   ]
  },
  {
   "cell_type": "markdown",
   "metadata": {},
   "source": [
    "### Slicing/Indexing"
   ]
  },
  {
   "cell_type": "markdown",
   "metadata": {},
   "source": [
    "Say we want have a region of interest within our data between the 10th and 20th frames in time and between the 50th and 150th pixel in the longitude-direction and the 75th and 175th in the latitude-direction."
   ]
  },
  {
   "cell_type": "code",
   "execution_count": null,
   "metadata": {},
   "outputs": [],
   "source": [
    "sji_roi = my_sji[10:20, 50:150, 75:175]"
   ]
  },
  {
   "cell_type": "code",
   "execution_count": null,
   "metadata": {},
   "outputs": [],
   "source": [
    "sji_roi.dimensions"
   ]
  },
  {
   "cell_type": "code",
   "execution_count": null,
   "metadata": {},
   "outputs": [],
   "source": [
    "sji_roi.world_axis_physical_types"
   ]
  },
  {
   "cell_type": "code",
   "execution_count": null,
   "metadata": {},
   "outputs": [],
   "source": [
    "sji_roi.plot()"
   ]
  },
  {
   "cell_type": "markdown",
   "metadata": {},
   "source": [
    "### Exposure Time Correction"
   ]
  },
  {
   "cell_type": "code",
   "execution_count": null,
   "metadata": {},
   "outputs": [],
   "source": [
    "sji_roi.unit"
   ]
  },
  {
   "cell_type": "code",
   "execution_count": null,
   "metadata": {},
   "outputs": [],
   "source": [
    "sji_roi = sji_roi.apply_exposure_time_correction()"
   ]
  },
  {
   "cell_type": "code",
   "execution_count": null,
   "metadata": {},
   "outputs": [],
   "source": [
    "sji_roi.unit"
   ]
  },
  {
   "cell_type": "code",
   "execution_count": null,
   "metadata": {},
   "outputs": [],
   "source": [
    "sji_roi = sji_roi.apply_exposure_time_correction(undo=True)"
   ]
  },
  {
   "cell_type": "code",
   "execution_count": null,
   "metadata": {},
   "outputs": [],
   "source": [
    "sji_roi.unit"
   ]
  },
  {
   "cell_type": "markdown",
   "metadata": {},
   "source": [
    "### Dust Mask"
   ]
  },
  {
   "cell_type": "markdown",
   "metadata": {},
   "source": [
    "The ```IRISMapCube``` has a method that enables you to mask or unmask pixels which are affected by dust.  This is similar to the dustbuster routine in SSW except that it doesn't interpolate the data in the dusty pixels.  It simply identifies them in the mask.  To mask the dusty pixels, do:"
   ]
  },
  {
   "cell_type": "code",
   "execution_count": 92,
   "metadata": {},
   "outputs": [
    {
     "ename": "NameError",
     "evalue": "name 'my_sji' is not defined",
     "output_type": "error",
     "traceback": [
      "\u001b[0;31m---------------------------------------------------------------------------\u001b[0m",
      "\u001b[0;31mNameError\u001b[0m                                 Traceback (most recent call last)",
      "\u001b[0;32m<ipython-input-92-49ec94e75f9b>\u001b[0m in \u001b[0;36m<module>\u001b[0;34m()\u001b[0m\n\u001b[0;32m----> 1\u001b[0;31m \u001b[0mmy_sji\u001b[0m\u001b[0;34m.\u001b[0m\u001b[0mapply_dust_mask\u001b[0m\u001b[0;34m(\u001b[0m\u001b[0;34m)\u001b[0m\u001b[0;34m\u001b[0m\u001b[0m\n\u001b[0m",
      "\u001b[0;31mNameError\u001b[0m: name 'my_sji' is not defined"
     ]
    }
   ],
   "source": [
    "my_sji.apply_dust_mask()"
   ]
  },
  {
   "cell_type": "markdown",
   "metadata": {},
   "source": [
    "To unmask dusty pixels, do:"
   ]
  },
  {
   "cell_type": "code",
   "execution_count": null,
   "metadata": {},
   "outputs": [],
   "source": [
    "my_sji.apply_dust_mask(undo=True)"
   ]
  },
  {
   "cell_type": "code",
   "execution_count": null,
   "metadata": {},
   "outputs": [],
   "source": []
  }
 ],
 "metadata": {
  "kernelspec": {
   "display_name": "Python 3",
   "language": "python",
   "name": "python3"
  },
  "language_info": {
   "codemirror_mode": {
    "name": "ipython",
    "version": 3
   },
   "file_extension": ".py",
   "mimetype": "text/x-python",
   "name": "python",
   "nbconvert_exporter": "python",
   "pygments_lexer": "ipython3",
   "version": "3.6.5"
  }
 },
 "nbformat": 4,
 "nbformat_minor": 2
}
